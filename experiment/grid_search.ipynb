{
 "cells": [
  {
   "attachments": {},
   "cell_type": "markdown",
   "metadata": {},
   "source": [
    "# Hospital Readmissions (Classification)"
   ]
  },
  {
   "cell_type": "code",
   "execution_count": 11,
   "metadata": {},
   "outputs": [],
   "source": [
    "import pandas as pd\n",
    "readmissions = pd.read_csv(\"../data/classification/readmissions_clean.csv\")\n"
   ]
  },
  {
   "cell_type": "code",
   "execution_count": 10,
   "metadata": {},
   "outputs": [],
   "source": [
    "from sklearn.ensemble import RandomForestClassifier\n",
    "from sklearn.metrics import accuracy_score, precision_score, recall_score\n",
    "from sklearn.model_selection import GridSearchCV, train_test_split\n"
   ]
  },
  {
   "cell_type": "code",
   "execution_count": 14,
   "metadata": {},
   "outputs": [
    {
     "name": "stdout",
     "output_type": "stream",
     "text": [
      "Grid search execution time: 604.5506429672241 s\n"
     ]
    }
   ],
   "source": [
    "# Split into X and Y\n",
    "X = readmissions.drop('readmitted', axis=1)\n",
    "y = readmissions[\"readmitted\"]\n",
    "\n",
    "# Split into train-test\n",
    "X_train, X_test, y_train, y_test = train_test_split(X, y, test_size=0.2, random_state = 3)\n",
    "\n",
    "# Fit Random Forest\n",
    "rf = RandomForestClassifier(random_state=3)\n",
    "\n",
    "# Choose a parameter grid for grid search\n",
    "param_grid = {\n",
    "    'max_depth': [5, 7, 10, 15],\n",
    "    'max_features': [3, 5, 8, 10],\n",
    "    'n_estimators': [50, 150, 200, 300]\n",
    "}\n",
    "\n",
    "# Time grid search\n",
    "import time\n",
    "start = time.time()\n",
    "\n",
    "grid_search_classifier = GridSearchCV(estimator = rf, param_grid = param_grid)\n",
    "\n",
    "grid_search_classifier.fit(X_train, y_train)\n",
    "\n",
    "end = time.time()\n",
    "\n",
    "print(\"Grid search execution time:\",\n",
    "      (end-start), \"s\")\n"
   ]
  },
  {
   "cell_type": "code",
   "execution_count": 15,
   "metadata": {},
   "outputs": [
    {
     "data": {
      "text/plain": [
       "{'max_depth': 5, 'max_features': 3, 'n_estimators': 200}"
      ]
     },
     "execution_count": 15,
     "metadata": {},
     "output_type": "execute_result"
    }
   ],
   "source": [
    "# Get optimal parameters\n",
    "grid_search_classifier.best_params_"
   ]
  },
  {
   "cell_type": "code",
   "execution_count": 17,
   "metadata": {},
   "outputs": [
    {
     "name": "stdout",
     "output_type": "stream",
     "text": [
      "Accuracy: 0.6278\n",
      "Precision: 0.6252028123309897\n",
      "Recall: 0.4974182444061962\n"
     ]
    }
   ],
   "source": [
    "# Fit model with optimal parameters\n",
    "rf = RandomForestClassifier(random_state=3, max_depth = 5, max_features = 3, n_estimators = 200)\n",
    "rf.fit(X_train, y_train)\n",
    "y_pred = rf.predict(X_test)\n",
    "\n",
    "# Get performance metrics\n",
    "accuracy = accuracy_score(y_test, y_pred)\n",
    "precision = precision_score(y_test, y_pred)\n",
    "recall = recall_score(y_test, y_pred)\n",
    "\n",
    "print(\"Accuracy:\", accuracy)\n",
    "print(\"Precision:\", precision)\n",
    "print(\"Recall:\", recall)"
   ]
  },
  {
   "attachments": {},
   "cell_type": "markdown",
   "metadata": {},
   "source": [
    "# Car Emissions (Regression)"
   ]
  },
  {
   "cell_type": "code",
   "execution_count": 18,
   "metadata": {},
   "outputs": [],
   "source": [
    "from sklearn.ensemble import RandomForestRegressor\n",
    "from sklearn.metrics import mean_absolute_error, mean_squared_error\n",
    "from sklearn.model_selection import GridSearchCV, train_test_split"
   ]
  },
  {
   "cell_type": "code",
   "execution_count": 22,
   "metadata": {},
   "outputs": [],
   "source": [
    "import numpy as np"
   ]
  },
  {
   "cell_type": "code",
   "execution_count": 19,
   "metadata": {},
   "outputs": [
    {
     "name": "stdout",
     "output_type": "stream",
     "text": [
      "Grid search execution time: 185.21761798858643 s\n"
     ]
    }
   ],
   "source": [
    "import pandas as pd\n",
    "emissions = pd.read_csv(\"../data/regression/emissions_cleaned.csv\")\n",
    "\n",
    "# Split into X and Y\n",
    "X = emissions.drop('co2_emissions', axis=1)\n",
    "y = emissions[\"co2_emissions\"]\n",
    "\n",
    "# Split into train-test\n",
    "X_train, X_test, y_train, y_test = train_test_split(X, y, test_size=0.2, random_state = 3)\n",
    "\n",
    "# Fit Random Forest\n",
    "rf = RandomForestRegressor(random_state=3)\n",
    "\n",
    "# Choose a parameter grid for grid search\n",
    "param_grid = {\n",
    "    'max_depth': [5, 7, 10, 15],\n",
    "    'max_features': [3, 5, 8, 10],\n",
    "    'n_estimators': [50, 150, 200, 300]\n",
    "}\n",
    "\n",
    "# Time grid search\n",
    "import time\n",
    "start = time.time()\n",
    "\n",
    "grid_search_regressor = GridSearchCV(estimator = rf, param_grid = param_grid)\n",
    "\n",
    "grid_search_regressor.fit(X_train, y_train)\n",
    "\n",
    "end = time.time()\n",
    "\n",
    "print(\"Grid search execution time:\",\n",
    "      (end-start), \"s\")"
   ]
  },
  {
   "cell_type": "code",
   "execution_count": 20,
   "metadata": {},
   "outputs": [
    {
     "data": {
      "text/plain": [
       "{'max_depth': 15, 'max_features': 10, 'n_estimators': 300}"
      ]
     },
     "execution_count": 20,
     "metadata": {},
     "output_type": "execute_result"
    }
   ],
   "source": [
    "# Get optimal parameters\n",
    "grid_search_regressor.best_params_\n"
   ]
  },
  {
   "cell_type": "code",
   "execution_count": 23,
   "metadata": {},
   "outputs": [
    {
     "name": "stdout",
     "output_type": "stream",
     "text": [
      "Mean Absolute Error (MAE): 1.6924411810082374\n",
      "Mean Squared Error (MSE): 10.143196795641945\n",
      "Root Mean Squared Error (RMSE): 3.1848385823526355\n",
      "Mean Absolute Percentage Error (MAPE): 0.7\n",
      "Accuracy: 99.3\n"
     ]
    }
   ],
   "source": [
    "# Fit model with optimal parameters\n",
    "rf = RandomForestRegressor(random_state=3, max_depth = 15, max_features = 10, n_estimators = 300)\n",
    "\n",
    "rf.fit(X_train, y_train)\n",
    "y_pred = rf.predict(X_test)\n",
    "\n",
    "print('Mean Absolute Error (MAE):', mean_absolute_error(y_test, y_pred))\n",
    "print('Mean Squared Error (MSE):', mean_squared_error(y_test, y_pred))\n",
    "print('Root Mean Squared Error (RMSE):', np.sqrt(mean_squared_error(y_test, y_pred)))\n",
    "mape = np.mean(np.abs((y_test - y_pred) / np.abs(y_test)))\n",
    "print('Mean Absolute Percentage Error (MAPE):', round(mape * 100, 2))\n",
    "print('Accuracy:', round(100*(1 - mape), 2))"
   ]
  }
 ],
 "metadata": {
  "kernelspec": {
   "display_name": "venv",
   "language": "python",
   "name": "python3"
  },
  "language_info": {
   "codemirror_mode": {
    "name": "ipython",
    "version": 3
   },
   "file_extension": ".py",
   "mimetype": "text/x-python",
   "name": "python",
   "nbconvert_exporter": "python",
   "pygments_lexer": "ipython3",
   "version": "3.9.6"
  },
  "orig_nbformat": 4
 },
 "nbformat": 4,
 "nbformat_minor": 2
}
