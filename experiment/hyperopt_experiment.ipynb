{
 "cells": [
  {
   "cell_type": "code",
   "execution_count": 41,
   "id": "3f735c54-1e8d-4442-a724-459d86bf9447",
   "metadata": {},
   "outputs": [],
   "source": [
    "import hyperopt as hp\n",
    "from hyperopt import fmin, tpe, hp\n",
    "from hyperopt.hp import quniform, loguniform\n",
    "\n",
    "import time\n",
    "\n",
    "import pandas as pd\n",
    "import numpy as np\n",
    "from sklearn.ensemble import RandomForestRegressor\n",
    "from sklearn.ensemble import RandomForestClassifier\n",
    "from sklearn.model_selection import train_test_split, cross_val_score, GridSearchCV\n",
    "from sklearn.metrics import mean_absolute_error, mean_squared_error, mean_absolute_percentage_error\n",
    "\n",
    "from sklearn.metrics import accuracy_score, precision_score, recall_score"
   ]
  },
  {
   "cell_type": "code",
   "execution_count": 51,
   "id": "da5c7c6b-8d45-41bd-8d9f-f85ac2cb7916",
   "metadata": {},
   "outputs": [],
   "source": [
    "RANDOM_SEED = 3"
   ]
  },
  {
   "cell_type": "markdown",
   "id": "7fc94225-98d7-484d-b183-16f29e51745e",
   "metadata": {},
   "source": [
    "### Import datasets"
   ]
  },
  {
   "cell_type": "code",
   "execution_count": 35,
   "id": "e4256afa-79ad-4382-97ed-eb56a79c937d",
   "metadata": {},
   "outputs": [],
   "source": [
    "readmissions = pd.read_csv('../data/classification/readmissions_clean.csv')\n",
    "emissions = pd.read_csv(\"../data/regression/emissions_cleaned.csv\")"
   ]
  },
  {
   "cell_type": "code",
   "execution_count": 48,
   "id": "5af7a1fe-6e72-476f-a945-ff4aac9ceb16",
   "metadata": {},
   "outputs": [],
   "source": [
    "def print_elapsed_time(start, end):\n",
    "    elapsed_time = end - start\n",
    "    minutes = int(elapsed_time // 60)\n",
    "    seconds = int(elapsed_time % 60)\n",
    "    print(\"Elapsed time: {} minutes, {} seconds\".format(minutes, seconds))"
   ]
  },
  {
   "cell_type": "markdown",
   "id": "f92cb6a5-eab7-4cc3-b4c2-8a4aeaaeb450",
   "metadata": {},
   "source": [
    "### Classification"
   ]
  },
  {
   "cell_type": "code",
   "execution_count": 34,
   "id": "e4f2ae8f-4d3d-4146-81cf-72ce21315728",
   "metadata": {},
   "outputs": [],
   "source": [
    "# Split dataset into X and Y\n",
    "X = readmissions.drop(['readmitted'], axis=1)\n",
    "y = readmissions.readmitted"
   ]
  },
  {
   "cell_type": "code",
   "execution_count": 52,
   "id": "c347ea65-ecce-4d15-8b87-93e73edc8c78",
   "metadata": {},
   "outputs": [],
   "source": [
    "# splitting X and Y into training and testing sets\n",
    "X_train, X_test, y_train, y_test = train_test_split(X,y, random_state=RANDOM_SEED, test_size=0.2)"
   ]
  },
  {
   "cell_type": "code",
   "execution_count": 13,
   "id": "62749895-8c70-42dc-84ce-2968480fe299",
   "metadata": {},
   "outputs": [],
   "source": [
    "def objective(params):\n",
    "    n_estimators = int(params['n_estimators'])\n",
    "    max_depth = int(params['max_depth'])\n",
    "    max_features = int(params['max_features'])\n",
    "\n",
    "    rf = RandomForestClassifier(n_estimators=n_estimators, max_depth=max_depth, max_features=max_features)\n",
    "    rf.fit(X_train, y_train)\n",
    "    \n",
    "    return -accuracy_score(y_test, rf.predict(X_test))\n",
    "\n",
    "space = {\n",
    "    'n_estimators': quniform('n_estimators', 2, 500, 1),\n",
    "    'max_depth': quniform('max_depth', 1, 50, 1),\n",
    "    'max_features': quniform('max_features', 3, 10, 1)\n",
    "}"
   ]
  },
  {
   "cell_type": "code",
   "execution_count": 18,
   "id": "ba2b049d-ac45-4a61-b541-86d221abf842",
   "metadata": {},
   "outputs": [
    {
     "name": "stdout",
     "output_type": "stream",
     "text": [
      "100%|██████████| 100/100 [06:33<00:00,  3.93s/trial, best loss: -0.6304]\n"
     ]
    }
   ],
   "source": [
    "start = time.time()                                \n",
    "best = fmin(objective, space, algo=tpe.suggest, max_evals=100)\n",
    "end = time.time()"
   ]
  },
  {
   "cell_type": "code",
   "execution_count": 19,
   "id": "07afb77c-230a-4464-8cca-fb9397fabe2f",
   "metadata": {},
   "outputs": [
    {
     "name": "stdout",
     "output_type": "stream",
     "text": [
      "Best Hyperparameters:  {'max_depth': 8.0, 'max_features': 3.0, 'n_estimators': 253.0}\n"
     ]
    }
   ],
   "source": [
    "print(\"Best Hyperparameters: \", best)"
   ]
  },
  {
   "cell_type": "code",
   "execution_count": 33,
   "id": "e0e01102-ca30-4d84-b33a-4478e47da39f",
   "metadata": {},
   "outputs": [
    {
     "name": "stdout",
     "output_type": "stream",
     "text": [
      "Accuracy: 0.6294\n",
      "Precision: 0.6323777403035413\n",
      "Recall: 0.48407917383821\n"
     ]
    }
   ],
   "source": [
    "\"\"\"HYPEROPT BASED ON MAXIMIZING ACCURACY\"\"\"\n",
    "\n",
    "rf = RandomForestClassifier(max_depth=best['max_depth'], max_features=int(best['max_features']), n_estimators=int(best['n_estimators']))\n",
    "rf.fit(X_train, y_train)\n",
    "\n",
    "y_pred = rf.predict(X_test)\n",
    "\n",
    "accuracy = accuracy_score(y_test, y_pred)\n",
    "precision = precision_score(y_test, y_pred)\n",
    "recall = recall_score(y_test, y_pred)\n",
    "\n",
    "\n",
    "print(\"Accuracy:\", accuracy)\n",
    "print(\"Precision:\", precision)\n",
    "print(\"Recall:\", recall)"
   ]
  },
  {
   "cell_type": "code",
   "execution_count": 49,
   "id": "96f4a353-6938-4d9e-b971-dfcdd0378526",
   "metadata": {},
   "outputs": [
    {
     "name": "stdout",
     "output_type": "stream",
     "text": [
      "Elapsed time: 2 minutes, 14 seconds\n"
     ]
    }
   ],
   "source": [
    "print_elapsed_time(start,end)"
   ]
  },
  {
   "cell_type": "markdown",
   "id": "b8b436cb-6338-4509-9f3e-d1a51c6bdbf1",
   "metadata": {},
   "source": [
    "### Regression"
   ]
  },
  {
   "cell_type": "code",
   "execution_count": 36,
   "id": "ac8ace51-63a5-48e2-857b-e1a82f2d7fd6",
   "metadata": {},
   "outputs": [],
   "source": [
    "# Split dataset into X and Y\n",
    "X = emissions.drop('co2_emissions', axis=1)\n",
    "y = emissions[\"co2_emissions\"]"
   ]
  },
  {
   "cell_type": "code",
   "execution_count": 53,
   "id": "eb1d9862-2d7d-4b85-a589-8164eac21ba9",
   "metadata": {},
   "outputs": [],
   "source": [
    "X_train, X_test, y_train, y_test = train_test_split(X,y, random_state=RANDOM_SEED, test_size=0.2)"
   ]
  },
  {
   "cell_type": "code",
   "execution_count": 42,
   "id": "69c6c9ee-f4eb-42be-9ede-0776d67191be",
   "metadata": {},
   "outputs": [],
   "source": [
    "def objective(params):\n",
    "    n_estimators = int(params['n_estimators'])\n",
    "    max_depth = params['max_depth']\n",
    "    max_features = int(params['max_features'])\n",
    "    rf = RandomForestRegressor(n_estimators=n_estimators, max_depth=max_depth, max_features=max_features)\n",
    "    score = cross_val_score(rf, X_train, y_train, n_jobs=-1, cv=3).mean()\n",
    "    return -score\n",
    "\n",
    "space = {\n",
    "    'n_estimators': quniform('n_estimators', 2, 500, 1),\n",
    "    'max_depth': loguniform('max_depth', np.log(1), np.log(50)),\n",
    "    'max_features': quniform('max_features', 3, 10, 1)\n",
    "}"
   ]
  },
  {
   "cell_type": "code",
   "execution_count": 43,
   "id": "522be892-99bb-4ac6-a847-7aa86a3c076c",
   "metadata": {},
   "outputs": [
    {
     "name": "stdout",
     "output_type": "stream",
     "text": [
      "100%|██████████| 100/100 [02:14<00:00,  1.34s/trial, best loss: -0.9973735124662598]\n"
     ]
    }
   ],
   "source": [
    "start = time.time()\n",
    "best = fmin(objective, space, algo=tpe.suggest, max_evals=100)\n",
    "end = time.time()"
   ]
  },
  {
   "cell_type": "code",
   "execution_count": 46,
   "id": "f7539e9b-3608-4957-b96d-67c7a4f0c750",
   "metadata": {},
   "outputs": [
    {
     "name": "stdout",
     "output_type": "stream",
     "text": [
      "Best Hyperparameters:  {'max_depth': 17.32022850197896, 'max_features': 10.0, 'n_estimators': 310.0}\n"
     ]
    }
   ],
   "source": [
    "print(\"Best Hyperparameters: \", best)"
   ]
  },
  {
   "cell_type": "code",
   "execution_count": 50,
   "id": "1ac85edb-0a88-4aed-8569-721e793d4b61",
   "metadata": {},
   "outputs": [
    {
     "name": "stdout",
     "output_type": "stream",
     "text": [
      "Elapsed time: 2 minutes, 14 seconds\n"
     ]
    }
   ],
   "source": [
    "print_elapsed_time(start, end)"
   ]
  },
  {
   "cell_type": "code",
   "execution_count": 56,
   "id": "68d8d512-56f3-4034-8705-0e1aacb822a5",
   "metadata": {},
   "outputs": [],
   "source": [
    "#HYPEROPT EXPERIMENT\n",
    "rf = RandomForestRegressor(random_state=RANDOM_SEED , max_depth = best['max_depth'], max_features = int(best['max_features']), n_estimators = int(best['n_estimators']))\n",
    "rf.fit(X_train, y_train)\n",
    "y_pred = rf.predict(X_test)"
   ]
  },
  {
   "cell_type": "code",
   "execution_count": 55,
   "id": "903a47a8-bf1a-4b24-8398-03e0f14052c2",
   "metadata": {},
   "outputs": [
    {
     "name": "stdout",
     "output_type": "stream",
     "text": [
      "MSE:  9.06894317355322 , MAE:  1.8720278567997244 , MAPE:  0.0075961756651046165 Accuracy:  0.9973607367109811\n"
     ]
    }
   ],
   "source": [
    "# Get performance metrics\n",
    "MSE = -cross_val_score(rf, X_train,y_train, cv=3, scoring='neg_mean_squared_error').mean()\n",
    "MAE = -cross_val_score(rf, X_train,y_train, cv=3, scoring='neg_mean_absolute_error').mean()\n",
    "MAPE = -cross_val_score(rf, X_train,y_train, cv=3, scoring='neg_mean_absolute_percentage_error').mean()\n",
    "Accuracy = cross_val_score(rf, X_train,y_train, cv=3).mean()\n",
    "\n",
    "print('MSE: ', MSE, ', MAE: ', MAE, ', MAPE: ', MAPE, 'Accuracy: ', Accuracy)"
   ]
  }
 ],
 "metadata": {
  "kernelspec": {
   "display_name": "Python 3 (ipykernel)",
   "language": "python",
   "name": "python3"
  },
  "language_info": {
   "codemirror_mode": {
    "name": "ipython",
    "version": 3
   },
   "file_extension": ".py",
   "mimetype": "text/x-python",
   "name": "python",
   "nbconvert_exporter": "python",
   "pygments_lexer": "ipython3",
   "version": "3.10.2"
  }
 },
 "nbformat": 4,
 "nbformat_minor": 5
}
