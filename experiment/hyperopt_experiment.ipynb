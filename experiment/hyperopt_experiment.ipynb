{
 "cells": [
  {
   "cell_type": "code",
   "execution_count": 17,
   "id": "3f735c54-1e8d-4442-a724-459d86bf9447",
   "metadata": {},
   "outputs": [],
   "source": [
    "import hyperopt as hp\n",
    "from hyperopt import fmin, tpe, hp\n",
    "from hyperopt.hp import quniform\n",
    "\n",
    "import time\n",
    "\n",
    "import pandas as pd\n",
    "import numpy as np\n",
    "from sklearn.ensemble import RandomForestRegressor\n",
    "from sklearn.ensemble import RandomForestClassifier\n",
    "from sklearn.model_selection import train_test_split, cross_val_score, GridSearchCV\n",
    "from sklearn.metrics import mean_absolute_error, mean_squared_error, mean_absolute_percentage_error\n",
    "\n",
    "from sklearn.metrics import accuracy_score, precision_score, recall_score"
   ]
  },
  {
   "cell_type": "markdown",
   "id": "f92cb6a5-eab7-4cc3-b4c2-8a4aeaaeb450",
   "metadata": {},
   "source": [
    "### Classification"
   ]
  },
  {
   "cell_type": "code",
   "execution_count": 3,
   "id": "e4f2ae8f-4d3d-4146-81cf-72ce21315728",
   "metadata": {},
   "outputs": [],
   "source": [
    "readmissions = pd.read_csv('../data/classification/readmissions_clean.csv')\n",
    "\n",
    "# Split dataset into X and Y\n",
    "X = readmissions.drop(['readmitted'], axis=1)\n",
    "y = readmissions.readmitted"
   ]
  },
  {
   "cell_type": "code",
   "execution_count": 4,
   "id": "c347ea65-ecce-4d15-8b87-93e73edc8c78",
   "metadata": {},
   "outputs": [],
   "source": [
    "# splitting X and Y into training and testing sets\n",
    "X_train, X_test, y_train, y_test = train_test_split(X,y, random_state=3, test_size=0.2)"
   ]
  },
  {
   "cell_type": "code",
   "execution_count": 13,
   "id": "62749895-8c70-42dc-84ce-2968480fe299",
   "metadata": {},
   "outputs": [],
   "source": [
    "def objective(params):\n",
    "    n_estimators = int(params['n_estimators'])\n",
    "    max_depth = int(params['max_depth'])\n",
    "    max_features = int(params['max_features'])\n",
    "\n",
    "    rf = RandomForestClassifier(n_estimators=n_estimators, max_depth=max_depth, max_features=max_features)\n",
    "    rf.fit(X_train, y_train)\n",
    "    \n",
    "    return -accuracy_score(y_test, rf.predict(X_test))\n",
    "\n",
    "space = {\n",
    "    'n_estimators': quniform('n_estimators', 2, 500, 1),\n",
    "    'max_depth': quniform('max_depth', 1, 50, 1),\n",
    "    'max_features': quniform('max_features', 3, 10, 1)\n",
    "}"
   ]
  },
  {
   "cell_type": "code",
   "execution_count": 18,
   "id": "ba2b049d-ac45-4a61-b541-86d221abf842",
   "metadata": {},
   "outputs": [
    {
     "name": "stdout",
     "output_type": "stream",
     "text": [
      "100%|██████████| 100/100 [06:33<00:00,  3.93s/trial, best loss: -0.6304]\n"
     ]
    }
   ],
   "source": [
    "start = time.time()                                \n",
    "best = fmin(objective, space, algo=tpe.suggest, max_evals=100)\n",
    "end = time.time()"
   ]
  },
  {
   "cell_type": "code",
   "execution_count": 19,
   "id": "07afb77c-230a-4464-8cca-fb9397fabe2f",
   "metadata": {},
   "outputs": [
    {
     "name": "stdout",
     "output_type": "stream",
     "text": [
      "Best Hyperparameters:  {'max_depth': 8.0, 'max_features': 3.0, 'n_estimators': 253.0}\n"
     ]
    }
   ],
   "source": [
    "print(\"Best Hyperparameters: \", best)"
   ]
  },
  {
   "cell_type": "code",
   "execution_count": 31,
   "id": "e0e01102-ca30-4d84-b33a-4478e47da39f",
   "metadata": {},
   "outputs": [
    {
     "name": "stdout",
     "output_type": "stream",
     "text": [
      "Accuracy: 0.6282\n",
      "Precision: 0.6309859154929578\n",
      "Recall: 0.4819277108433735\n"
     ]
    }
   ],
   "source": [
    "\"\"\"HYPEROPT BASED ON MAXIMIZING ACCURACY\"\"\"\n",
    "\n",
    "rf = RandomForestClassifier(max_depth=best['max_depth'], max_features=int(best['max_features']), n_estimators=int(best['n_estimators']))\n",
    "rf.fit(X_train, y_train)\n",
    "\n",
    "y_pred = rf.predict(X_test)\n",
    "\n",
    "accuracy = accuracy_score(y_test, y_pred)\n",
    "precision = precision_score(y_test, y_pred)\n",
    "recall = recall_score(y_test, y_pred)\n",
    "\n",
    "\n",
    "print(\"Accuracy:\", accuracy)\n",
    "print(\"Precision:\", precision)\n",
    "print(\"Recall:\", recall)"
   ]
  },
  {
   "cell_type": "code",
   "execution_count": 27,
   "id": "96f4a353-6938-4d9e-b971-dfcdd0378526",
   "metadata": {},
   "outputs": [
    {
     "name": "stdout",
     "output_type": "stream",
     "text": [
      "Elapsed time: 6 minutes, 33 seconds\n"
     ]
    }
   ],
   "source": [
    "elapsed_time = end - start\n",
    "minutes = int(elapsed_time // 60)\n",
    "seconds = int(elapsed_time % 60)\n",
    "print(\"Elapsed time: {} minutes, {} seconds\".format(minutes, seconds))"
   ]
  }
 ],
 "metadata": {
  "kernelspec": {
   "display_name": "Python 3 (ipykernel)",
   "language": "python",
   "name": "python3"
  },
  "language_info": {
   "codemirror_mode": {
    "name": "ipython",
    "version": 3
   },
   "file_extension": ".py",
   "mimetype": "text/x-python",
   "name": "python",
   "nbconvert_exporter": "python",
   "pygments_lexer": "ipython3",
   "version": "3.10.2"
  }
 },
 "nbformat": 4,
 "nbformat_minor": 5
}
