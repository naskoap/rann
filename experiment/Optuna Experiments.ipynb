{
 "cells": [
  {
   "cell_type": "code",
   "execution_count": 25,
   "id": "541291f4",
   "metadata": {},
   "outputs": [],
   "source": [
    "import optuna\n",
    "import time\n",
    "import pandas as pd\n",
    "import numpy as np\n",
    "from sklearn.ensemble import RandomForestRegressor\n",
    "from sklearn.ensemble import RandomForestClassifier\n",
    "from sklearn.model_selection import train_test_split, cross_val_score, GridSearchCV\n",
    "from sklearn.metrics import mean_absolute_error, mean_squared_error, mean_absolute_percentage_error\n",
    "\n",
    "from sklearn.metrics import accuracy_score, precision_score, recall_score"
   ]
  },
  {
   "cell_type": "markdown",
   "id": "f3d3af8d",
   "metadata": {},
   "source": [
    "# Hospital Readmissions (Classification)"
   ]
  },
  {
   "cell_type": "code",
   "execution_count": 26,
   "id": "c18e3d4b",
   "metadata": {},
   "outputs": [
    {
     "name": "stderr",
     "output_type": "stream",
     "text": [
      "\u001b[32m[I 2023-04-20 11:14:27,862]\u001b[0m A new study created in memory with name: no-name-e2da967f-51e6-486d-b78c-80d790ab8a1c\u001b[0m\n",
      "\u001b[32m[I 2023-04-20 11:14:39,386]\u001b[0m Trial 0 finished with value: 0.6048 and parameters: {'n_estimators': 402, 'max_depth': 17, 'max_features': 10}. Best is trial 0 with value: 0.6048.\u001b[0m\n",
      "\u001b[32m[I 2023-04-20 11:14:42,501]\u001b[0m Trial 1 finished with value: 0.5934 and parameters: {'n_estimators': 132, 'max_depth': 20, 'max_features': 7}. Best is trial 0 with value: 0.6048.\u001b[0m\n",
      "\u001b[32m[I 2023-04-20 11:14:45,124]\u001b[0m Trial 2 finished with value: 0.5876 and parameters: {'n_estimators': 108, 'max_depth': 27, 'max_features': 7}. Best is trial 0 with value: 0.6048.\u001b[0m\n",
      "\u001b[32m[I 2023-04-20 11:14:45,434]\u001b[0m Trial 3 finished with value: 0.6232 and parameters: {'n_estimators': 23, 'max_depth': 7, 'max_features': 10}. Best is trial 3 with value: 0.6232.\u001b[0m\n",
      "\u001b[32m[I 2023-04-20 11:14:47,707]\u001b[0m Trial 4 finished with value: 0.6276 and parameters: {'n_estimators': 299, 'max_depth': 10, 'max_features': 3}. Best is trial 4 with value: 0.6276.\u001b[0m\n",
      "\u001b[32m[I 2023-04-20 11:14:50,865]\u001b[0m Trial 5 finished with value: 0.6238 and parameters: {'n_estimators': 488, 'max_depth': 3, 'max_features': 9}. Best is trial 4 with value: 0.6276.\u001b[0m\n",
      "\u001b[32m[I 2023-04-20 11:14:51,479]\u001b[0m Trial 6 finished with value: 0.6264 and parameters: {'n_estimators': 109, 'max_depth': 5, 'max_features': 4}. Best is trial 4 with value: 0.6276.\u001b[0m\n",
      "\u001b[32m[I 2023-04-20 11:14:58,769]\u001b[0m Trial 7 finished with value: 0.593 and parameters: {'n_estimators': 337, 'max_depth': 25, 'max_features': 6}. Best is trial 4 with value: 0.6276.\u001b[0m\n",
      "\u001b[32m[I 2023-04-20 11:15:01,436]\u001b[0m Trial 8 finished with value: 0.6244 and parameters: {'n_estimators': 218, 'max_depth': 10, 'max_features': 6}. Best is trial 4 with value: 0.6276.\u001b[0m\n",
      "\u001b[32m[I 2023-04-20 11:15:05,458]\u001b[0m Trial 9 finished with value: 0.608 and parameters: {'n_estimators': 197, 'max_depth': 17, 'max_features': 7}. Best is trial 4 with value: 0.6276.\u001b[0m\n",
      "\u001b[32m[I 2023-04-20 11:15:06,312]\u001b[0m Trial 10 finished with value: 0.6034 and parameters: {'n_estimators': 311, 'max_depth': 1, 'max_features': 3}. Best is trial 4 with value: 0.6276.\u001b[0m\n",
      "\u001b[32m[I 2023-04-20 11:15:07,542]\u001b[0m Trial 11 finished with value: 0.6262 and parameters: {'n_estimators': 286, 'max_depth': 4, 'max_features': 3}. Best is trial 4 with value: 0.6276.\u001b[0m\n",
      "\u001b[32m[I 2023-04-20 11:15:07,826]\u001b[0m Trial 12 finished with value: 0.5816 and parameters: {'n_estimators': 16, 'max_depth': 47, 'max_features': 4}. Best is trial 4 with value: 0.6276.\u001b[0m\n",
      "\u001b[32m[I 2023-04-20 11:15:08,432]\u001b[0m Trial 13 finished with value: 0.623 and parameters: {'n_estimators': 138, 'max_depth': 3, 'max_features': 4}. Best is trial 4 with value: 0.6276.\u001b[0m\n",
      "\u001b[32m[I 2023-04-20 11:15:11,221]\u001b[0m Trial 14 finished with value: 0.6278 and parameters: {'n_estimators': 350, 'max_depth': 7, 'max_features': 5}. Best is trial 14 with value: 0.6278.\u001b[0m\n",
      "\u001b[32m[I 2023-04-20 11:15:15,065]\u001b[0m Trial 15 finished with value: 0.6282 and parameters: {'n_estimators': 392, 'max_depth': 9, 'max_features': 5}. Best is trial 15 with value: 0.6282.\u001b[0m\n",
      "\u001b[32m[I 2023-04-20 11:15:16,636]\u001b[0m Trial 16 finished with value: 0.62 and parameters: {'n_estimators': 410, 'max_depth': 2, 'max_features': 5}. Best is trial 15 with value: 0.6282.\u001b[0m\n",
      "\u001b[32m[I 2023-04-20 11:15:19,992]\u001b[0m Trial 17 finished with value: 0.6266 and parameters: {'n_estimators': 381, 'max_depth': 8, 'max_features': 5}. Best is trial 15 with value: 0.6282.\u001b[0m\n",
      "\u001b[32m[I 2023-04-20 11:15:24,710]\u001b[0m Trial 18 finished with value: 0.6264 and parameters: {'n_estimators': 478, 'max_depth': 6, 'max_features': 8}. Best is trial 15 with value: 0.6282.\u001b[0m\n",
      "\u001b[32m[I 2023-04-20 11:15:29,676]\u001b[0m Trial 19 finished with value: 0.6232 and parameters: {'n_estimators': 440, 'max_depth': 11, 'max_features': 5}. Best is trial 15 with value: 0.6282.\u001b[0m\n",
      "\u001b[32m[I 2023-04-20 11:15:31,080]\u001b[0m Trial 20 finished with value: 0.62 and parameters: {'n_estimators': 338, 'max_depth': 2, 'max_features': 6}. Best is trial 15 with value: 0.6282.\u001b[0m\n",
      "\u001b[32m[I 2023-04-20 11:15:33,393]\u001b[0m Trial 21 finished with value: 0.6278 and parameters: {'n_estimators': 281, 'max_depth': 11, 'max_features': 3}. Best is trial 15 with value: 0.6282.\u001b[0m\n",
      "\u001b[32m[I 2023-04-20 11:15:35,976]\u001b[0m Trial 22 finished with value: 0.6256 and parameters: {'n_estimators': 246, 'max_depth': 12, 'max_features': 4}. Best is trial 15 with value: 0.6282.\u001b[0m\n",
      "\u001b[32m[I 2023-04-20 11:15:38,831]\u001b[0m Trial 23 finished with value: 0.6278 and parameters: {'n_estimators': 358, 'max_depth': 7, 'max_features': 5}. Best is trial 15 with value: 0.6282.\u001b[0m\n",
      "\u001b[32m[I 2023-04-20 11:15:40,309]\u001b[0m Trial 24 finished with value: 0.6278 and parameters: {'n_estimators': 263, 'max_depth': 5, 'max_features': 4}. Best is trial 15 with value: 0.6282.\u001b[0m\n",
      "\u001b[32m[I 2023-04-20 11:15:43,758]\u001b[0m Trial 25 finished with value: 0.6234 and parameters: {'n_estimators': 366, 'max_depth': 13, 'max_features': 3}. Best is trial 15 with value: 0.6282.\u001b[0m\n",
      "\u001b[32m[I 2023-04-20 11:15:47,542]\u001b[0m Trial 26 finished with value: 0.6262 and parameters: {'n_estimators': 425, 'max_depth': 8, 'max_features': 5}. Best is trial 15 with value: 0.6282.\u001b[0m\n",
      "\u001b[32m[I 2023-04-20 11:15:55,268]\u001b[0m Trial 27 finished with value: 0.6132 and parameters: {'n_estimators': 464, 'max_depth': 15, 'max_features': 6}. Best is trial 15 with value: 0.6282.\u001b[0m\n",
      "\u001b[32m[I 2023-04-20 11:15:58,608]\u001b[0m Trial 28 finished with value: 0.6244 and parameters: {'n_estimators': 223, 'max_depth': 10, 'max_features': 8}. Best is trial 15 with value: 0.6282.\u001b[0m\n",
      "\u001b[32m[I 2023-04-20 11:16:04,039]\u001b[0m Trial 29 finished with value: 0.6134 and parameters: {'n_estimators': 389, 'max_depth': 17, 'max_features': 4}. Best is trial 15 with value: 0.6282.\u001b[0m\n",
      "\u001b[32m[I 2023-04-20 11:16:06,395]\u001b[0m Trial 30 finished with value: 0.6282 and parameters: {'n_estimators': 328, 'max_depth': 6, 'max_features': 5}. Best is trial 15 with value: 0.6282.\u001b[0m\n",
      "\u001b[32m[I 2023-04-20 11:16:08,713]\u001b[0m Trial 31 finished with value: 0.6272 and parameters: {'n_estimators': 323, 'max_depth': 6, 'max_features': 5}. Best is trial 15 with value: 0.6282.\u001b[0m\n",
      "\u001b[32m[I 2023-04-20 11:16:12,262]\u001b[0m Trial 32 finished with value: 0.6282 and parameters: {'n_estimators': 356, 'max_depth': 8, 'max_features': 6}. Best is trial 15 with value: 0.6282.\u001b[0m\n",
      "\u001b[32m[I 2023-04-20 11:16:15,826]\u001b[0m Trial 33 finished with value: 0.6298 and parameters: {'n_estimators': 356, 'max_depth': 8, 'max_features': 6}. Best is trial 33 with value: 0.6298.\u001b[0m\n",
      "\u001b[32m[I 2023-04-20 11:16:23,314]\u001b[0m Trial 34 finished with value: 0.6204 and parameters: {'n_estimators': 398, 'max_depth': 14, 'max_features': 7}. Best is trial 33 with value: 0.6298.\u001b[0m\n",
      "\u001b[32m[I 2023-04-20 11:16:32,623]\u001b[0m Trial 35 finished with value: 0.5936 and parameters: {'n_estimators': 428, 'max_depth': 21, 'max_features': 6}. Best is trial 33 with value: 0.6298.\u001b[0m\n",
      "\u001b[32m[I 2023-04-20 11:16:38,220]\u001b[0m Trial 36 finished with value: 0.631 and parameters: {'n_estimators': 445, 'max_depth': 9, 'max_features': 7}. Best is trial 36 with value: 0.631.\u001b[0m\n",
      "\u001b[32m[I 2023-04-20 11:16:41,592]\u001b[0m Trial 37 finished with value: 0.6252 and parameters: {'n_estimators': 460, 'max_depth': 4, 'max_features': 8}. Best is trial 36 with value: 0.631.\u001b[0m\n",
      "\u001b[32m[I 2023-04-20 11:16:47,838]\u001b[0m Trial 38 finished with value: 0.6254 and parameters: {'n_estimators': 499, 'max_depth': 9, 'max_features': 7}. Best is trial 36 with value: 0.631.\u001b[0m\n",
      "\u001b[32m[I 2023-04-20 11:16:53,106]\u001b[0m Trial 39 finished with value: 0.6248 and parameters: {'n_estimators': 453, 'max_depth': 6, 'max_features': 10}. Best is trial 36 with value: 0.631.\u001b[0m\n",
      "\u001b[32m[I 2023-04-20 11:17:02,129]\u001b[0m Trial 40 finished with value: 0.5906 and parameters: {'n_estimators': 378, 'max_depth': 23, 'max_features': 7}. Best is trial 36 with value: 0.631.\u001b[0m\n",
      "\u001b[32m[I 2023-04-20 11:17:06,657]\u001b[0m Trial 41 finished with value: 0.627 and parameters: {'n_estimators': 407, 'max_depth': 9, 'max_features': 6}. Best is trial 36 with value: 0.631.\u001b[0m\n",
      "\u001b[32m[I 2023-04-20 11:17:10,332]\u001b[0m Trial 42 finished with value: 0.6282 and parameters: {'n_estimators': 326, 'max_depth': 8, 'max_features': 7}. Best is trial 36 with value: 0.631.\u001b[0m\n",
      "\u001b[32m[I 2023-04-20 11:17:14,478]\u001b[0m Trial 43 finished with value: 0.624 and parameters: {'n_estimators': 298, 'max_depth': 12, 'max_features': 6}. Best is trial 36 with value: 0.631.\u001b[0m\n",
      "\u001b[32m[I 2023-04-20 11:17:22,861]\u001b[0m Trial 44 finished with value: 0.6152 and parameters: {'n_estimators': 357, 'max_depth': 15, 'max_features': 9}. Best is trial 36 with value: 0.631.\u001b[0m\n",
      "\u001b[32m[I 2023-04-20 11:17:28,007]\u001b[0m Trial 45 finished with value: 0.6248 and parameters: {'n_estimators': 420, 'max_depth': 10, 'max_features': 6}. Best is trial 36 with value: 0.631.\u001b[0m\n",
      "\u001b[32m[I 2023-04-20 11:17:30,717]\u001b[0m Trial 46 finished with value: 0.6252 and parameters: {'n_estimators': 308, 'max_depth': 5, 'max_features': 8}. Best is trial 36 with value: 0.631.\u001b[0m\n",
      "\u001b[32m[I 2023-04-20 11:17:31,104]\u001b[0m Trial 47 finished with value: 0.6266 and parameters: {'n_estimators': 45, 'max_depth': 7, 'max_features': 5}. Best is trial 36 with value: 0.631.\u001b[0m\n",
      "\u001b[32m[I 2023-04-20 11:17:38,916]\u001b[0m Trial 48 finished with value: 0.5968 and parameters: {'n_estimators': 380, 'max_depth': 20, 'max_features': 6}. Best is trial 36 with value: 0.631.\u001b[0m\n",
      "\u001b[32m[I 2023-04-20 11:17:45,573]\u001b[0m Trial 49 finished with value: 0.5876 and parameters: {'n_estimators': 269, 'max_depth': 31, 'max_features': 7}. Best is trial 36 with value: 0.631.\u001b[0m\n",
      "\u001b[32m[I 2023-04-20 11:17:47,519]\u001b[0m Trial 50 finished with value: 0.6258 and parameters: {'n_estimators': 343, 'max_depth': 4, 'max_features': 5}. Best is trial 36 with value: 0.631.\u001b[0m\n",
      "\u001b[32m[I 2023-04-20 11:17:51,173]\u001b[0m Trial 51 finished with value: 0.6262 and parameters: {'n_estimators': 327, 'max_depth': 8, 'max_features': 7}. Best is trial 36 with value: 0.631.\u001b[0m\n",
      "\u001b[32m[I 2023-04-20 11:17:54,284]\u001b[0m Trial 52 finished with value: 0.6292 and parameters: {'n_estimators': 313, 'max_depth': 8, 'max_features': 6}. Best is trial 36 with value: 0.631.\u001b[0m\n",
      "\u001b[32m[I 2023-04-20 11:17:58,660]\u001b[0m Trial 53 finished with value: 0.6264 and parameters: {'n_estimators': 368, 'max_depth': 10, 'max_features': 6}. Best is trial 36 with value: 0.631.\u001b[0m\n",
      "\u001b[32m[I 2023-04-20 11:18:04,192]\u001b[0m Trial 54 finished with value: 0.626 and parameters: {'n_estimators': 394, 'max_depth': 12, 'max_features': 6}. Best is trial 36 with value: 0.631.\u001b[0m\n",
      "\u001b[32m[I 2023-04-20 11:18:05,551]\u001b[0m Trial 55 finished with value: 0.6262 and parameters: {'n_estimators': 185, 'max_depth': 6, 'max_features': 5}. Best is trial 36 with value: 0.631.\u001b[0m\n",
      "\u001b[32m[I 2023-04-20 11:18:08,806]\u001b[0m Trial 56 finished with value: 0.6288 and parameters: {'n_estimators': 296, 'max_depth': 9, 'max_features': 6}. Best is trial 36 with value: 0.631.\u001b[0m\n",
      "\u001b[32m[I 2023-04-20 11:18:12,788]\u001b[0m Trial 57 finished with value: 0.6186 and parameters: {'n_estimators': 288, 'max_depth': 14, 'max_features': 5}. Best is trial 36 with value: 0.631.\u001b[0m\n",
      "\u001b[32m[I 2023-04-20 11:18:14,248]\u001b[0m Trial 58 finished with value: 0.6262 and parameters: {'n_estimators': 255, 'max_depth': 5, 'max_features': 4}. Best is trial 36 with value: 0.631.\u001b[0m\n",
      "\u001b[32m[I 2023-04-20 11:18:16,633]\u001b[0m Trial 59 finished with value: 0.6268 and parameters: {'n_estimators': 239, 'max_depth': 7, 'max_features': 7}. Best is trial 36 with value: 0.631.\u001b[0m\n",
      "\u001b[32m[I 2023-04-20 11:18:20,725]\u001b[0m Trial 60 finished with value: 0.6244 and parameters: {'n_estimators': 318, 'max_depth': 11, 'max_features': 6}. Best is trial 36 with value: 0.631.\u001b[0m\n",
      "\u001b[32m[I 2023-04-20 11:18:24,436]\u001b[0m Trial 61 finished with value: 0.6296 and parameters: {'n_estimators': 339, 'max_depth': 9, 'max_features': 6}. Best is trial 36 with value: 0.631.\u001b[0m\n",
      "\u001b[32m[I 2023-04-20 11:18:28,018]\u001b[0m Trial 62 finished with value: 0.6248 and parameters: {'n_estimators': 340, 'max_depth': 10, 'max_features': 5}. Best is trial 36 with value: 0.631.\u001b[0m\n",
      "\u001b[32m[I 2023-04-20 11:18:31,370]\u001b[0m Trial 63 finished with value: 0.628 and parameters: {'n_estimators': 301, 'max_depth': 9, 'max_features': 6}. Best is trial 36 with value: 0.631.\u001b[0m\n",
      "\u001b[32m[I 2023-04-20 11:18:38,335]\u001b[0m Trial 64 finished with value: 0.6252 and parameters: {'n_estimators': 443, 'max_depth': 12, 'max_features': 7}. Best is trial 36 with value: 0.631.\u001b[0m\n",
      "\u001b[32m[I 2023-04-20 11:18:43,259]\u001b[0m Trial 65 finished with value: 0.6114 and parameters: {'n_estimators': 281, 'max_depth': 16, 'max_features': 6}. Best is trial 36 with value: 0.631.\u001b[0m\n",
      "\u001b[32m[I 2023-04-20 11:18:45,979]\u001b[0m Trial 66 finished with value: 0.6296 and parameters: {'n_estimators': 373, 'max_depth': 6, 'max_features': 5}. Best is trial 36 with value: 0.631.\u001b[0m\n",
      "\u001b[32m[I 2023-04-20 11:18:50,148]\u001b[0m Trial 67 finished with value: 0.6276 and parameters: {'n_estimators': 474, 'max_depth': 8, 'max_features': 5}. Best is trial 36 with value: 0.631.\u001b[0m\n",
      "\u001b[32m[I 2023-04-20 11:18:54,544]\u001b[0m Trial 68 finished with value: 0.626 and parameters: {'n_estimators': 377, 'max_depth': 13, 'max_features': 4}. Best is trial 36 with value: 0.631.\u001b[0m\n",
      "\u001b[32m[I 2023-04-20 11:18:58,268]\u001b[0m Trial 69 finished with value: 0.6296 and parameters: {'n_estimators': 413, 'max_depth': 7, 'max_features': 6}. Best is trial 36 with value: 0.631.\u001b[0m\n",
      "\u001b[32m[I 2023-04-20 11:19:02,387]\u001b[0m Trial 70 finished with value: 0.627 and parameters: {'n_estimators': 407, 'max_depth': 7, 'max_features': 7}. Best is trial 36 with value: 0.631.\u001b[0m\n",
      "\u001b[32m[I 2023-04-20 11:19:07,159]\u001b[0m Trial 71 finished with value: 0.6276 and parameters: {'n_estimators': 431, 'max_depth': 9, 'max_features': 6}. Best is trial 36 with value: 0.631.\u001b[0m\n",
      "\u001b[32m[I 2023-04-20 11:19:10,537]\u001b[0m Trial 72 finished with value: 0.6288 and parameters: {'n_estimators': 414, 'max_depth': 6, 'max_features': 6}. Best is trial 36 with value: 0.631.\u001b[0m\n",
      "\u001b[32m[I 2023-04-20 11:19:14,086]\u001b[0m Trial 73 finished with value: 0.627 and parameters: {'n_estimators': 441, 'max_depth': 6, 'max_features': 6}. Best is trial 36 with value: 0.631.\u001b[0m\n",
      "\u001b[32m[I 2023-04-20 11:19:16,938]\u001b[0m Trial 74 finished with value: 0.624 and parameters: {'n_estimators': 362, 'max_depth': 5, 'max_features': 7}. Best is trial 36 with value: 0.631.\u001b[0m\n",
      "\u001b[32m[I 2023-04-20 11:19:22,364]\u001b[0m Trial 75 finished with value: 0.6232 and parameters: {'n_estimators': 418, 'max_depth': 11, 'max_features': 6}. Best is trial 36 with value: 0.631.\u001b[0m\n",
      "\u001b[32m[I 2023-04-20 11:19:25,513]\u001b[0m Trial 76 finished with value: 0.6272 and parameters: {'n_estimators': 345, 'max_depth': 7, 'max_features': 6}. Best is trial 36 with value: 0.631.\u001b[0m\n",
      "\u001b[32m[I 2023-04-20 11:19:29,348]\u001b[0m Trial 77 finished with value: 0.6258 and parameters: {'n_estimators': 393, 'max_depth': 6, 'max_features': 8}. Best is trial 36 with value: 0.631.\u001b[0m\n",
      "\u001b[32m[I 2023-04-20 11:19:35,284]\u001b[0m Trial 78 finished with value: 0.628 and parameters: {'n_estimators': 478, 'max_depth': 9, 'max_features': 7}. Best is trial 36 with value: 0.631.\u001b[0m\n",
      "\u001b[32m[I 2023-04-20 11:19:37,831]\u001b[0m Trial 79 finished with value: 0.6246 and parameters: {'n_estimators': 411, 'max_depth': 4, 'max_features': 6}. Best is trial 36 with value: 0.631.\u001b[0m\n",
      "\u001b[32m[I 2023-04-20 11:19:40,998]\u001b[0m Trial 80 finished with value: 0.6282 and parameters: {'n_estimators': 316, 'max_depth': 8, 'max_features': 6}. Best is trial 36 with value: 0.631.\u001b[0m\n",
      "\u001b[32m[I 2023-04-20 11:19:44,167]\u001b[0m Trial 81 finished with value: 0.6302 and parameters: {'n_estimators': 388, 'max_depth': 7, 'max_features': 5}. Best is trial 36 with value: 0.631.\u001b[0m\n",
      "\u001b[32m[I 2023-04-20 11:19:47,219]\u001b[0m Trial 82 finished with value: 0.6278 and parameters: {'n_estimators': 375, 'max_depth': 7, 'max_features': 5}. Best is trial 36 with value: 0.631.\u001b[0m\n",
      "\u001b[32m[I 2023-04-20 11:19:50,452]\u001b[0m Trial 83 finished with value: 0.6276 and parameters: {'n_estimators': 402, 'max_depth': 7, 'max_features': 5}. Best is trial 36 with value: 0.631.\u001b[0m\n",
      "\u001b[32m[I 2023-04-20 11:19:53,167]\u001b[0m Trial 84 finished with value: 0.628 and parameters: {'n_estimators': 336, 'max_depth': 6, 'max_features': 6}. Best is trial 36 with value: 0.631.\u001b[0m\n",
      "\u001b[32m[I 2023-04-20 11:19:57,135]\u001b[0m Trial 85 finished with value: 0.6296 and parameters: {'n_estimators': 451, 'max_depth': 8, 'max_features': 5}. Best is trial 36 with value: 0.631.\u001b[0m\n",
      "\u001b[32m[I 2023-04-20 11:20:01,123]\u001b[0m Trial 86 finished with value: 0.627 and parameters: {'n_estimators': 446, 'max_depth': 8, 'max_features': 5}. Best is trial 36 with value: 0.631.\u001b[0m\n",
      "\u001b[32m[I 2023-04-20 11:20:05,028]\u001b[0m Trial 87 finished with value: 0.626 and parameters: {'n_estimators': 431, 'max_depth': 10, 'max_features': 4}. Best is trial 36 with value: 0.631.\u001b[0m\n",
      "\u001b[32m[I 2023-04-20 11:20:09,473]\u001b[0m Trial 88 finished with value: 0.6294 and parameters: {'n_estimators': 459, 'max_depth': 9, 'max_features': 5}. Best is trial 36 with value: 0.631.\u001b[0m\n",
      "\u001b[32m[I 2023-04-20 11:20:15,547]\u001b[0m Trial 89 finished with value: 0.6252 and parameters: {'n_estimators': 463, 'max_depth': 13, 'max_features': 5}. Best is trial 36 with value: 0.631.\u001b[0m\n",
      "\u001b[32m[I 2023-04-20 11:20:20,381]\u001b[0m Trial 90 finished with value: 0.6252 and parameters: {'n_estimators': 493, 'max_depth': 11, 'max_features': 4}. Best is trial 36 with value: 0.631.\u001b[0m\n",
      "\u001b[32m[I 2023-04-20 11:20:24,770]\u001b[0m Trial 91 finished with value: 0.6268 and parameters: {'n_estimators': 453, 'max_depth': 9, 'max_features': 5}. Best is trial 36 with value: 0.631.\u001b[0m\n",
      "\u001b[32m[I 2023-04-20 11:20:28,166]\u001b[0m Trial 92 finished with value: 0.626 and parameters: {'n_estimators': 351, 'max_depth': 9, 'max_features': 5}. Best is trial 36 with value: 0.631.\u001b[0m\n",
      "\u001b[32m[I 2023-04-20 11:20:32,407]\u001b[0m Trial 93 finished with value: 0.6294 and parameters: {'n_estimators': 473, 'max_depth': 8, 'max_features': 5}. Best is trial 36 with value: 0.631.\u001b[0m\n",
      "\u001b[32m[I 2023-04-20 11:20:36,191]\u001b[0m Trial 94 finished with value: 0.6286 and parameters: {'n_estimators': 486, 'max_depth': 8, 'max_features': 4}. Best is trial 36 with value: 0.631.\u001b[0m\n",
      "\u001b[32m[I 2023-04-20 11:20:39,152]\u001b[0m Trial 95 finished with value: 0.6256 and parameters: {'n_estimators': 467, 'max_depth': 5, 'max_features': 5}. Best is trial 36 with value: 0.631.\u001b[0m\n",
      "\u001b[32m[I 2023-04-20 11:20:42,652]\u001b[0m Trial 96 finished with value: 0.6296 and parameters: {'n_estimators': 431, 'max_depth': 7, 'max_features': 5}. Best is trial 36 with value: 0.631.\u001b[0m\n",
      "\u001b[32m[I 2023-04-20 11:20:46,292]\u001b[0m Trial 97 finished with value: 0.627 and parameters: {'n_estimators': 453, 'max_depth': 7, 'max_features': 5}. Best is trial 36 with value: 0.631.\u001b[0m\n",
      "\u001b[32m[I 2023-04-20 11:20:51,218]\u001b[0m Trial 98 finished with value: 0.6234 and parameters: {'n_estimators': 432, 'max_depth': 11, 'max_features': 5}. Best is trial 36 with value: 0.631.\u001b[0m\n",
      "\u001b[32m[I 2023-04-20 11:20:54,745]\u001b[0m Trial 99 finished with value: 0.6244 and parameters: {'n_estimators': 385, 'max_depth': 10, 'max_features': 4}. Best is trial 36 with value: 0.631.\u001b[0m\n"
     ]
    },
    {
     "name": "stdout",
     "output_type": "stream",
     "text": [
      "Optuna execution time:  386.88699293136597 seconds\n"
     ]
    }
   ],
   "source": [
    "readmissions = pd.read_csv('readmissions_clean.csv')\n",
    "\n",
    "# Split dataset into X and Y\n",
    "X = readmissions.drop(['readmitted'], axis=1)\n",
    "y = readmissions.readmitted\n",
    "\n",
    "# splitting X and Y into training and testing sets\n",
    "X_train, X_test, y_train, y_test = train_test_split(X,y, random_state=3, test_size=0.2)\n",
    "\n",
    "def objective(trial):\n",
    "    n_estimators = trial.suggest_int('n_estimators', 2, 500,1)\n",
    "    max_depth = trial.suggest_int('max_depth', 1, 50,1, log=True)\n",
    "    max_features = trial.suggest_int('max_features',3,10,1)\n",
    "    \n",
    "    rf = RandomForestClassifier(n_estimators, max_depth= max_depth,\\\n",
    "                                                 max_features= max_features)\n",
    "    rf.fit(X_train, y_train)\n",
    "    \n",
    "    return rf.score(X_test, y_test)\n",
    "start = time.time()                                \n",
    "study = optuna.create_study(direction='maximize')\n",
    "study.optimize(objective, n_trials=100)\n",
    "end = time.time()\n",
    "\n",
    "print(\"Optuna execution time: \", (end-start), \"seconds\")"
   ]
  },
  {
   "cell_type": "code",
   "execution_count": 27,
   "id": "e239f891",
   "metadata": {},
   "outputs": [
    {
     "data": {
      "text/plain": [
       "FrozenTrial(number=36, state=TrialState.COMPLETE, values=[0.631], datetime_start=datetime.datetime(2023, 4, 20, 11, 16, 32, 624884), datetime_complete=datetime.datetime(2023, 4, 20, 11, 16, 38, 220085), params={'n_estimators': 445, 'max_depth': 9, 'max_features': 7}, user_attrs={}, system_attrs={}, intermediate_values={}, distributions={'n_estimators': IntDistribution(high=500, log=False, low=2, step=1), 'max_depth': IntDistribution(high=50, log=True, low=1, step=1), 'max_features': IntDistribution(high=10, log=False, low=3, step=1)}, trial_id=36, value=None)"
      ]
     },
     "execution_count": 27,
     "metadata": {},
     "output_type": "execute_result"
    }
   ],
   "source": [
    "#Getting the best trial..\n",
    "study.best_trial"
   ]
  },
  {
   "cell_type": "code",
   "execution_count": 28,
   "id": "173ca3fd",
   "metadata": {},
   "outputs": [
    {
     "name": "stdout",
     "output_type": "stream",
     "text": [
      "Accuracy: 0.6266\n",
      "Precision: 0.6290231507622812\n",
      "Recall: 0.4793459552495697\n"
     ]
    }
   ],
   "source": [
    "\"\"\"OPTUNA BASED ON MAXIMIZED ACCURACY\"\"\"\n",
    "\n",
    "rf = RandomForestClassifier(max_depth=9 ,max_features=7 ,n_estimators=445)\n",
    "rf.fit(X_train, y_train)\n",
    "y_pred = rf.predict(X_test)\n",
    "\n",
    "accuracy = accuracy_score(y_test, y_pred)\n",
    "precision = precision_score(y_test, y_pred)\n",
    "recall = recall_score(y_test, y_pred)\n",
    "\n",
    "\n",
    "print(\"Accuracy:\", accuracy)\n",
    "print(\"Precision:\", precision)\n",
    "print(\"Recall:\", recall)"
   ]
  },
  {
   "cell_type": "markdown",
   "id": "44bb18f5",
   "metadata": {},
   "source": [
    "# Car Emissions Data (Regression)"
   ]
  },
  {
   "cell_type": "code",
   "execution_count": 29,
   "id": "be093a98",
   "metadata": {},
   "outputs": [
    {
     "name": "stderr",
     "output_type": "stream",
     "text": [
      "\u001b[32m[I 2023-04-20 11:23:53,928]\u001b[0m A new study created in memory with name: no-name-dce1a184-5906-416a-a14b-36b2747e1367\u001b[0m\n",
      "\u001b[32m[I 2023-04-20 11:23:55,697]\u001b[0m Trial 0 finished with value: 10.220184515543837 and parameters: {'n_estimators': 282, 'max_depth': 45, 'max_features': 9}. Best is trial 0 with value: 10.220184515543837.\u001b[0m\n",
      "\u001b[32m[I 2023-04-20 11:23:55,738]\u001b[0m Trial 1 finished with value: 23.53022348746429 and parameters: {'n_estimators': 15, 'max_depth': 7, 'max_features': 6}. Best is trial 0 with value: 10.220184515543837.\u001b[0m\n",
      "\u001b[32m[I 2023-04-20 11:23:55,927]\u001b[0m Trial 2 finished with value: 10.56492328065759 and parameters: {'n_estimators': 44, 'max_depth': 9, 'max_features': 10}. Best is trial 0 with value: 10.220184515543837.\u001b[0m\n",
      "\u001b[32m[I 2023-04-20 11:23:56,129]\u001b[0m Trial 3 finished with value: 11.443149514525297 and parameters: {'n_estimators': 36, 'max_depth': 35, 'max_features': 7}. Best is trial 0 with value: 10.220184515543837.\u001b[0m\n",
      "\u001b[32m[I 2023-04-20 11:23:57,144]\u001b[0m Trial 4 finished with value: 11.31208016385251 and parameters: {'n_estimators': 263, 'max_depth': 8, 'max_features': 10}. Best is trial 0 with value: 10.220184515543837.\u001b[0m\n",
      "\u001b[32m[I 2023-04-20 11:23:59,683]\u001b[0m Trial 5 finished with value: 10.659573678595828 and parameters: {'n_estimators': 482, 'max_depth': 38, 'max_features': 7}. Best is trial 0 with value: 10.220184515543837.\u001b[0m\n",
      "\u001b[32m[I 2023-04-20 11:24:01,466]\u001b[0m Trial 6 finished with value: 11.850656665666856 and parameters: {'n_estimators': 475, 'max_depth': 16, 'max_features': 4}. Best is trial 0 with value: 10.220184515543837.\u001b[0m\n",
      "\u001b[32m[I 2023-04-20 11:24:03,188]\u001b[0m Trial 7 finished with value: 11.619660363275377 and parameters: {'n_estimators': 449, 'max_depth': 36, 'max_features': 4}. Best is trial 0 with value: 10.220184515543837.\u001b[0m\n",
      "\u001b[32m[I 2023-04-20 11:24:05,338]\u001b[0m Trial 8 finished with value: 10.695512239275264 and parameters: {'n_estimators': 457, 'max_depth': 35, 'max_features': 6}. Best is trial 0 with value: 10.220184515543837.\u001b[0m\n",
      "\u001b[32m[I 2023-04-20 11:24:06,994]\u001b[0m Trial 9 finished with value: 12.660196633287672 and parameters: {'n_estimators': 478, 'max_depth': 18, 'max_features': 3}. Best is trial 0 with value: 10.220184515543837.\u001b[0m\n",
      "\u001b[32m[I 2023-04-20 11:24:08,515]\u001b[0m Trial 10 finished with value: 10.199340385757566 and parameters: {'n_estimators': 248, 'max_depth': 50, 'max_features': 9}. Best is trial 10 with value: 10.199340385757566.\u001b[0m\n",
      "\u001b[32m[I 2023-04-20 11:24:10,136]\u001b[0m Trial 11 finished with value: 10.18995904199659 and parameters: {'n_estimators': 251, 'max_depth': 49, 'max_features': 9}. Best is trial 11 with value: 10.18995904199659.\u001b[0m\n",
      "\u001b[32m[I 2023-04-20 11:24:11,091]\u001b[0m Trial 12 finished with value: 10.433475024983618 and parameters: {'n_estimators': 162, 'max_depth': 49, 'max_features': 8}. Best is trial 11 with value: 10.18995904199659.\u001b[0m\n",
      "\u001b[32m[I 2023-04-20 11:24:13,239]\u001b[0m Trial 13 finished with value: 10.222557939856978 and parameters: {'n_estimators': 346, 'max_depth': 50, 'max_features': 9}. Best is trial 11 with value: 10.18995904199659.\u001b[0m\n",
      "\u001b[32m[I 2023-04-20 11:24:14,236]\u001b[0m Trial 14 finished with value: 10.374840635961698 and parameters: {'n_estimators': 175, 'max_depth': 27, 'max_features': 8}. Best is trial 11 with value: 10.18995904199659.\u001b[0m\n",
      "\u001b[32m[I 2023-04-20 11:24:15,297]\u001b[0m Trial 15 finished with value: 10.408455765599067 and parameters: {'n_estimators': 173, 'max_depth': 42, 'max_features': 9}. Best is trial 11 with value: 10.18995904199659.\u001b[0m\n",
      "\u001b[32m[I 2023-04-20 11:24:17,280]\u001b[0m Trial 16 finished with value: 10.098286830100454 and parameters: {'n_estimators': 352, 'max_depth': 27, 'max_features': 8}. Best is trial 16 with value: 10.098286830100454.\u001b[0m\n",
      "\u001b[32m[I 2023-04-20 11:24:19,371]\u001b[0m Trial 17 finished with value: 10.098375504045702 and parameters: {'n_estimators': 367, 'max_depth': 25, 'max_features': 8}. Best is trial 16 with value: 10.098286830100454.\u001b[0m\n",
      "\u001b[32m[I 2023-04-20 11:24:21,007]\u001b[0m Trial 18 finished with value: 11.641350065113762 and parameters: {'n_estimators': 383, 'max_depth': 28, 'max_features': 5}. Best is trial 16 with value: 10.098286830100454.\u001b[0m\n",
      "\u001b[32m[I 2023-04-20 11:24:23,159]\u001b[0m Trial 19 finished with value: 10.34414699985128 and parameters: {'n_estimators': 382, 'max_depth': 20, 'max_features': 8}. Best is trial 16 with value: 10.098286830100454.\u001b[0m\n",
      "\u001b[32m[I 2023-04-20 11:24:24,828]\u001b[0m Trial 20 finished with value: 10.479590766711148 and parameters: {'n_estimators': 322, 'max_depth': 22, 'max_features': 7}. Best is trial 16 with value: 10.098286830100454.\u001b[0m\n",
      "\u001b[32m[I 2023-04-20 11:24:25,239]\u001b[0m Trial 21 finished with value: 1129.825446479828 and parameters: {'n_estimators': 386, 'max_depth': 1, 'max_features': 8}. Best is trial 16 with value: 10.098286830100454.\u001b[0m\n",
      "\u001b[32m[I 2023-04-20 11:24:26,546]\u001b[0m Trial 22 finished with value: 10.173636767849906 and parameters: {'n_estimators': 232, 'max_depth': 29, 'max_features': 8}. Best is trial 16 with value: 10.098286830100454.\u001b[0m\n",
      "\u001b[32m[I 2023-04-20 11:24:28,158]\u001b[0m Trial 23 finished with value: 10.542647700937211 and parameters: {'n_estimators': 312, 'max_depth': 30, 'max_features': 7}. Best is trial 16 with value: 10.098286830100454.\u001b[0m\n",
      "\u001b[32m[I 2023-04-20 11:24:29,354]\u001b[0m Trial 24 finished with value: 10.261955220676352 and parameters: {'n_estimators': 212, 'max_depth': 24, 'max_features': 8}. Best is trial 16 with value: 10.098286830100454.\u001b[0m\n",
      "\u001b[32m[I 2023-04-20 11:24:29,843]\u001b[0m Trial 25 finished with value: 10.376548561478328 and parameters: {'n_estimators': 102, 'max_depth': 31, 'max_features': 6}. Best is trial 16 with value: 10.098286830100454.\u001b[0m\n",
      "\u001b[32m[I 2023-04-20 11:24:32,481]\u001b[0m Trial 26 finished with value: 9.98171009397419 and parameters: {'n_estimators': 412, 'max_depth': 16, 'max_features': 10}. Best is trial 26 with value: 9.98171009397419.\u001b[0m\n",
      "\u001b[32m[I 2023-04-20 11:24:34,849]\u001b[0m Trial 27 finished with value: 10.048065078143784 and parameters: {'n_estimators': 408, 'max_depth': 13, 'max_features': 10}. Best is trial 26 with value: 9.98171009397419.\u001b[0m\n",
      "\u001b[32m[I 2023-04-20 11:24:37,301]\u001b[0m Trial 28 finished with value: 10.046622539132766 and parameters: {'n_estimators': 423, 'max_depth': 13, 'max_features': 10}. Best is trial 26 with value: 9.98171009397419.\u001b[0m\n",
      "\u001b[32m[I 2023-04-20 11:24:39,797]\u001b[0m Trial 29 finished with value: 10.042462291115347 and parameters: {'n_estimators': 430, 'max_depth': 13, 'max_features': 10}. Best is trial 26 with value: 9.98171009397419.\u001b[0m\n",
      "\u001b[32m[I 2023-04-20 11:24:42,228]\u001b[0m Trial 30 finished with value: 10.042961786764009 and parameters: {'n_estimators': 419, 'max_depth': 13, 'max_features': 10}. Best is trial 26 with value: 9.98171009397419.\u001b[0m\n",
      "\u001b[32m[I 2023-04-20 11:24:44,696]\u001b[0m Trial 31 finished with value: 10.04976086100971 and parameters: {'n_estimators': 424, 'max_depth': 13, 'max_features': 10}. Best is trial 26 with value: 9.98171009397419.\u001b[0m\n",
      "\u001b[32m[I 2023-04-20 11:24:45,538]\u001b[0m Trial 32 finished with value: 276.04677058104073 and parameters: {'n_estimators': 434, 'max_depth': 3, 'max_features': 10}. Best is trial 26 with value: 9.98171009397419.\u001b[0m\n",
      "\u001b[32m[I 2023-04-20 11:24:47,801]\u001b[0m Trial 33 finished with value: 10.016992376343605 and parameters: {'n_estimators': 414, 'max_depth': 12, 'max_features': 10}. Best is trial 26 with value: 9.98171009397419.\u001b[0m\n",
      "\u001b[32m[I 2023-04-20 11:24:48,643]\u001b[0m Trial 34 finished with value: 38.344502065116814 and parameters: {'n_estimators': 311, 'max_depth': 5, 'max_features': 10}. Best is trial 26 with value: 9.98171009397419.\u001b[0m\n",
      "\u001b[32m[I 2023-04-20 11:24:50,804]\u001b[0m Trial 35 finished with value: 10.53108908773638 and parameters: {'n_estimators': 499, 'max_depth': 10, 'max_features': 9}. Best is trial 26 with value: 9.98171009397419.\u001b[0m\n",
      "\u001b[32m[I 2023-04-20 11:24:53,408]\u001b[0m Trial 36 finished with value: 9.980259924975083 and parameters: {'n_estimators': 406, 'max_depth': 16, 'max_features': 10}. Best is trial 36 with value: 9.980259924975083.\u001b[0m\n",
      "\u001b[32m[I 2023-04-20 11:24:55,187]\u001b[0m Trial 37 finished with value: 10.284355501774138 and parameters: {'n_estimators': 295, 'max_depth': 17, 'max_features': 9}. Best is trial 36 with value: 9.980259924975083.\u001b[0m\n",
      "\u001b[32m[I 2023-04-20 11:24:56,941]\u001b[0m Trial 38 finished with value: 10.537083914208289 and parameters: {'n_estimators': 402, 'max_depth': 10, 'max_features': 9}. Best is trial 36 with value: 9.980259924975083.\u001b[0m\n",
      "\u001b[32m[I 2023-04-20 11:24:59,949]\u001b[0m Trial 39 finished with value: 10.096060941228883 and parameters: {'n_estimators': 454, 'max_depth': 20, 'max_features': 10}. Best is trial 36 with value: 9.980259924975083.\u001b[0m\n",
      "\u001b[32m[I 2023-04-20 11:25:01,399]\u001b[0m Trial 40 finished with value: 19.247954227521745 and parameters: {'n_estimators': 500, 'max_depth': 6, 'max_features': 9}. Best is trial 36 with value: 9.980259924975083.\u001b[0m\n",
      "\u001b[32m[I 2023-04-20 11:25:04,157]\u001b[0m Trial 41 finished with value: 10.100530151203637 and parameters: {'n_estimators': 445, 'max_depth': 14, 'max_features': 10}. Best is trial 36 with value: 9.980259924975083.\u001b[0m\n",
      "\u001b[32m[I 2023-04-20 11:25:05,796]\u001b[0m Trial 42 finished with value: 10.266355998672545 and parameters: {'n_estimators': 347, 'max_depth': 10, 'max_features': 10}. Best is trial 36 with value: 9.980259924975083.\u001b[0m\n",
      "\u001b[32m[I 2023-04-20 11:25:08,323]\u001b[0m Trial 43 finished with value: 10.148357886331967 and parameters: {'n_estimators': 401, 'max_depth': 15, 'max_features': 10}. Best is trial 36 with value: 9.980259924975083.\u001b[0m\n",
      "\u001b[32m[I 2023-04-20 11:25:11,498]\u001b[0m Trial 44 finished with value: 9.88851100001213 and parameters: {'n_estimators': 469, 'max_depth': 19, 'max_features': 10}. Best is trial 44 with value: 9.88851100001213.\u001b[0m\n",
      "\u001b[32m[I 2023-04-20 11:25:14,372]\u001b[0m Trial 45 finished with value: 10.000925582158043 and parameters: {'n_estimators': 466, 'max_depth': 19, 'max_features': 9}. Best is trial 44 with value: 9.88851100001213.\u001b[0m\n",
      "\u001b[32m[I 2023-04-20 11:25:17,222]\u001b[0m Trial 46 finished with value: 10.133517472562705 and parameters: {'n_estimators': 465, 'max_depth': 20, 'max_features': 9}. Best is trial 44 with value: 9.88851100001213.\u001b[0m\n",
      "\u001b[32m[I 2023-04-20 11:25:20,148]\u001b[0m Trial 47 finished with value: 10.173934205342476 and parameters: {'n_estimators': 475, 'max_depth': 23, 'max_features': 9}. Best is trial 44 with value: 9.88851100001213.\u001b[0m\n",
      "\u001b[32m[I 2023-04-20 11:25:23,218]\u001b[0m Trial 48 finished with value: 10.058726807580419 and parameters: {'n_estimators': 465, 'max_depth': 18, 'max_features': 10}. Best is trial 44 with value: 9.88851100001213.\u001b[0m\n",
      "\u001b[32m[I 2023-04-20 11:25:24,892]\u001b[0m Trial 49 finished with value: 12.577068606221678 and parameters: {'n_estimators': 486, 'max_depth': 16, 'max_features': 3}. Best is trial 44 with value: 9.88851100001213.\u001b[0m\n",
      "\u001b[32m[I 2023-04-20 11:25:26,495]\u001b[0m Trial 50 finished with value: 11.577620799744354 and parameters: {'n_estimators': 444, 'max_depth': 8, 'max_features': 9}. Best is trial 44 with value: 9.88851100001213.\u001b[0m\n",
      "\u001b[32m[I 2023-04-20 11:25:28,923]\u001b[0m Trial 51 finished with value: 9.906845794283196 and parameters: {'n_estimators': 368, 'max_depth': 21, 'max_features': 10}. Best is trial 44 with value: 9.88851100001213.\u001b[0m\n",
      "\u001b[32m[I 2023-04-20 11:25:31,346]\u001b[0m Trial 52 finished with value: 9.814417457391572 and parameters: {'n_estimators': 363, 'max_depth': 19, 'max_features': 10}. Best is trial 52 with value: 9.814417457391572.\u001b[0m\n",
      "\u001b[32m[I 2023-04-20 11:25:32,937]\u001b[0m Trial 53 finished with value: 11.34097684278426 and parameters: {'n_estimators': 366, 'max_depth': 21, 'max_features': 5}. Best is trial 52 with value: 9.814417457391572.\u001b[0m\n",
      "\u001b[32m[I 2023-04-20 11:25:34,731]\u001b[0m Trial 54 finished with value: 9.666664814620104 and parameters: {'n_estimators': 272, 'max_depth': 17, 'max_features': 10}. Best is trial 54 with value: 9.666664814620104.\u001b[0m\n",
      "\u001b[32m[I 2023-04-20 11:25:36,672]\u001b[0m Trial 55 finished with value: 9.695189171427364 and parameters: {'n_estimators': 294, 'max_depth': 17, 'max_features': 10}. Best is trial 54 with value: 9.666664814620104.\u001b[0m\n",
      "\u001b[32m[I 2023-04-20 11:25:38,532]\u001b[0m Trial 56 finished with value: 10.145727698979004 and parameters: {'n_estimators': 283, 'max_depth': 22, 'max_features': 10}. Best is trial 54 with value: 9.666664814620104.\u001b[0m\n",
      "\u001b[32m[I 2023-04-20 11:25:40,557]\u001b[0m Trial 57 finished with value: 10.2232781612284 and parameters: {'n_estimators': 331, 'max_depth': 26, 'max_features': 9}. Best is trial 54 with value: 9.666664814620104.\u001b[0m\n",
      "\u001b[32m[I 2023-04-20 11:25:42,306]\u001b[0m Trial 58 finished with value: 10.078231084879082 and parameters: {'n_estimators': 268, 'max_depth': 18, 'max_features': 10}. Best is trial 54 with value: 9.666664814620104.\u001b[0m\n",
      "\u001b[32m[I 2023-04-20 11:25:44,373]\u001b[0m Trial 59 finished with value: 10.227787833338416 and parameters: {'n_estimators': 337, 'max_depth': 32, 'max_features': 9}. Best is trial 54 with value: 9.666664814620104.\u001b[0m\n",
      "\u001b[32m[I 2023-04-20 11:25:45,172]\u001b[0m Trial 60 finished with value: 12.013786895912501 and parameters: {'n_estimators': 205, 'max_depth': 24, 'max_features': 4}. Best is trial 54 with value: 9.666664814620104.\u001b[0m\n",
      "\u001b[32m[I 2023-04-20 11:25:47,521]\u001b[0m Trial 61 finished with value: 9.94615442986047 and parameters: {'n_estimators': 363, 'max_depth': 16, 'max_features': 10}. Best is trial 54 with value: 9.666664814620104.\u001b[0m\n",
      "\u001b[32m[I 2023-04-20 11:25:49,874]\u001b[0m Trial 62 finished with value: 9.75026542267762 and parameters: {'n_estimators': 361, 'max_depth': 17, 'max_features': 10}. Best is trial 54 with value: 9.666664814620104.\u001b[0m\n",
      "\u001b[32m[I 2023-04-20 11:25:52,251]\u001b[0m Trial 63 finished with value: 9.814186712858502 and parameters: {'n_estimators': 362, 'max_depth': 19, 'max_features': 10}. Best is trial 54 with value: 9.666664814620104.\u001b[0m\n",
      "\u001b[32m[I 2023-04-20 11:25:54,196]\u001b[0m Trial 64 finished with value: 10.146532260445365 and parameters: {'n_estimators': 297, 'max_depth': 22, 'max_features': 10}. Best is trial 54 with value: 9.666664814620104.\u001b[0m\n",
      "\u001b[32m[I 2023-04-20 11:25:55,720]\u001b[0m Trial 65 finished with value: 9.7876371272611 and parameters: {'n_estimators': 233, 'max_depth': 19, 'max_features': 10}. Best is trial 54 with value: 9.666664814620104.\u001b[0m\n",
      "\u001b[32m[I 2023-04-20 11:25:57,277]\u001b[0m Trial 66 finished with value: 10.210304862871835 and parameters: {'n_estimators': 255, 'max_depth': 18, 'max_features': 9}. Best is trial 54 with value: 9.666664814620104.\u001b[0m\n",
      "\u001b[32m[I 2023-04-20 11:25:58,850]\u001b[0m Trial 67 finished with value: 9.92188305430205 and parameters: {'n_estimators': 240, 'max_depth': 24, 'max_features': 10}. Best is trial 54 with value: 9.666664814620104.\u001b[0m\n",
      "\u001b[32m[I 2023-04-20 11:25:59,771]\u001b[0m Trial 68 finished with value: 11.594042665553452 and parameters: {'n_estimators': 216, 'max_depth': 19, 'max_features': 5}. Best is trial 54 with value: 9.666664814620104.\u001b[0m\n",
      "\u001b[32m[I 2023-04-20 11:26:01,450]\u001b[0m Trial 69 finished with value: 10.040252110614322 and parameters: {'n_estimators': 266, 'max_depth': 15, 'max_features': 10}. Best is trial 54 with value: 9.666664814620104.\u001b[0m\n",
      "\u001b[32m[I 2023-04-20 11:26:02,417]\u001b[0m Trial 70 finished with value: 10.51320197662319 and parameters: {'n_estimators': 157, 'max_depth': 26, 'max_features': 9}. Best is trial 54 with value: 9.666664814620104.\u001b[0m\n",
      "\u001b[32m[I 2023-04-20 11:26:04,937]\u001b[0m Trial 71 finished with value: 9.909873539685522 and parameters: {'n_estimators': 385, 'max_depth': 21, 'max_features': 10}. Best is trial 54 with value: 9.666664814620104.\u001b[0m\n",
      "\u001b[32m[I 2023-04-20 11:26:07,020]\u001b[0m Trial 72 finished with value: 10.143202270441762 and parameters: {'n_estimators': 316, 'max_depth': 20, 'max_features': 10}. Best is trial 54 with value: 9.666664814620104.\u001b[0m\n",
      "\u001b[32m[I 2023-04-20 11:26:08,293]\u001b[0m Trial 73 finished with value: 9.721765153765832 and parameters: {'n_estimators': 190, 'max_depth': 17, 'max_features': 10}. Best is trial 54 with value: 9.666664814620104.\u001b[0m\n",
      "\u001b[32m[I 2023-04-20 11:26:09,509]\u001b[0m Trial 74 finished with value: 10.062700381177901 and parameters: {'n_estimators': 185, 'max_depth': 18, 'max_features': 10}. Best is trial 54 with value: 9.666664814620104.\u001b[0m\n",
      "\u001b[32m[I 2023-04-20 11:26:10,422]\u001b[0m Trial 75 finished with value: 10.030953074940612 and parameters: {'n_estimators': 143, 'max_depth': 15, 'max_features': 10}. Best is trial 54 with value: 9.666664814620104.\u001b[0m\n",
      "\u001b[32m[I 2023-04-20 11:26:11,035]\u001b[0m Trial 76 finished with value: 10.418910063238869 and parameters: {'n_estimators': 128, 'max_depth': 11, 'max_features': 9}. Best is trial 54 with value: 9.666664814620104.\u001b[0m\n",
      "\u001b[32m[I 2023-04-20 11:26:12,442]\u001b[0m Trial 77 finished with value: 10.07106432338403 and parameters: {'n_estimators': 225, 'max_depth': 14, 'max_features': 10}. Best is trial 54 with value: 9.666664814620104.\u001b[0m\n",
      "\u001b[32m[I 2023-04-20 11:26:13,683]\u001b[0m Trial 78 finished with value: 9.731805750168753 and parameters: {'n_estimators': 188, 'max_depth': 17, 'max_features': 10}. Best is trial 54 with value: 9.666664814620104.\u001b[0m\n",
      "\u001b[32m[I 2023-04-20 11:26:14,894]\u001b[0m Trial 79 finished with value: 10.080799463278685 and parameters: {'n_estimators': 184, 'max_depth': 44, 'max_features': 10}. Best is trial 54 with value: 9.666664814620104.\u001b[0m\n",
      "\u001b[32m[I 2023-04-20 11:26:16,144]\u001b[0m Trial 80 finished with value: 10.501133926340547 and parameters: {'n_estimators': 206, 'max_depth': 17, 'max_features': 9}. Best is trial 54 with value: 9.666664814620104.\u001b[0m\n",
      "\u001b[32m[I 2023-04-20 11:26:17,949]\u001b[0m Trial 81 finished with value: 9.663648383264043 and parameters: {'n_estimators': 275, 'max_depth': 17, 'max_features': 10}. Best is trial 81 with value: 9.663648383264043.\u001b[0m\n",
      "\u001b[32m[I 2023-04-20 11:26:19,906]\u001b[0m Trial 82 finished with value: 9.690106733032012 and parameters: {'n_estimators': 299, 'max_depth': 17, 'max_features': 10}. Best is trial 81 with value: 9.663648383264043.\u001b[0m\n",
      "\u001b[32m[I 2023-04-20 11:26:21,795]\u001b[0m Trial 83 finished with value: 9.694657966303208 and parameters: {'n_estimators': 289, 'max_depth': 17, 'max_features': 10}. Best is trial 81 with value: 9.663648383264043.\u001b[0m\n",
      "\u001b[32m[I 2023-04-20 11:26:23,447]\u001b[0m Trial 84 finished with value: 10.03709668656753 and parameters: {'n_estimators': 298, 'max_depth': 12, 'max_features': 10}. Best is trial 81 with value: 9.663648383264043.\u001b[0m\n",
      "\u001b[32m[I 2023-04-20 11:26:25,294]\u001b[0m Trial 85 finished with value: 9.66374799521349 and parameters: {'n_estimators': 282, 'max_depth': 17, 'max_features': 10}. Best is trial 81 with value: 9.663648383264043.\u001b[0m\n",
      "\u001b[32m[I 2023-04-20 11:26:26,972]\u001b[0m Trial 86 finished with value: 10.35487636436036 and parameters: {'n_estimators': 274, 'max_depth': 17, 'max_features': 9}. Best is trial 81 with value: 9.663648383264043.\u001b[0m\n",
      "\u001b[32m[I 2023-04-20 11:26:28,403]\u001b[0m Trial 87 finished with value: 10.712898452970933 and parameters: {'n_estimators': 288, 'max_depth': 15, 'max_features': 7}. Best is trial 81 with value: 9.663648383264043.\u001b[0m\n",
      "\u001b[32m[I 2023-04-20 11:26:29,950]\u001b[0m Trial 88 finished with value: 10.046724525290703 and parameters: {'n_estimators': 252, 'max_depth': 14, 'max_features': 10}. Best is trial 81 with value: 9.663648383264043.\u001b[0m\n",
      "\u001b[32m[I 2023-04-20 11:26:30,387]\u001b[0m Trial 89 finished with value: 10.147281717458476 and parameters: {'n_estimators': 76, 'max_depth': 12, 'max_features': 10}. Best is trial 81 with value: 9.663648383264043.\u001b[0m\n",
      "\u001b[32m[I 2023-04-20 11:26:32,420]\u001b[0m Trial 90 finished with value: 9.672869246492064 and parameters: {'n_estimators': 311, 'max_depth': 17, 'max_features': 10}. Best is trial 81 with value: 9.663648383264043.\u001b[0m\n",
      "\u001b[32m[I 2023-04-20 11:26:34,406]\u001b[0m Trial 91 finished with value: 9.685123338861185 and parameters: {'n_estimators': 306, 'max_depth': 17, 'max_features': 10}. Best is trial 81 with value: 9.663648383264043.\u001b[0m\n",
      "\u001b[32m[I 2023-04-20 11:26:36,371]\u001b[0m Trial 92 finished with value: 9.955526398818055 and parameters: {'n_estimators': 306, 'max_depth': 16, 'max_features': 10}. Best is trial 81 with value: 9.663648383264043.\u001b[0m\n",
      "\u001b[32m[I 2023-04-20 11:26:38,351]\u001b[0m Trial 93 finished with value: 10.20145242827467 and parameters: {'n_estimators': 325, 'max_depth': 14, 'max_features': 10}. Best is trial 81 with value: 9.663648383264043.\u001b[0m\n",
      "\u001b[32m[I 2023-04-20 11:26:40,050]\u001b[0m Trial 94 finished with value: 10.235144657396912 and parameters: {'n_estimators': 276, 'max_depth': 38, 'max_features': 9}. Best is trial 81 with value: 9.663648383264043.\u001b[0m\n",
      "\u001b[32m[I 2023-04-20 11:26:41,757]\u001b[0m Trial 95 finished with value: 9.691681409840715 and parameters: {'n_estimators': 260, 'max_depth': 17, 'max_features': 10}. Best is trial 81 with value: 9.663648383264043.\u001b[0m\n",
      "\u001b[32m[I 2023-04-20 11:26:43,477]\u001b[0m Trial 96 finished with value: 9.900810351517762 and parameters: {'n_estimators': 260, 'max_depth': 23, 'max_features': 10}. Best is trial 81 with value: 9.663648383264043.\u001b[0m\n",
      "\u001b[32m[I 2023-04-20 11:26:44,520]\u001b[0m Trial 97 finished with value: 11.237354988703492 and parameters: {'n_estimators': 287, 'max_depth': 11, 'max_features': 6}. Best is trial 81 with value: 9.663648383264043.\u001b[0m\n",
      "\u001b[32m[I 2023-04-20 11:26:45,871]\u001b[0m Trial 98 finished with value: 11.371505843675099 and parameters: {'n_estimators': 308, 'max_depth': 8, 'max_features': 10}. Best is trial 81 with value: 9.663648383264043.\u001b[0m\n",
      "\u001b[32m[I 2023-04-20 11:26:47,388]\u001b[0m Trial 99 finished with value: 10.134461995111822 and parameters: {'n_estimators': 246, 'max_depth': 22, 'max_features': 9}. Best is trial 81 with value: 9.663648383264043.\u001b[0m\n"
     ]
    },
    {
     "name": "stdout",
     "output_type": "stream",
     "text": [
      "Optuna execution time:  173.46114015579224 seconds\n"
     ]
    }
   ],
   "source": [
    "emissions = pd.read_csv(\"emissions_cleaned.csv\")\n",
    "\n",
    "# Split dataset into X and Y\n",
    "X = emissions.drop('co2_emissions', axis=1)\n",
    "y = emissions[\"co2_emissions\"]\n",
    "\n",
    "X_train, X_test, y_train, y_test = train_test_split(X,y, random_state=3, test_size=0.2)\n",
    "\n",
    "def objective(trial):\n",
    "    n_estimators = trial.suggest_int('n_estimators', 2, 500,1)\n",
    "    max_depth = trial.suggest_int('max_depth', 1, 50,1)\n",
    "    max_features = trial.suggest_int('max_features',3,10,1)\n",
    "    \n",
    "    rf = RandomForestRegressor(n_estimators, max_depth= max_depth,\\\n",
    "                                                 max_features= max_features,\n",
    "                              random_state=3)\n",
    "    rf.fit(X_train, y_train)\n",
    "    \n",
    "    return mean_squared_error(y_test, rf.predict(X_test))#.mean()\n",
    "\n",
    "start = time.time()                              \n",
    "study = optuna.create_study(direction='minimize')\n",
    "study.optimize(objective, n_trials=100)\n",
    "end = time.time()\n",
    "\n",
    "print('Optuna execution time: ', (end-start), 'seconds')"
   ]
  },
  {
   "cell_type": "code",
   "execution_count": 30,
   "id": "0847c7fc",
   "metadata": {},
   "outputs": [
    {
     "data": {
      "text/plain": [
       "FrozenTrial(number=81, state=TrialState.COMPLETE, values=[9.663648383264043], datetime_start=datetime.datetime(2023, 4, 20, 11, 26, 16, 144677), datetime_complete=datetime.datetime(2023, 4, 20, 11, 26, 17, 948914), params={'n_estimators': 275, 'max_depth': 17, 'max_features': 10}, user_attrs={}, system_attrs={}, intermediate_values={}, distributions={'n_estimators': IntDistribution(high=500, log=False, low=2, step=1), 'max_depth': IntDistribution(high=50, log=False, low=1, step=1), 'max_features': IntDistribution(high=10, log=False, low=3, step=1)}, trial_id=81, value=None)"
      ]
     },
     "execution_count": 30,
     "metadata": {},
     "output_type": "execute_result"
    }
   ],
   "source": [
    "#Getting the best trial..\n",
    "study.best_trial"
   ]
  },
  {
   "cell_type": "code",
   "execution_count": 31,
   "id": "65582f83",
   "metadata": {},
   "outputs": [
    {
     "name": "stdout",
     "output_type": "stream",
     "text": [
      "Mean Absolute Error (MAE): 1.6684159642573464\n",
      "Mean Absolute Percentage Error (MAPE): 0.006910365818076888\n",
      "Mean Squared Error (MSE): 9.663648383264043\n"
     ]
    }
   ],
   "source": [
    "\n",
    "\"\"\"OPTUNA BASED ON MINIMIZED LOSS\"\"\"\n",
    "\n",
    "rf = RandomForestRegressor(n_estimators=275, max_depth= 17,\\\n",
    "                                                 max_features= 10, random_state=3)\n",
    "rf.fit(X_train, y_train)\n",
    "y_pred = rf.predict(X_test)\n",
    "\n",
    "print('Mean Absolute Error (MAE):', mean_absolute_error(y_test, y_pred))\n",
    "print('Mean Absolute Percentage Error (MAPE):', mean_absolute_percentage_error(y_test, y_pred))\n",
    "print('Mean Squared Error (MSE):', mean_squared_error(y_test, y_pred))"
   ]
  },
  {
   "cell_type": "code",
   "execution_count": null,
   "id": "0f97d138",
   "metadata": {},
   "outputs": [],
   "source": []
  }
 ],
 "metadata": {
  "kernelspec": {
   "display_name": "Python 3 (ipykernel)",
   "language": "python",
   "name": "python3"
  },
  "language_info": {
   "codemirror_mode": {
    "name": "ipython",
    "version": 3
   },
   "file_extension": ".py",
   "mimetype": "text/x-python",
   "name": "python",
   "nbconvert_exporter": "python",
   "pygments_lexer": "ipython3",
   "version": "3.9.7"
  }
 },
 "nbformat": 4,
 "nbformat_minor": 5
}
