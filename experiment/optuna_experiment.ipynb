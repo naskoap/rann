{
 "cells": [
  {
   "attachments": {},
   "cell_type": "markdown",
   "id": "f22162a4",
   "metadata": {},
   "source": [
    "# Optuna Experiments\n",
    "\n",
    "This file contains the code for the experiments conducted using Optuna on both the classification and regression datasets."
   ]
  },
  {
   "cell_type": "code",
   "execution_count": 16,
   "id": "541291f4",
   "metadata": {},
   "outputs": [],
   "source": [
    "# Import required modules\n",
    "import optuna\n",
    "import time\n",
    "import pandas as pd\n",
    "from sklearn.ensemble import RandomForestRegressor, RandomForestClassifier\n",
    "from sklearn.model_selection import train_test_split\n",
    "from sklearn.metrics import mean_absolute_error, mean_squared_error, mean_absolute_percentage_error, accuracy_score, precision_score, recall_score"
   ]
  },
  {
   "cell_type": "code",
   "execution_count": 17,
   "id": "1b69df20",
   "metadata": {},
   "outputs": [],
   "source": [
    "# Set random seed\n",
    "RANDOM_SEED = 3"
   ]
  },
  {
   "cell_type": "code",
   "execution_count": 18,
   "id": "4052beb4",
   "metadata": {},
   "outputs": [],
   "source": [
    "# Function for calculating elapsed time\n",
    "def print_elapsed_time(start, end):\n",
    "    elapsed_time = end - start\n",
    "    minutes = int(elapsed_time // 60)\n",
    "    seconds = int(elapsed_time % 60)\n",
    "    print(\"Elapsed time: {} minutes, {} seconds\".format(minutes, seconds))"
   ]
  },
  {
   "attachments": {},
   "cell_type": "markdown",
   "id": "f3d3af8d",
   "metadata": {},
   "source": [
    "## Hospital Readmissions (Classification)"
   ]
  },
  {
   "attachments": {},
   "cell_type": "markdown",
   "id": "31f133a4",
   "metadata": {},
   "source": [
    "In this section, we run Optuna on our classification dataset. In Optuna, we define an objective we are trying to maximize or minimize (in this example, accuracy score) and then create a study that runs some number of trials (here 100) in order to attempt to optimize based on our specified objective."
   ]
  },
  {
   "cell_type": "code",
   "execution_count": null,
   "id": "6c2bd7df",
   "metadata": {},
   "outputs": [],
   "source": [
    "# Read in data\n",
    "readmissions = pd.read_csv('../data/classification/readmissions_clean.csv')\n",
    "\n",
    "# Split dataset into X and Y\n",
    "X = readmissions.drop(['readmitted'], axis=1)\n",
    "y = readmissions.readmitted\n",
    "\n",
    "# splitting X and Y into training and testing sets\n",
    "X_train, X_test, y_train, y_test = train_test_split(X,y, random_state=RANDOM_SEED, test_size=0.2)"
   ]
  },
  {
   "cell_type": "code",
   "execution_count": 19,
   "id": "c18e3d4b",
   "metadata": {},
   "outputs": [
    {
     "name": "stderr",
     "output_type": "stream",
     "text": [
      "\u001b[32m[I 2023-04-20 13:28:14,701]\u001b[0m A new study created in memory with name: no-name-7710ea6f-c0ec-481a-a61a-43bb349bc5a4\u001b[0m\n",
      "\u001b[32m[I 2023-04-20 13:28:19,184]\u001b[0m Trial 0 finished with value: 0.6246 and parameters: {'n_estimators': 252, 'max_depth': 13, 'max_features': 7}. Best is trial 0 with value: 0.6246.\u001b[0m\n",
      "\u001b[32m[I 2023-04-20 13:28:21,016]\u001b[0m Trial 1 finished with value: 0.6248 and parameters: {'n_estimators': 121, 'max_depth': 10, 'max_features': 8}. Best is trial 1 with value: 0.6248.\u001b[0m\n",
      "\u001b[32m[I 2023-04-20 13:28:24,906]\u001b[0m Trial 2 finished with value: 0.623 and parameters: {'n_estimators': 219, 'max_depth': 12, 'max_features': 8}. Best is trial 1 with value: 0.6248.\u001b[0m\n",
      "\u001b[32m[I 2023-04-20 13:28:28,378]\u001b[0m Trial 3 finished with value: 0.627 and parameters: {'n_estimators': 177, 'max_depth': 11, 'max_features': 10}. Best is trial 3 with value: 0.627.\u001b[0m\n",
      "\u001b[32m[I 2023-04-20 13:28:28,802]\u001b[0m Trial 4 finished with value: 0.629 and parameters: {'n_estimators': 75, 'max_depth': 6, 'max_features': 3}. Best is trial 4 with value: 0.629.\u001b[0m\n",
      "\u001b[32m[I 2023-04-20 13:28:31,360]\u001b[0m Trial 5 finished with value: 0.624 and parameters: {'n_estimators': 167, 'max_depth': 13, 'max_features': 6}. Best is trial 4 with value: 0.629.\u001b[0m\n",
      "\u001b[32m[I 2023-04-20 13:28:36,113]\u001b[0m Trial 6 finished with value: 0.6258 and parameters: {'n_estimators': 286, 'max_depth': 10, 'max_features': 9}. Best is trial 4 with value: 0.629.\u001b[0m\n",
      "\u001b[32m[I 2023-04-20 13:28:36,689]\u001b[0m Trial 7 finished with value: 0.627 and parameters: {'n_estimators': 62, 'max_depth': 10, 'max_features': 4}. Best is trial 4 with value: 0.629.\u001b[0m\n",
      "\u001b[32m[I 2023-04-20 13:28:38,085]\u001b[0m Trial 8 finished with value: 0.6282 and parameters: {'n_estimators': 250, 'max_depth': 6, 'max_features': 3}. Best is trial 4 with value: 0.629.\u001b[0m\n",
      "\u001b[32m[I 2023-04-20 13:28:40,130]\u001b[0m Trial 9 finished with value: 0.6268 and parameters: {'n_estimators': 216, 'max_depth': 10, 'max_features': 4}. Best is trial 4 with value: 0.629.\u001b[0m\n",
      "\u001b[32m[I 2023-04-20 13:28:40,683]\u001b[0m Trial 10 finished with value: 0.6254 and parameters: {'n_estimators': 83, 'max_depth': 5, 'max_features': 5}. Best is trial 4 with value: 0.629.\u001b[0m\n",
      "\u001b[32m[I 2023-04-20 13:28:42,364]\u001b[0m Trial 11 finished with value: 0.6274 and parameters: {'n_estimators': 300, 'max_depth': 6, 'max_features': 3}. Best is trial 4 with value: 0.629.\u001b[0m\n",
      "\u001b[32m[I 2023-04-20 13:28:43,053]\u001b[0m Trial 12 finished with value: 0.6258 and parameters: {'n_estimators': 111, 'max_depth': 7, 'max_features': 3}. Best is trial 4 with value: 0.629.\u001b[0m\n",
      "\u001b[32m[I 2023-04-20 13:28:44,553]\u001b[0m Trial 13 finished with value: 0.6298 and parameters: {'n_estimators': 155, 'max_depth': 8, 'max_features': 5}. Best is trial 13 with value: 0.6298.\u001b[0m\n",
      "\u001b[32m[I 2023-04-20 13:28:45,950]\u001b[0m Trial 14 finished with value: 0.6282 and parameters: {'n_estimators': 141, 'max_depth': 8, 'max_features': 5}. Best is trial 13 with value: 0.6298.\u001b[0m\n",
      "\u001b[32m[I 2023-04-20 13:28:46,726]\u001b[0m Trial 15 finished with value: 0.6174 and parameters: {'n_estimators': 50, 'max_depth': 15, 'max_features': 5}. Best is trial 13 with value: 0.6298.\u001b[0m\n",
      "\u001b[32m[I 2023-04-20 13:28:47,629]\u001b[0m Trial 16 finished with value: 0.6274 and parameters: {'n_estimators': 87, 'max_depth': 8, 'max_features': 6}. Best is trial 13 with value: 0.6298.\u001b[0m\n",
      "\u001b[32m[I 2023-04-20 13:28:48,937]\u001b[0m Trial 17 finished with value: 0.6258 and parameters: {'n_estimators': 162, 'max_depth': 8, 'max_features': 4}. Best is trial 13 with value: 0.6298.\u001b[0m\n",
      "\u001b[32m[I 2023-04-20 13:28:49,596]\u001b[0m Trial 18 finished with value: 0.6246 and parameters: {'n_estimators': 107, 'max_depth': 5, 'max_features': 4}. Best is trial 13 with value: 0.6298.\u001b[0m\n",
      "\u001b[32m[I 2023-04-20 13:28:51,647]\u001b[0m Trial 19 finished with value: 0.6274 and parameters: {'n_estimators': 198, 'max_depth': 7, 'max_features': 7}. Best is trial 13 with value: 0.6298.\u001b[0m\n",
      "\u001b[32m[I 2023-04-20 13:28:53,042]\u001b[0m Trial 20 finished with value: 0.6284 and parameters: {'n_estimators': 137, 'max_depth': 9, 'max_features': 5}. Best is trial 13 with value: 0.6298.\u001b[0m\n",
      "\u001b[32m[I 2023-04-20 13:28:54,417]\u001b[0m Trial 21 finished with value: 0.6272 and parameters: {'n_estimators': 139, 'max_depth': 9, 'max_features': 5}. Best is trial 13 with value: 0.6298.\u001b[0m\n",
      "\u001b[32m[I 2023-04-20 13:28:55,735]\u001b[0m Trial 22 finished with value: 0.6292 and parameters: {'n_estimators': 142, 'max_depth': 7, 'max_features': 6}. Best is trial 13 with value: 0.6298.\u001b[0m\n",
      "\u001b[32m[I 2023-04-20 13:28:56,431]\u001b[0m Trial 23 finished with value: 0.6292 and parameters: {'n_estimators': 83, 'max_depth': 6, 'max_features': 6}. Best is trial 13 with value: 0.6298.\u001b[0m\n",
      "\u001b[32m[I 2023-04-20 13:28:58,151]\u001b[0m Trial 24 finished with value: 0.6274 and parameters: {'n_estimators': 185, 'max_depth': 7, 'max_features': 6}. Best is trial 13 with value: 0.6298.\u001b[0m\n",
      "\u001b[32m[I 2023-04-20 13:28:58,967]\u001b[0m Trial 25 finished with value: 0.6228 and parameters: {'n_estimators': 97, 'max_depth': 5, 'max_features': 7}. Best is trial 13 with value: 0.6298.\u001b[0m\n",
      "\u001b[32m[I 2023-04-20 13:29:00,463]\u001b[0m Trial 26 finished with value: 0.628 and parameters: {'n_estimators': 156, 'max_depth': 7, 'max_features': 6}. Best is trial 13 with value: 0.6298.\u001b[0m\n",
      "\u001b[32m[I 2023-04-20 13:29:02,289]\u001b[0m Trial 27 finished with value: 0.6278 and parameters: {'n_estimators': 124, 'max_depth': 9, 'max_features': 8}. Best is trial 13 with value: 0.6298.\u001b[0m\n",
      "\u001b[32m[I 2023-04-20 13:29:04,199]\u001b[0m Trial 28 finished with value: 0.625 and parameters: {'n_estimators': 202, 'max_depth': 6, 'max_features': 7}. Best is trial 13 with value: 0.6298.\u001b[0m\n",
      "\u001b[32m[I 2023-04-20 13:29:05,734]\u001b[0m Trial 29 finished with value: 0.631 and parameters: {'n_estimators': 147, 'max_depth': 8, 'max_features': 6}. Best is trial 29 with value: 0.631.\u001b[0m\n",
      "\u001b[32m[I 2023-04-20 13:29:07,506]\u001b[0m Trial 30 finished with value: 0.6272 and parameters: {'n_estimators': 155, 'max_depth': 8, 'max_features': 7}. Best is trial 29 with value: 0.631.\u001b[0m\n",
      "\u001b[32m[I 2023-04-20 13:29:08,821]\u001b[0m Trial 31 finished with value: 0.6292 and parameters: {'n_estimators': 139, 'max_depth': 7, 'max_features': 6}. Best is trial 29 with value: 0.631.\u001b[0m\n",
      "\u001b[32m[I 2023-04-20 13:29:10,184]\u001b[0m Trial 32 finished with value: 0.6276 and parameters: {'n_estimators': 119, 'max_depth': 9, 'max_features': 6}. Best is trial 29 with value: 0.631.\u001b[0m\n",
      "\u001b[32m[I 2023-04-20 13:29:11,932]\u001b[0m Trial 33 finished with value: 0.6298 and parameters: {'n_estimators': 192, 'max_depth': 8, 'max_features': 5}. Best is trial 29 with value: 0.631.\u001b[0m\n",
      "\u001b[32m[I 2023-04-20 13:29:14,115]\u001b[0m Trial 34 finished with value: 0.6256 and parameters: {'n_estimators': 187, 'max_depth': 11, 'max_features': 5}. Best is trial 29 with value: 0.631.\u001b[0m\n",
      "\u001b[32m[I 2023-04-20 13:29:15,874]\u001b[0m Trial 35 finished with value: 0.6284 and parameters: {'n_estimators': 223, 'max_depth': 8, 'max_features': 4}. Best is trial 29 with value: 0.631.\u001b[0m\n",
      "\u001b[32m[I 2023-04-20 13:29:18,272]\u001b[0m Trial 36 finished with value: 0.6254 and parameters: {'n_estimators': 176, 'max_depth': 9, 'max_features': 8}. Best is trial 29 with value: 0.631.\u001b[0m\n",
      "\u001b[32m[I 2023-04-20 13:29:20,171]\u001b[0m Trial 37 finished with value: 0.6248 and parameters: {'n_estimators': 153, 'max_depth': 12, 'max_features': 5}. Best is trial 29 with value: 0.631.\u001b[0m\n",
      "\u001b[32m[I 2023-04-20 13:29:23,146]\u001b[0m Trial 38 finished with value: 0.6292 and parameters: {'n_estimators': 240, 'max_depth': 8, 'max_features': 8}. Best is trial 29 with value: 0.631.\u001b[0m\n",
      "\u001b[32m[I 2023-04-20 13:29:26,192]\u001b[0m Trial 39 finished with value: 0.6276 and parameters: {'n_estimators': 171, 'max_depth': 11, 'max_features': 9}. Best is trial 29 with value: 0.631.\u001b[0m\n",
      "\u001b[32m[I 2023-04-20 13:29:28,307]\u001b[0m Trial 40 finished with value: 0.6276 and parameters: {'n_estimators': 207, 'max_depth': 7, 'max_features': 7}. Best is trial 29 with value: 0.631.\u001b[0m\n",
      "\u001b[32m[I 2023-04-20 13:29:29,398]\u001b[0m Trial 41 finished with value: 0.6286 and parameters: {'n_estimators': 129, 'max_depth': 6, 'max_features': 6}. Best is trial 29 with value: 0.631.\u001b[0m\n",
      "\u001b[32m[I 2023-04-20 13:29:31,006]\u001b[0m Trial 42 finished with value: 0.627 and parameters: {'n_estimators': 192, 'max_depth': 6, 'max_features': 6}. Best is trial 29 with value: 0.631.\u001b[0m\n",
      "\u001b[32m[I 2023-04-20 13:29:31,502]\u001b[0m Trial 43 finished with value: 0.6272 and parameters: {'n_estimators': 67, 'max_depth': 6, 'max_features': 5}. Best is trial 29 with value: 0.631.\u001b[0m\n",
      "\u001b[32m[I 2023-04-20 13:29:32,430]\u001b[0m Trial 44 finished with value: 0.6286 and parameters: {'n_estimators': 100, 'max_depth': 7, 'max_features': 6}. Best is trial 29 with value: 0.631.\u001b[0m\n",
      "\u001b[32m[I 2023-04-20 13:29:33,780]\u001b[0m Trial 45 finished with value: 0.6292 and parameters: {'n_estimators': 149, 'max_depth': 8, 'max_features': 5}. Best is trial 29 with value: 0.631.\u001b[0m\n",
      "\u001b[32m[I 2023-04-20 13:29:34,758]\u001b[0m Trial 46 finished with value: 0.6252 and parameters: {'n_estimators': 169, 'max_depth': 5, 'max_features': 4}. Best is trial 29 with value: 0.631.\u001b[0m\n",
      "\u001b[32m[I 2023-04-20 13:29:37,281]\u001b[0m Trial 47 finished with value: 0.6268 and parameters: {'n_estimators': 227, 'max_depth': 9, 'max_features': 6}. Best is trial 29 with value: 0.631.\u001b[0m\n",
      "\u001b[32m[I 2023-04-20 13:29:39,196]\u001b[0m Trial 48 finished with value: 0.6268 and parameters: {'n_estimators': 180, 'max_depth': 10, 'max_features': 5}. Best is trial 29 with value: 0.631.\u001b[0m\n",
      "\u001b[32m[I 2023-04-20 13:29:40,199]\u001b[0m Trial 49 finished with value: 0.6178 and parameters: {'n_estimators': 82, 'max_depth': 14, 'max_features': 4}. Best is trial 29 with value: 0.631.\u001b[0m\n",
      "\u001b[32m[I 2023-04-20 13:29:42,119]\u001b[0m Trial 50 finished with value: 0.6266 and parameters: {'n_estimators': 262, 'max_depth': 6, 'max_features': 5}. Best is trial 29 with value: 0.631.\u001b[0m\n",
      "\u001b[32m[I 2023-04-20 13:29:43,347]\u001b[0m Trial 51 finished with value: 0.6284 and parameters: {'n_estimators': 131, 'max_depth': 7, 'max_features': 6}. Best is trial 29 with value: 0.631.\u001b[0m\n",
      "\u001b[32m[I 2023-04-20 13:29:44,493]\u001b[0m Trial 52 finished with value: 0.6288 and parameters: {'n_estimators': 112, 'max_depth': 7, 'max_features': 6}. Best is trial 29 with value: 0.631.\u001b[0m\n",
      "\u001b[32m[I 2023-04-20 13:29:46,073]\u001b[0m Trial 53 finished with value: 0.6264 and parameters: {'n_estimators': 137, 'max_depth': 8, 'max_features': 7}. Best is trial 29 with value: 0.631.\u001b[0m\n",
      "\u001b[32m[I 2023-04-20 13:29:47,431]\u001b[0m Trial 54 finished with value: 0.6284 and parameters: {'n_estimators': 146, 'max_depth': 7, 'max_features': 6}. Best is trial 29 with value: 0.631.\u001b[0m\n",
      "\u001b[32m[I 2023-04-20 13:29:49,388]\u001b[0m Trial 55 finished with value: 0.6272 and parameters: {'n_estimators': 166, 'max_depth': 8, 'max_features': 7}. Best is trial 29 with value: 0.631.\u001b[0m\n",
      "\u001b[32m[I 2023-04-20 13:29:50,996]\u001b[0m Trial 56 finished with value: 0.6252 and parameters: {'n_estimators': 210, 'max_depth': 6, 'max_features': 5}. Best is trial 29 with value: 0.631.\u001b[0m\n",
      "\u001b[32m[I 2023-04-20 13:29:51,737]\u001b[0m Trial 57 finished with value: 0.6252 and parameters: {'n_estimators': 94, 'max_depth': 5, 'max_features': 6}. Best is trial 29 with value: 0.631.\u001b[0m\n",
      "\u001b[32m[I 2023-04-20 13:29:53,527]\u001b[0m Trial 58 finished with value: 0.6262 and parameters: {'n_estimators': 162, 'max_depth': 10, 'max_features': 5}. Best is trial 29 with value: 0.631.\u001b[0m\n",
      "\u001b[32m[I 2023-04-20 13:29:55,303]\u001b[0m Trial 59 finished with value: 0.6262 and parameters: {'n_estimators': 117, 'max_depth': 8, 'max_features': 10}. Best is trial 29 with value: 0.631.\u001b[0m\n",
      "\u001b[32m[I 2023-04-20 13:29:55,804]\u001b[0m Trial 60 finished with value: 0.629 and parameters: {'n_estimators': 53, 'max_depth': 7, 'max_features': 6}. Best is trial 29 with value: 0.631.\u001b[0m\n",
      "\u001b[32m[I 2023-04-20 13:29:59,012]\u001b[0m Trial 61 finished with value: 0.6278 and parameters: {'n_estimators': 253, 'max_depth': 8, 'max_features': 8}. Best is trial 29 with value: 0.631.\u001b[0m\n",
      "\u001b[32m[I 2023-04-20 13:30:03,311]\u001b[0m Trial 62 finished with value: 0.6286 and parameters: {'n_estimators': 286, 'max_depth': 9, 'max_features': 9}. Best is trial 29 with value: 0.631.\u001b[0m\n",
      "\u001b[32m[I 2023-04-20 13:30:05,940]\u001b[0m Trial 63 finished with value: 0.6272 and parameters: {'n_estimators': 234, 'max_depth': 8, 'max_features': 7}. Best is trial 29 with value: 0.631.\u001b[0m\n",
      "\u001b[32m[I 2023-04-20 13:30:07,201]\u001b[0m Trial 64 finished with value: 0.6266 and parameters: {'n_estimators': 127, 'max_depth': 6, 'max_features': 8}. Best is trial 29 with value: 0.631.\u001b[0m\n",
      "\u001b[32m[I 2023-04-20 13:30:08,532]\u001b[0m Trial 65 finished with value: 0.6282 and parameters: {'n_estimators': 145, 'max_depth': 7, 'max_features': 6}. Best is trial 29 with value: 0.631.\u001b[0m\n",
      "\u001b[32m[I 2023-04-20 13:30:09,765]\u001b[0m Trial 66 finished with value: 0.6256 and parameters: {'n_estimators': 158, 'max_depth': 8, 'max_features': 4}. Best is trial 29 with value: 0.631.\u001b[0m\n",
      "\u001b[32m[I 2023-04-20 13:30:12,720]\u001b[0m Trial 67 finished with value: 0.626 and parameters: {'n_estimators': 234, 'max_depth': 9, 'max_features': 7}. Best is trial 29 with value: 0.631.\u001b[0m\n",
      "\u001b[32m[I 2023-04-20 13:30:13,852]\u001b[0m Trial 68 finished with value: 0.6276 and parameters: {'n_estimators': 138, 'max_depth': 7, 'max_features': 5}. Best is trial 29 with value: 0.631.\u001b[0m\n",
      "\u001b[32m[I 2023-04-20 13:30:17,208]\u001b[0m Trial 69 finished with value: 0.6264 and parameters: {'n_estimators': 277, 'max_depth': 10, 'max_features': 6}. Best is trial 29 with value: 0.631.\u001b[0m\n",
      "\u001b[32m[I 2023-04-20 13:30:19,434]\u001b[0m Trial 70 finished with value: 0.6276 and parameters: {'n_estimators': 190, 'max_depth': 6, 'max_features': 10}. Best is trial 29 with value: 0.631.\u001b[0m\n",
      "\u001b[32m[I 2023-04-20 13:30:20,767]\u001b[0m Trial 71 finished with value: 0.6294 and parameters: {'n_estimators': 148, 'max_depth': 8, 'max_features': 5}. Best is trial 29 with value: 0.631.\u001b[0m\n",
      "\u001b[32m[I 2023-04-20 13:30:22,564]\u001b[0m Trial 72 finished with value: 0.6278 and parameters: {'n_estimators': 176, 'max_depth': 9, 'max_features': 5}. Best is trial 29 with value: 0.631.\u001b[0m\n",
      "\u001b[32m[I 2023-04-20 13:30:23,839]\u001b[0m Trial 73 finished with value: 0.6284 and parameters: {'n_estimators': 131, 'max_depth': 8, 'max_features': 5}. Best is trial 29 with value: 0.631.\u001b[0m\n",
      "\u001b[32m[I 2023-04-20 13:30:25,918]\u001b[0m Trial 74 finished with value: 0.6266 and parameters: {'n_estimators': 149, 'max_depth': 8, 'max_features': 9}. Best is trial 29 with value: 0.631.\u001b[0m\n",
      "\u001b[32m[I 2023-04-20 13:30:27,079]\u001b[0m Trial 75 finished with value: 0.6302 and parameters: {'n_estimators': 162, 'max_depth': 7, 'max_features': 4}. Best is trial 29 with value: 0.631.\u001b[0m\n",
      "\u001b[32m[I 2023-04-20 13:30:28,479]\u001b[0m Trial 76 finished with value: 0.6294 and parameters: {'n_estimators': 196, 'max_depth': 7, 'max_features': 4}. Best is trial 29 with value: 0.631.\u001b[0m\n",
      "\u001b[32m[I 2023-04-20 13:30:29,905]\u001b[0m Trial 77 finished with value: 0.6294 and parameters: {'n_estimators': 198, 'max_depth': 7, 'max_features': 4}. Best is trial 29 with value: 0.631.\u001b[0m\n",
      "\u001b[32m[I 2023-04-20 13:30:31,133]\u001b[0m Trial 78 finished with value: 0.6268 and parameters: {'n_estimators': 200, 'max_depth': 7, 'max_features': 3}. Best is trial 29 with value: 0.631.\u001b[0m\n",
      "\u001b[32m[I 2023-04-20 13:30:32,246]\u001b[0m Trial 79 finished with value: 0.6268 and parameters: {'n_estimators': 181, 'max_depth': 7, 'max_features': 3}. Best is trial 29 with value: 0.631.\u001b[0m\n",
      "\u001b[32m[I 2023-04-20 13:30:33,641]\u001b[0m Trial 80 finished with value: 0.63 and parameters: {'n_estimators': 195, 'max_depth': 7, 'max_features': 4}. Best is trial 29 with value: 0.631.\u001b[0m\n",
      "\u001b[32m[I 2023-04-20 13:30:35,177]\u001b[0m Trial 81 finished with value: 0.6286 and parameters: {'n_estimators': 215, 'max_depth': 7, 'max_features': 4}. Best is trial 29 with value: 0.631.\u001b[0m\n",
      "\u001b[32m[I 2023-04-20 13:30:36,563]\u001b[0m Trial 82 finished with value: 0.6294 and parameters: {'n_estimators': 194, 'max_depth': 7, 'max_features': 4}. Best is trial 29 with value: 0.631.\u001b[0m\n",
      "\u001b[32m[I 2023-04-20 13:30:37,953]\u001b[0m Trial 83 finished with value: 0.63 and parameters: {'n_estimators': 195, 'max_depth': 7, 'max_features': 4}. Best is trial 29 with value: 0.631.\u001b[0m\n",
      "\u001b[32m[I 2023-04-20 13:30:39,422]\u001b[0m Trial 84 finished with value: 0.6262 and parameters: {'n_estimators': 187, 'max_depth': 8, 'max_features': 4}. Best is trial 29 with value: 0.631.\u001b[0m\n",
      "\u001b[32m[I 2023-04-20 13:30:40,920]\u001b[0m Trial 85 finished with value: 0.6286 and parameters: {'n_estimators': 210, 'max_depth': 7, 'max_features': 4}. Best is trial 29 with value: 0.631.\u001b[0m\n",
      "\u001b[32m[I 2023-04-20 13:30:42,069]\u001b[0m Trial 86 finished with value: 0.6304 and parameters: {'n_estimators': 172, 'max_depth': 8, 'max_features': 3}. Best is trial 29 with value: 0.631.\u001b[0m\n",
      "\u001b[32m[I 2023-04-20 13:30:43,265]\u001b[0m Trial 87 finished with value: 0.6256 and parameters: {'n_estimators': 163, 'max_depth': 9, 'max_features': 3}. Best is trial 29 with value: 0.631.\u001b[0m\n",
      "\u001b[32m[I 2023-04-20 13:30:44,418]\u001b[0m Trial 88 finished with value: 0.6304 and parameters: {'n_estimators': 172, 'max_depth': 8, 'max_features': 3}. Best is trial 29 with value: 0.631.\u001b[0m\n",
      "\u001b[32m[I 2023-04-20 13:30:45,549]\u001b[0m Trial 89 finished with value: 0.6302 and parameters: {'n_estimators': 169, 'max_depth': 8, 'max_features': 3}. Best is trial 29 with value: 0.631.\u001b[0m\n",
      "\u001b[32m[I 2023-04-20 13:30:46,706]\u001b[0m Trial 90 finished with value: 0.63 and parameters: {'n_estimators': 173, 'max_depth': 8, 'max_features': 3}. Best is trial 29 with value: 0.631.\u001b[0m\n",
      "\u001b[32m[I 2023-04-20 13:30:47,860]\u001b[0m Trial 91 finished with value: 0.63 and parameters: {'n_estimators': 173, 'max_depth': 8, 'max_features': 3}. Best is trial 29 with value: 0.631.\u001b[0m\n",
      "\u001b[32m[I 2023-04-20 13:30:49,017]\u001b[0m Trial 92 finished with value: 0.63 and parameters: {'n_estimators': 173, 'max_depth': 8, 'max_features': 3}. Best is trial 29 with value: 0.631.\u001b[0m\n",
      "\u001b[32m[I 2023-04-20 13:30:50,169]\u001b[0m Trial 93 finished with value: 0.6304 and parameters: {'n_estimators': 172, 'max_depth': 8, 'max_features': 3}. Best is trial 29 with value: 0.631.\u001b[0m\n",
      "\u001b[32m[I 2023-04-20 13:30:51,471]\u001b[0m Trial 94 finished with value: 0.6284 and parameters: {'n_estimators': 179, 'max_depth': 9, 'max_features': 3}. Best is trial 29 with value: 0.631.\u001b[0m\n",
      "\u001b[32m[I 2023-04-20 13:30:52,703]\u001b[0m Trial 95 finished with value: 0.626 and parameters: {'n_estimators': 169, 'max_depth': 9, 'max_features': 3}. Best is trial 29 with value: 0.631.\u001b[0m\n",
      "\u001b[32m[I 2023-04-20 13:30:53,923]\u001b[0m Trial 96 finished with value: 0.6304 and parameters: {'n_estimators': 183, 'max_depth': 8, 'max_features': 3}. Best is trial 29 with value: 0.631.\u001b[0m\n",
      "\u001b[32m[I 2023-04-20 13:30:55,157]\u001b[0m Trial 97 finished with value: 0.6298 and parameters: {'n_estimators': 185, 'max_depth': 8, 'max_features': 3}. Best is trial 29 with value: 0.631.\u001b[0m\n",
      "\u001b[32m[I 2023-04-20 13:30:56,661]\u001b[0m Trial 98 finished with value: 0.6272 and parameters: {'n_estimators': 205, 'max_depth': 9, 'max_features': 3}. Best is trial 29 with value: 0.631.\u001b[0m\n",
      "\u001b[32m[I 2023-04-20 13:30:57,712]\u001b[0m Trial 99 finished with value: 0.6308 and parameters: {'n_estimators': 157, 'max_depth': 8, 'max_features': 3}. Best is trial 29 with value: 0.631.\u001b[0m\n"
     ]
    }
   ],
   "source": [
    "# Define an objective to maximize or minimize (here, we maximize accuracy)\n",
    "def objective(trial):\n",
    "    # Use ranges of parameters equal to the range covered by grid search\n",
    "    n_estimators = trial.suggest_int('n_estimators', 50, 300, 1)\n",
    "    max_depth = trial.suggest_int('max_depth', 5, 15, 1)\n",
    "    max_features = trial.suggest_int('max_features', 3, 10, 1)\n",
    "\n",
    "    # Train and fit RFC\n",
    "    rf = RandomForestClassifier(n_estimators=n_estimators, max_depth=max_depth, max_features= max_features, random_state=RANDOM_SEED)\n",
    "    rf.fit(X_train, y_train)\n",
    "\n",
    "    # Make and score predictions\n",
    "    pred=rf.predict(X_test)\n",
    "    score = accuracy_score(y_test,pred)\n",
    "    \n",
    "    return score\n",
    "\n",
    "# Run and time optimization\n",
    "start = time.time()                                \n",
    "study = optuna.create_study(direction='maximize')\n",
    "study.optimize(objective, n_trials=100)\n",
    "end = time.time()"
   ]
  },
  {
   "attachments": {},
   "cell_type": "markdown",
   "id": "fc137b14",
   "metadata": {},
   "source": [
    "We see that the Optuna optimization took 2 minutes and 43 seconds"
   ]
  },
  {
   "cell_type": "code",
   "execution_count": 20,
   "id": "0bd17efc",
   "metadata": {},
   "outputs": [
    {
     "name": "stdout",
     "output_type": "stream",
     "text": [
      "Elapsed time: 2 minutes, 43 seconds\n"
     ]
    }
   ],
   "source": [
    "# Display time elapsed\n",
    "print_elapsed_time(start,end)"
   ]
  },
  {
   "attachments": {},
   "cell_type": "markdown",
   "id": "8d367fa9",
   "metadata": {},
   "source": [
    "We can also can view the optimal parameters that Optuna found across 100 trials:"
   ]
  },
  {
   "cell_type": "code",
   "execution_count": 21,
   "id": "e239f891",
   "metadata": {},
   "outputs": [
    {
     "data": {
      "text/plain": [
       "FrozenTrial(number=29, state=TrialState.COMPLETE, values=[0.631], datetime_start=datetime.datetime(2023, 4, 20, 13, 29, 4, 200347), datetime_complete=datetime.datetime(2023, 4, 20, 13, 29, 5, 734533), params={'n_estimators': 147, 'max_depth': 8, 'max_features': 6}, user_attrs={}, system_attrs={}, intermediate_values={}, distributions={'n_estimators': IntDistribution(high=300, log=False, low=50, step=1), 'max_depth': IntDistribution(high=15, log=False, low=5, step=1), 'max_features': IntDistribution(high=10, log=False, low=3, step=1)}, trial_id=29, value=None)"
      ]
     },
     "execution_count": 21,
     "metadata": {},
     "output_type": "execute_result"
    }
   ],
   "source": [
    "# Display results of best trial\n",
    "study.best_trial"
   ]
  },
  {
   "attachments": {},
   "cell_type": "markdown",
   "id": "57162f0d",
   "metadata": {},
   "source": [
    "The best trial has the following parameters, so we then use this optimized set to apply again to our model and get out the final metric scores for Optuna.\n",
    "\n",
    "`params={'n_estimators': 147, 'max_depth': 8, 'max_features': 6}`"
   ]
  },
  {
   "cell_type": "code",
   "execution_count": 22,
   "id": "173ca3fd",
   "metadata": {},
   "outputs": [
    {
     "name": "stdout",
     "output_type": "stream",
     "text": [
      "Accuracy: 0.6274\n",
      "Precision: 0.6320916905444126\n",
      "Recall: 0.47461273666092946\n"
     ]
    }
   ],
   "source": [
    "# Re-fit classifier with optimal parameters\n",
    "rf = RandomForestClassifier(max_depth=8 ,max_features=6 ,n_estimators=147)\n",
    "rf.fit(X_train, y_train)\n",
    "y_pred = rf.predict(X_test)\n",
    "\n",
    "# Calculate and print metrics\n",
    "print(\"Accuracy:\", accuracy_score(y_test, y_pred))\n",
    "print(\"Precision:\", precision_score(y_test, y_pred))\n",
    "print(\"Recall:\", recall_score(y_test, y_pred))"
   ]
  },
  {
   "attachments": {},
   "cell_type": "markdown",
   "id": "44bb18f5",
   "metadata": {},
   "source": [
    "## Car Emissions Data (Regression)"
   ]
  },
  {
   "attachments": {},
   "cell_type": "markdown",
   "id": "da9da058",
   "metadata": {},
   "source": [
    "For regression, we complete similar steps, instead using one of our regression-specific metrics, mean squared error (MSE). To optimize this metric, we want it to be as small as possible, so instead of maximizing for the objective (like we did with classification), we minimize."
   ]
  },
  {
   "cell_type": "code",
   "execution_count": null,
   "id": "9de2b539",
   "metadata": {},
   "outputs": [],
   "source": [
    "# Read in data\n",
    "emissions = pd.read_csv(\"../data/regression/emissions_cleaned.csv\")\n",
    "\n",
    "# Split dataset into X and Y\n",
    "X = emissions.drop('co2_emissions', axis=1)\n",
    "y = emissions[\"co2_emissions\"]\n",
    "\n",
    "# Split into train and test\n",
    "X_train, X_test, y_train, y_test = train_test_split(X,y, random_state=3, test_size=0.2)"
   ]
  },
  {
   "cell_type": "code",
   "execution_count": 12,
   "id": "be093a98",
   "metadata": {},
   "outputs": [
    {
     "name": "stderr",
     "output_type": "stream",
     "text": [
      "\u001b[32m[I 2023-04-20 13:23:47,899]\u001b[0m A new study created in memory with name: no-name-68666d82-200c-418c-9de9-5b5c709f7b57\u001b[0m\n",
      "\u001b[32m[I 2023-04-20 13:23:49,788]\u001b[0m Trial 0 finished with value: 10.24061001682512 and parameters: {'n_estimators': 295, 'max_depth': 14, 'max_features': 9}. Best is trial 0 with value: 10.24061001682512.\u001b[0m\n",
      "\u001b[32m[I 2023-04-20 13:23:50,400]\u001b[0m Trial 1 finished with value: 16.40074208896611 and parameters: {'n_estimators': 229, 'max_depth': 9, 'max_features': 4}. Best is trial 0 with value: 10.24061001682512.\u001b[0m\n",
      "\u001b[32m[I 2023-04-20 13:23:50,925]\u001b[0m Trial 2 finished with value: 14.032112340024373 and parameters: {'n_estimators': 181, 'max_depth': 11, 'max_features': 3}. Best is trial 0 with value: 10.24061001682512.\u001b[0m\n",
      "\u001b[32m[I 2023-04-20 13:23:52,246]\u001b[0m Trial 3 finished with value: 10.083259155266468 and parameters: {'n_estimators': 262, 'max_depth': 12, 'max_features': 8}. Best is trial 3 with value: 10.083259155266468.\u001b[0m\n",
      "\u001b[32m[I 2023-04-20 13:23:53,046]\u001b[0m Trial 4 finished with value: 19.774289287114065 and parameters: {'n_estimators': 261, 'max_depth': 6, 'max_features': 9}. Best is trial 3 with value: 10.083259155266468.\u001b[0m\n",
      "\u001b[32m[I 2023-04-20 13:23:53,437]\u001b[0m Trial 5 finished with value: 11.040869550725146 and parameters: {'n_estimators': 101, 'max_depth': 11, 'max_features': 6}. Best is trial 3 with value: 10.083259155266468.\u001b[0m\n",
      "\u001b[32m[I 2023-04-20 13:23:54,559]\u001b[0m Trial 6 finished with value: 10.328543547203234 and parameters: {'n_estimators': 192, 'max_depth': 14, 'max_features': 9}. Best is trial 3 with value: 10.083259155266468.\u001b[0m\n",
      "\u001b[32m[I 2023-04-20 13:23:54,943]\u001b[0m Trial 7 finished with value: 12.915684530596026 and parameters: {'n_estimators': 125, 'max_depth': 13, 'max_features': 3}. Best is trial 3 with value: 10.083259155266468.\u001b[0m\n",
      "\u001b[32m[I 2023-04-20 13:23:55,196]\u001b[0m Trial 8 finished with value: 27.436780050131595 and parameters: {'n_estimators': 125, 'max_depth': 8, 'max_features': 3}. Best is trial 3 with value: 10.083259155266468.\u001b[0m\n",
      "\u001b[32m[I 2023-04-20 13:23:56,199]\u001b[0m Trial 9 finished with value: 10.728957876259996 and parameters: {'n_estimators': 219, 'max_depth': 14, 'max_features': 6}. Best is trial 3 with value: 10.083259155266468.\u001b[0m\n",
      "\u001b[32m[I 2023-04-20 13:23:56,881]\u001b[0m Trial 10 finished with value: 55.61902095726979 and parameters: {'n_estimators': 297, 'max_depth': 5, 'max_features': 7}. Best is trial 3 with value: 10.083259155266468.\u001b[0m\n",
      "\u001b[32m[I 2023-04-20 13:23:58,850]\u001b[0m Trial 11 finished with value: 10.136148541772563 and parameters: {'n_estimators': 299, 'max_depth': 15, 'max_features': 10}. Best is trial 3 with value: 10.083259155266468.\u001b[0m\n",
      "\u001b[32m[I 2023-04-20 13:24:00,348]\u001b[0m Trial 12 finished with value: 10.07934243580327 and parameters: {'n_estimators': 256, 'max_depth': 12, 'max_features': 10}. Best is trial 12 with value: 10.07934243580327.\u001b[0m\n",
      "\u001b[32m[I 2023-04-20 13:24:01,603]\u001b[0m Trial 13 finished with value: 10.145060783741968 and parameters: {'n_estimators': 243, 'max_depth': 12, 'max_features': 8}. Best is trial 12 with value: 10.07934243580327.\u001b[0m\n",
      "\u001b[32m[I 2023-04-20 13:24:02,887]\u001b[0m Trial 14 finished with value: 10.246439843981632 and parameters: {'n_estimators': 260, 'max_depth': 10, 'max_features': 10}. Best is trial 12 with value: 10.07934243580327.\u001b[0m\n",
      "\u001b[32m[I 2023-04-20 13:24:03,172]\u001b[0m Trial 15 finished with value: 10.415975888518796 and parameters: {'n_estimators': 60, 'max_depth': 12, 'max_features': 7}. Best is trial 12 with value: 10.07934243580327.\u001b[0m\n",
      "\u001b[32m[I 2023-04-20 13:24:03,920]\u001b[0m Trial 16 finished with value: 12.107535277797894 and parameters: {'n_estimators': 216, 'max_depth': 8, 'max_features': 8}. Best is trial 12 with value: 10.07934243580327.\u001b[0m\n",
      "\u001b[32m[I 2023-04-20 13:24:04,936]\u001b[0m Trial 17 finished with value: 11.668315254416544 and parameters: {'n_estimators': 265, 'max_depth': 12, 'max_features': 5}. Best is trial 12 with value: 10.07934243580327.\u001b[0m\n",
      "\u001b[32m[I 2023-04-20 13:24:05,552]\u001b[0m Trial 18 finished with value: 11.516421224863628 and parameters: {'n_estimators': 159, 'max_depth': 9, 'max_features': 8}. Best is trial 12 with value: 10.07934243580327.\u001b[0m\n",
      "\u001b[32m[I 2023-04-20 13:24:06,652]\u001b[0m Trial 19 finished with value: 10.146120648119584 and parameters: {'n_estimators': 199, 'max_depth': 11, 'max_features': 10}. Best is trial 12 with value: 10.07934243580327.\u001b[0m\n",
      "\u001b[32m[I 2023-04-20 13:24:07,589]\u001b[0m Trial 20 finished with value: 10.045422155260564 and parameters: {'n_estimators': 158, 'max_depth': 13, 'max_features': 9}. Best is trial 20 with value: 10.045422155260564.\u001b[0m\n",
      "\u001b[32m[I 2023-04-20 13:24:08,482]\u001b[0m Trial 21 finished with value: 10.010374646186769 and parameters: {'n_estimators': 155, 'max_depth': 13, 'max_features': 9}. Best is trial 21 with value: 10.010374646186769.\u001b[0m\n",
      "\u001b[32m[I 2023-04-20 13:24:09,458]\u001b[0m Trial 22 finished with value: 10.064702489208074 and parameters: {'n_estimators': 159, 'max_depth': 15, 'max_features': 9}. Best is trial 21 with value: 10.010374646186769.\u001b[0m\n",
      "\u001b[32m[I 2023-04-20 13:24:10,470]\u001b[0m Trial 23 finished with value: 10.031224845325488 and parameters: {'n_estimators': 155, 'max_depth': 15, 'max_features': 9}. Best is trial 21 with value: 10.010374646186769.\u001b[0m\n",
      "\u001b[32m[I 2023-04-20 13:24:11,337]\u001b[0m Trial 24 finished with value: 9.972147098491725 and parameters: {'n_estimators': 135, 'max_depth': 15, 'max_features': 9}. Best is trial 24 with value: 9.972147098491725.\u001b[0m\n",
      "\u001b[32m[I 2023-04-20 13:24:11,924]\u001b[0m Trial 25 finished with value: 10.621510501337747 and parameters: {'n_estimators': 106, 'max_depth': 15, 'max_features': 7}. Best is trial 24 with value: 9.972147098491725.\u001b[0m\n",
      "\u001b[32m[I 2023-04-20 13:24:12,705]\u001b[0m Trial 26 finished with value: 10.330671785416918 and parameters: {'n_estimators': 140, 'max_depth': 14, 'max_features': 8}. Best is trial 24 with value: 9.972147098491725.\u001b[0m\n",
      "\u001b[32m[I 2023-04-20 13:24:13,289]\u001b[0m Trial 27 finished with value: 9.85318581964174 and parameters: {'n_estimators': 90, 'max_depth': 15, 'max_features': 9}. Best is trial 27 with value: 9.85318581964174.\u001b[0m\n",
      "\u001b[32m[I 2023-04-20 13:24:13,708]\u001b[0m Trial 28 finished with value: 10.023588685303414 and parameters: {'n_estimators': 67, 'max_depth': 13, 'max_features': 10}. Best is trial 27 with value: 9.85318581964174.\u001b[0m\n",
      "\u001b[32m[I 2023-04-20 13:24:14,276]\u001b[0m Trial 29 finished with value: 10.216752107527011 and parameters: {'n_estimators': 101, 'max_depth': 14, 'max_features': 8}. Best is trial 27 with value: 9.85318581964174.\u001b[0m\n",
      "\u001b[32m[I 2023-04-20 13:24:14,668]\u001b[0m Trial 30 finished with value: 11.060408894689166 and parameters: {'n_estimators': 80, 'max_depth': 13, 'max_features': 7}. Best is trial 27 with value: 9.85318581964174.\u001b[0m\n",
      "\u001b[32m[I 2023-04-20 13:24:15,070]\u001b[0m Trial 31 finished with value: 9.912149841974168 and parameters: {'n_estimators': 62, 'max_depth': 13, 'max_features': 10}. Best is trial 27 with value: 9.85318581964174.\u001b[0m\n",
      "\u001b[32m[I 2023-04-20 13:24:15,595]\u001b[0m Trial 32 finished with value: 9.845321993319937 and parameters: {'n_estimators': 82, 'max_depth': 15, 'max_features': 9}. Best is trial 32 with value: 9.845321993319937.\u001b[0m\n",
      "\u001b[32m[I 2023-04-20 13:24:16,146]\u001b[0m Trial 33 finished with value: 9.825518071034065 and parameters: {'n_estimators': 80, 'max_depth': 15, 'max_features': 10}. Best is trial 33 with value: 9.825518071034065.\u001b[0m\n",
      "\u001b[32m[I 2023-04-20 13:24:16,656]\u001b[0m Trial 34 finished with value: 9.715823699832939 and parameters: {'n_estimators': 75, 'max_depth': 15, 'max_features': 10}. Best is trial 34 with value: 9.715823699832939.\u001b[0m\n",
      "\u001b[32m[I 2023-04-20 13:24:17,227]\u001b[0m Trial 35 finished with value: 9.814819794032898 and parameters: {'n_estimators': 81, 'max_depth': 15, 'max_features': 10}. Best is trial 34 with value: 9.715823699832939.\u001b[0m\n",
      "\u001b[32m[I 2023-04-20 13:24:17,574]\u001b[0m Trial 36 finished with value: 10.046427071831946 and parameters: {'n_estimators': 50, 'max_depth': 14, 'max_features': 10}. Best is trial 34 with value: 9.715823699832939.\u001b[0m\n",
      "\u001b[32m[I 2023-04-20 13:24:18,173]\u001b[0m Trial 37 finished with value: 9.863793095675508 and parameters: {'n_estimators': 85, 'max_depth': 15, 'max_features': 10}. Best is trial 34 with value: 9.715823699832939.\u001b[0m\n",
      "\u001b[32m[I 2023-04-20 13:24:18,904]\u001b[0m Trial 38 finished with value: 9.994842303980496 and parameters: {'n_estimators': 111, 'max_depth': 14, 'max_features': 10}. Best is trial 34 with value: 9.715823699832939.\u001b[0m\n",
      "\u001b[32m[I 2023-04-20 13:24:19,400]\u001b[0m Trial 39 finished with value: 10.146339284112473 and parameters: {'n_estimators': 76, 'max_depth': 14, 'max_features': 10}. Best is trial 34 with value: 9.715823699832939.\u001b[0m\n",
      "\u001b[32m[I 2023-04-20 13:24:19,770]\u001b[0m Trial 40 finished with value: 11.681893653483858 and parameters: {'n_estimators': 93, 'max_depth': 15, 'max_features': 4}. Best is trial 34 with value: 9.715823699832939.\u001b[0m\n",
      "\u001b[32m[I 2023-04-20 13:24:20,498]\u001b[0m Trial 41 finished with value: 9.910411233602566 and parameters: {'n_estimators': 117, 'max_depth': 15, 'max_features': 9}. Best is trial 34 with value: 9.715823699832939.\u001b[0m\n",
      "\u001b[32m[I 2023-04-20 13:24:21,054]\u001b[0m Trial 42 finished with value: 10.571829646909816 and parameters: {'n_estimators': 85, 'max_depth': 14, 'max_features': 9}. Best is trial 34 with value: 9.715823699832939.\u001b[0m\n",
      "\u001b[32m[I 2023-04-20 13:24:21,396]\u001b[0m Trial 43 finished with value: 10.035368969734956 and parameters: {'n_estimators': 51, 'max_depth': 15, 'max_features': 9}. Best is trial 34 with value: 9.715823699832939.\u001b[0m\n",
      "\u001b[32m[I 2023-04-20 13:24:21,898]\u001b[0m Trial 44 finished with value: 10.109821177454247 and parameters: {'n_estimators': 72, 'max_depth': 14, 'max_features': 10}. Best is trial 34 with value: 9.715823699832939.\u001b[0m\n",
      "\u001b[32m[I 2023-04-20 13:24:22,249]\u001b[0m Trial 45 finished with value: 13.5478011313627 and parameters: {'n_estimators': 94, 'max_depth': 7, 'max_features': 9}. Best is trial 34 with value: 9.715823699832939.\u001b[0m\n",
      "\u001b[32m[I 2023-04-20 13:24:22,896]\u001b[0m Trial 46 finished with value: 9.88711277123815 and parameters: {'n_estimators': 91, 'max_depth': 15, 'max_features': 10}. Best is trial 34 with value: 9.715823699832939.\u001b[0m\n",
      "\u001b[32m[I 2023-04-20 13:24:23,622]\u001b[0m Trial 47 finished with value: 10.38116613410725 and parameters: {'n_estimators': 124, 'max_depth': 14, 'max_features': 8}. Best is trial 34 with value: 9.715823699832939.\u001b[0m\n",
      "\u001b[32m[I 2023-04-20 13:24:24,071]\u001b[0m Trial 48 finished with value: 9.885985391015588 and parameters: {'n_estimators': 71, 'max_depth': 15, 'max_features': 9}. Best is trial 34 with value: 9.715823699832939.\u001b[0m\n",
      "\u001b[32m[I 2023-04-20 13:24:24,334]\u001b[0m Trial 49 finished with value: 10.871978821131233 and parameters: {'n_estimators': 60, 'max_depth': 14, 'max_features': 5}. Best is trial 34 with value: 9.715823699832939.\u001b[0m\n",
      "\u001b[32m[I 2023-04-20 13:24:24,949]\u001b[0m Trial 50 finished with value: 10.139134845529057 and parameters: {'n_estimators': 113, 'max_depth': 11, 'max_features': 10}. Best is trial 34 with value: 9.715823699832939.\u001b[0m\n",
      "\u001b[32m[I 2023-04-20 13:24:25,517]\u001b[0m Trial 51 finished with value: 9.900494404957977 and parameters: {'n_estimators': 83, 'max_depth': 15, 'max_features': 10}. Best is trial 34 with value: 9.715823699832939.\u001b[0m\n",
      "\u001b[32m[I 2023-04-20 13:24:26,174]\u001b[0m Trial 52 finished with value: 9.859701287698837 and parameters: {'n_estimators': 98, 'max_depth': 15, 'max_features': 10}. Best is trial 34 with value: 9.715823699832939.\u001b[0m\n",
      "\u001b[32m[I 2023-04-20 13:24:26,889]\u001b[0m Trial 53 finished with value: 9.886088709290842 and parameters: {'n_estimators': 101, 'max_depth': 15, 'max_features': 10}. Best is trial 34 with value: 9.715823699832939.\u001b[0m\n",
      "\u001b[32m[I 2023-04-20 13:24:27,472]\u001b[0m Trial 54 finished with value: 10.496224412701007 and parameters: {'n_estimators': 92, 'max_depth': 14, 'max_features': 9}. Best is trial 34 with value: 9.715823699832939.\u001b[0m\n",
      "\u001b[32m[I 2023-04-20 13:24:27,870]\u001b[0m Trial 55 finished with value: 9.925401893451738 and parameters: {'n_estimators': 58, 'max_depth': 13, 'max_features': 10}. Best is trial 34 with value: 9.715823699832939.\u001b[0m\n",
      "\u001b[32m[I 2023-04-20 13:24:28,232]\u001b[0m Trial 56 finished with value: 10.540509032741408 and parameters: {'n_estimators': 74, 'max_depth': 10, 'max_features': 9}. Best is trial 34 with value: 9.715823699832939.\u001b[0m\n",
      "\u001b[32m[I 2023-04-20 13:24:28,629]\u001b[0m Trial 57 finished with value: 41.724655084032015 and parameters: {'n_estimators': 134, 'max_depth': 5, 'max_features': 10}. Best is trial 34 with value: 9.715823699832939.\u001b[0m\n",
      "\u001b[32m[I 2023-04-20 13:24:29,607]\u001b[0m Trial 58 finished with value: 10.411202357523154 and parameters: {'n_estimators': 176, 'max_depth': 14, 'max_features': 8}. Best is trial 34 with value: 9.715823699832939.\u001b[0m\n",
      "\u001b[32m[I 2023-04-20 13:24:30,084]\u001b[0m Trial 59 finished with value: 10.731271423970089 and parameters: {'n_estimators': 99, 'max_depth': 15, 'max_features': 6}. Best is trial 34 with value: 9.715823699832939.\u001b[0m\n",
      "\u001b[32m[I 2023-04-20 13:24:31,250]\u001b[0m Trial 60 finished with value: 10.551633685358766 and parameters: {'n_estimators': 284, 'max_depth': 9, 'max_features': 9}. Best is trial 34 with value: 9.715823699832939.\u001b[0m\n",
      "\u001b[32m[I 2023-04-20 13:24:31,821]\u001b[0m Trial 61 finished with value: 9.854220473441284 and parameters: {'n_estimators': 86, 'max_depth': 15, 'max_features': 10}. Best is trial 34 with value: 9.715823699832939.\u001b[0m\n",
      "\u001b[32m[I 2023-04-20 13:24:32,374]\u001b[0m Trial 62 finished with value: 9.900494404957977 and parameters: {'n_estimators': 83, 'max_depth': 15, 'max_features': 10}. Best is trial 34 with value: 9.715823699832939.\u001b[0m\n",
      "\u001b[32m[I 2023-04-20 13:24:32,840]\u001b[0m Trial 63 finished with value: 9.789822911690589 and parameters: {'n_estimators': 67, 'max_depth': 15, 'max_features': 10}. Best is trial 34 with value: 9.715823699832939.\u001b[0m\n",
      "\u001b[32m[I 2023-04-20 13:24:33,242]\u001b[0m Trial 64 finished with value: 10.576906061343077 and parameters: {'n_estimators': 66, 'max_depth': 14, 'max_features': 9}. Best is trial 34 with value: 9.715823699832939.\u001b[0m\n",
      "\u001b[32m[I 2023-04-20 13:24:33,630]\u001b[0m Trial 65 finished with value: 9.71372468985018 and parameters: {'n_estimators': 57, 'max_depth': 15, 'max_features': 10}. Best is trial 65 with value: 9.71372468985018.\u001b[0m\n",
      "\u001b[32m[I 2023-04-20 13:24:34,051]\u001b[0m Trial 66 finished with value: 10.023588685303414 and parameters: {'n_estimators': 67, 'max_depth': 13, 'max_features': 10}. Best is trial 65 with value: 9.71372468985018.\u001b[0m\n",
      "\u001b[32m[I 2023-04-20 13:24:34,387]\u001b[0m Trial 67 finished with value: 10.003985958928636 and parameters: {'n_estimators': 53, 'max_depth': 15, 'max_features': 9}. Best is trial 65 with value: 9.71372468985018.\u001b[0m\n",
      "\u001b[32m[I 2023-04-20 13:24:34,832]\u001b[0m Trial 68 finished with value: 10.30991393968572 and parameters: {'n_estimators': 78, 'max_depth': 14, 'max_features': 8}. Best is trial 65 with value: 9.71372468985018.\u001b[0m\n",
      "\u001b[32m[I 2023-04-20 13:24:35,195]\u001b[0m Trial 69 finished with value: 17.99867759640389 and parameters: {'n_estimators': 107, 'max_depth': 6, 'max_features': 10}. Best is trial 65 with value: 9.71372468985018.\u001b[0m\n",
      "\u001b[32m[I 2023-04-20 13:24:35,588]\u001b[0m Trial 70 finished with value: 9.682747744191065 and parameters: {'n_estimators': 58, 'max_depth': 15, 'max_features': 10}. Best is trial 70 with value: 9.682747744191065.\u001b[0m\n",
      "\u001b[32m[I 2023-04-20 13:24:36,000]\u001b[0m Trial 71 finished with value: 9.664922253234332 and parameters: {'n_estimators': 60, 'max_depth': 15, 'max_features': 10}. Best is trial 71 with value: 9.664922253234332.\u001b[0m\n",
      "\u001b[32m[I 2023-04-20 13:24:36,380]\u001b[0m Trial 72 finished with value: 9.737840669743095 and parameters: {'n_estimators': 56, 'max_depth': 15, 'max_features': 10}. Best is trial 71 with value: 9.664922253234332.\u001b[0m\n",
      "\u001b[32m[I 2023-04-20 13:24:36,798]\u001b[0m Trial 73 finished with value: 9.64865928675635 and parameters: {'n_estimators': 62, 'max_depth': 15, 'max_features': 10}. Best is trial 73 with value: 9.64865928675635.\u001b[0m\n",
      "\u001b[32m[I 2023-04-20 13:24:37,188]\u001b[0m Trial 74 finished with value: 9.998980549807241 and parameters: {'n_estimators': 59, 'max_depth': 14, 'max_features': 10}. Best is trial 73 with value: 9.64865928675635.\u001b[0m\n",
      "\u001b[32m[I 2023-04-20 13:24:37,569]\u001b[0m Trial 75 finished with value: 9.737840669743095 and parameters: {'n_estimators': 56, 'max_depth': 15, 'max_features': 10}. Best is trial 73 with value: 9.64865928675635.\u001b[0m\n",
      "\u001b[32m[I 2023-04-20 13:24:37,957]\u001b[0m Trial 76 finished with value: 9.71372468985018 and parameters: {'n_estimators': 57, 'max_depth': 15, 'max_features': 10}. Best is trial 73 with value: 9.64865928675635.\u001b[0m\n",
      "\u001b[32m[I 2023-04-20 13:24:38,313]\u001b[0m Trial 77 finished with value: 9.99830993783231 and parameters: {'n_estimators': 54, 'max_depth': 14, 'max_features': 10}. Best is trial 73 with value: 9.64865928675635.\u001b[0m\n",
      "\u001b[32m[I 2023-04-20 13:24:38,730]\u001b[0m Trial 78 finished with value: 10.032519800202303 and parameters: {'n_estimators': 63, 'max_depth': 14, 'max_features': 10}. Best is trial 73 with value: 9.64865928675635.\u001b[0m\n",
      "\u001b[32m[I 2023-04-20 13:24:38,946]\u001b[0m Trial 79 finished with value: 11.647597275893093 and parameters: {'n_estimators': 51, 'max_depth': 13, 'max_features': 5}. Best is trial 73 with value: 9.64865928675635.\u001b[0m\n",
      "\u001b[32m[I 2023-04-20 13:24:39,455]\u001b[0m Trial 80 finished with value: 9.745017392857529 and parameters: {'n_estimators': 72, 'max_depth': 15, 'max_features': 10}. Best is trial 73 with value: 9.64865928675635.\u001b[0m\n",
      "\u001b[32m[I 2023-04-20 13:24:39,875]\u001b[0m Trial 81 finished with value: 9.682747744191065 and parameters: {'n_estimators': 58, 'max_depth': 15, 'max_features': 10}. Best is trial 73 with value: 9.64865928675635.\u001b[0m\n",
      "\u001b[32m[I 2023-04-20 13:24:40,295]\u001b[0m Trial 82 finished with value: 9.737840669743095 and parameters: {'n_estimators': 56, 'max_depth': 15, 'max_features': 10}. Best is trial 73 with value: 9.64865928675635.\u001b[0m\n",
      "\u001b[32m[I 2023-04-20 13:24:40,746]\u001b[0m Trial 83 finished with value: 9.63370467676074 and parameters: {'n_estimators': 63, 'max_depth': 15, 'max_features': 10}. Best is trial 83 with value: 9.63370467676074.\u001b[0m\n",
      "\u001b[32m[I 2023-04-20 13:24:41,200]\u001b[0m Trial 84 finished with value: 9.632951415122635 and parameters: {'n_estimators': 65, 'max_depth': 15, 'max_features': 10}. Best is trial 84 with value: 9.632951415122635.\u001b[0m\n",
      "\u001b[32m[I 2023-04-20 13:24:41,615]\u001b[0m Trial 85 finished with value: 10.032519800202303 and parameters: {'n_estimators': 63, 'max_depth': 14, 'max_features': 10}. Best is trial 84 with value: 9.632951415122635.\u001b[0m\n",
      "\u001b[32m[I 2023-04-20 13:24:42,061]\u001b[0m Trial 86 finished with value: 9.88323886157866 and parameters: {'n_estimators': 70, 'max_depth': 15, 'max_features': 9}. Best is trial 84 with value: 9.632951415122635.\u001b[0m\n",
      "\u001b[32m[I 2023-04-20 13:24:42,410]\u001b[0m Trial 87 finished with value: 9.78556839861597 and parameters: {'n_estimators': 50, 'max_depth': 15, 'max_features': 10}. Best is trial 84 with value: 9.632951415122635.\u001b[0m\n",
      "\u001b[32m[I 2023-04-20 13:24:42,912]\u001b[0m Trial 88 finished with value: 10.132649405799526 and parameters: {'n_estimators': 77, 'max_depth': 14, 'max_features': 10}. Best is trial 84 with value: 9.632951415122635.\u001b[0m\n",
      "\u001b[32m[I 2023-04-20 13:24:43,319]\u001b[0m Trial 89 finished with value: 9.968414804446644 and parameters: {'n_estimators': 64, 'max_depth': 15, 'max_features': 9}. Best is trial 84 with value: 9.632951415122635.\u001b[0m\n",
      "\u001b[32m[I 2023-04-20 13:24:43,797]\u001b[0m Trial 90 finished with value: 10.15757844217384 and parameters: {'n_estimators': 73, 'max_depth': 14, 'max_features': 10}. Best is trial 84 with value: 9.632951415122635.\u001b[0m\n",
      "\u001b[32m[I 2023-04-20 13:24:44,233]\u001b[0m Trial 91 finished with value: 9.64865928675635 and parameters: {'n_estimators': 62, 'max_depth': 15, 'max_features': 10}. Best is trial 84 with value: 9.632951415122635.\u001b[0m\n",
      "\u001b[32m[I 2023-04-20 13:24:45,552]\u001b[0m Trial 92 finished with value: 9.961412959172327 and parameters: {'n_estimators': 196, 'max_depth': 15, 'max_features': 10}. Best is trial 84 with value: 9.632951415122635.\u001b[0m\n",
      "\u001b[32m[I 2023-04-20 13:24:45,800]\u001b[0m Trial 93 finished with value: 11.34884634657124 and parameters: {'n_estimators': 61, 'max_depth': 15, 'max_features': 4}. Best is trial 84 with value: 9.632951415122635.\u001b[0m\n",
      "\u001b[32m[I 2023-04-20 13:24:46,250]\u001b[0m Trial 94 finished with value: 9.789822911690589 and parameters: {'n_estimators': 67, 'max_depth': 15, 'max_features': 10}. Best is trial 84 with value: 9.632951415122635.\u001b[0m\n",
      "\u001b[32m[I 2023-04-20 13:24:46,562]\u001b[0m Trial 95 finished with value: 11.665042408432909 and parameters: {'n_estimators': 75, 'max_depth': 8, 'max_features': 10}. Best is trial 84 with value: 9.632951415122635.\u001b[0m\n",
      "\u001b[32m[I 2023-04-20 13:24:46,963]\u001b[0m Trial 96 finished with value: 10.013373234608592 and parameters: {'n_estimators': 60, 'max_depth': 15, 'max_features': 9}. Best is trial 84 with value: 9.632951415122635.\u001b[0m\n",
      "\u001b[32m[I 2023-04-20 13:24:47,580]\u001b[0m Trial 97 finished with value: 10.08661007620594 and parameters: {'n_estimators': 87, 'max_depth': 14, 'max_features': 10}. Best is trial 84 with value: 9.632951415122635.\u001b[0m\n",
      "\u001b[32m[I 2023-04-20 13:24:49,153]\u001b[0m Trial 98 finished with value: 9.984755524936087 and parameters: {'n_estimators': 237, 'max_depth': 15, 'max_features': 10}. Best is trial 84 with value: 9.632951415122635.\u001b[0m\n",
      "\u001b[32m[I 2023-04-20 13:24:49,515]\u001b[0m Trial 99 finished with value: 9.78556839861597 and parameters: {'n_estimators': 50, 'max_depth': 15, 'max_features': 10}. Best is trial 84 with value: 9.632951415122635.\u001b[0m\n"
     ]
    }
   ],
   "source": [
    "# Define an objective to maximize or minimize (here, we minimize MSE)\n",
    "\n",
    "def objective(trial):\n",
    "    # Use ranges of parameters equal to the range covered by grid search\n",
    "    n_estimators = trial.suggest_int('n_estimators', 50, 300, 1)\n",
    "    max_depth = trial.suggest_int('max_depth', 5, 15, 1)\n",
    "    max_features = trial.suggest_int('max_features', 3, 10, 1)\n",
    "    \n",
    "    # Train and fit RFR\n",
    "    rf = RandomForestRegressor(n_estimators=n_estimators, max_depth=max_depth, max_features= max_features, random_state=RANDOM_SEED)\n",
    "    rf.fit(X_train, y_train)\n",
    "\n",
    "    # Make and score predictions\n",
    "    pred=rf.predict(X_test)\n",
    "    score = mean_squared_error(y_test,pred)\n",
    "    \n",
    "    return score\n",
    "\n",
    "# Run and time optimization\n",
    "start = time.time()                              \n",
    "study = optuna.create_study(direction='minimize')\n",
    "study.optimize(objective, n_trials=100)\n",
    "end = time.time()"
   ]
  },
  {
   "attachments": {},
   "cell_type": "markdown",
   "id": "16aef766",
   "metadata": {},
   "source": [
    "We see that the Optuna optimization took 1 minute and 1 second"
   ]
  },
  {
   "cell_type": "code",
   "execution_count": 13,
   "id": "117181c7",
   "metadata": {},
   "outputs": [
    {
     "name": "stdout",
     "output_type": "stream",
     "text": [
      "Elapsed time: 1 minutes, 1 seconds\n"
     ]
    }
   ],
   "source": [
    "# Display time elapsed\n",
    "print_elapsed_time(start,end)"
   ]
  },
  {
   "attachments": {},
   "cell_type": "markdown",
   "id": "0b19f361",
   "metadata": {},
   "source": [
    "We can also can view the optimal parameters that Optuna found across 100 trials:"
   ]
  },
  {
   "cell_type": "code",
   "execution_count": 14,
   "id": "0847c7fc",
   "metadata": {},
   "outputs": [
    {
     "data": {
      "text/plain": [
       "FrozenTrial(number=84, state=TrialState.COMPLETE, values=[9.632951415122635], datetime_start=datetime.datetime(2023, 4, 20, 13, 24, 40, 747572), datetime_complete=datetime.datetime(2023, 4, 20, 13, 24, 41, 200687), params={'n_estimators': 65, 'max_depth': 15, 'max_features': 10}, user_attrs={}, system_attrs={}, intermediate_values={}, distributions={'n_estimators': IntDistribution(high=300, log=False, low=50, step=1), 'max_depth': IntDistribution(high=15, log=False, low=5, step=1), 'max_features': IntDistribution(high=10, log=False, low=3, step=1)}, trial_id=84, value=None)"
      ]
     },
     "execution_count": 14,
     "metadata": {},
     "output_type": "execute_result"
    }
   ],
   "source": [
    "# Display results of best trial\n",
    "study.best_trial"
   ]
  },
  {
   "attachments": {},
   "cell_type": "markdown",
   "id": "0c6644da",
   "metadata": {},
   "source": [
    "The best trial has the following parameters, so we then use this optimized set to apply again to our model and get out the final metric scores for Optuna.\n",
    "\n",
    "`params={'n_estimators': 65, 'max_depth': 15, 'max_features': 10}`"
   ]
  },
  {
   "cell_type": "code",
   "execution_count": 15,
   "id": "65582f83",
   "metadata": {},
   "outputs": [
    {
     "name": "stdout",
     "output_type": "stream",
     "text": [
      "Mean Absolute Error (MAE): 1.6875127999525794\n",
      "Mean Absolute Percentage Error (MAPE): 0.007003344008677135\n",
      "Mean Squared Error (MSE): 9.632951415122635\n"
     ]
    }
   ],
   "source": [
    "# Re-fit classifier with optimal parameters\n",
    "rf = RandomForestRegressor(n_estimators=65, max_depth= 15, max_features= 10, random_state=RANDOM_SEED)\n",
    "rf.fit(X_train, y_train)\n",
    "y_pred = rf.predict(X_test)\n",
    "\n",
    "# Calculate and print metrics\n",
    "print('Mean Absolute Error (MAE):', mean_absolute_error(y_test, y_pred))\n",
    "print('Mean Absolute Percentage Error (MAPE):', mean_absolute_percentage_error(y_test, y_pred))\n",
    "print('Mean Squared Error (MSE):', mean_squared_error(y_test, y_pred))"
   ]
  }
 ],
 "metadata": {
  "kernelspec": {
   "display_name": "Python 3 (ipykernel)",
   "language": "python",
   "name": "python3"
  },
  "language_info": {
   "codemirror_mode": {
    "name": "ipython",
    "version": 3
   },
   "file_extension": ".py",
   "mimetype": "text/x-python",
   "name": "python",
   "nbconvert_exporter": "python",
   "pygments_lexer": "ipython3",
   "version": "3.9.6"
  }
 },
 "nbformat": 4,
 "nbformat_minor": 5
}
