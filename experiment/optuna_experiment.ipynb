{
 "cells": [
  {
   "attachments": {},
   "cell_type": "markdown",
   "id": "f22162a4",
   "metadata": {},
   "source": [
    "# Optuna Experiments\n",
    "\n",
    "This file contains the code for the experiments conducted using Optuna on both the classification and regression datasets."
   ]
  },
  {
   "cell_type": "code",
   "execution_count": 7,
   "id": "541291f4",
   "metadata": {},
   "outputs": [],
   "source": [
    "# Import required modules\n",
    "import optuna\n",
    "import time\n",
    "import pandas as pd\n",
    "from sklearn.ensemble import RandomForestRegressor, RandomForestClassifier\n",
    "from sklearn.model_selection import train_test_split\n",
    "from sklearn.metrics import mean_absolute_error, mean_squared_error, mean_absolute_percentage_error, accuracy_score, precision_score, recall_score"
   ]
  },
  {
   "cell_type": "code",
   "execution_count": 8,
   "id": "1b69df20",
   "metadata": {},
   "outputs": [],
   "source": [
    "# Set random seed\n",
    "RANDOM_SEED = 3"
   ]
  },
  {
   "cell_type": "code",
   "execution_count": 9,
   "id": "4052beb4",
   "metadata": {},
   "outputs": [],
   "source": [
    "# Function for calculating elapsed time\n",
    "def print_elapsed_time(start, end):\n",
    "    elapsed_time = end - start\n",
    "    minutes = int(elapsed_time // 60)\n",
    "    seconds = int(elapsed_time % 60)\n",
    "    print(\"Elapsed time: {} minutes, {} seconds\".format(minutes, seconds))"
   ]
  },
  {
   "attachments": {},
   "cell_type": "markdown",
   "id": "f3d3af8d",
   "metadata": {},
   "source": [
    "## Hospital Readmissions (Classification)"
   ]
  },
  {
   "attachments": {},
   "cell_type": "markdown",
   "id": "31f133a4",
   "metadata": {},
   "source": [
    "In this section, we run Optuna on our classification dataset. In Optuna, we define an objective we are trying to maximize or minimize (in this example, accuracy score) and then create a study that runs some number of trials (here 100) in order to attempt to optimize based on our specified objective."
   ]
  },
  {
   "cell_type": "code",
   "execution_count": 10,
   "id": "6c2bd7df",
   "metadata": {},
   "outputs": [],
   "source": [
    "# Read in data\n",
    "readmissions = pd.read_csv('../data/classification/readmissions_clean.csv')\n",
    "\n",
    "# Split dataset into X and Y\n",
    "X = readmissions.drop(['readmitted'], axis=1)\n",
    "y = readmissions.readmitted\n",
    "\n",
    "# splitting X and Y into training and testing sets\n",
    "X_train, X_test, y_train, y_test = train_test_split(X,y, random_state=RANDOM_SEED, test_size=0.2)"
   ]
  },
  {
   "cell_type": "code",
   "execution_count": 13,
   "id": "c18e3d4b",
   "metadata": {},
   "outputs": [
    {
     "name": "stderr",
     "output_type": "stream",
     "text": [
      "\u001b[32m[I 2023-04-26 13:53:06,482]\u001b[0m A new study created in RDB with name: hospital-readmissions\u001b[0m\n",
      "\u001b[32m[I 2023-04-26 13:53:11,042]\u001b[0m Trial 0 finished with value: 0.618 and parameters: {'n_estimators': 296, 'max_depth': 15, 'max_features': 5}. Best is trial 0 with value: 0.618.\u001b[0m\n",
      "\u001b[32m[I 2023-04-26 13:53:12,551]\u001b[0m Trial 1 finished with value: 0.6212 and parameters: {'n_estimators': 91, 'max_depth': 14, 'max_features': 6}. Best is trial 1 with value: 0.6212.\u001b[0m\n",
      "\u001b[32m[I 2023-04-26 13:53:15,370]\u001b[0m Trial 2 finished with value: 0.6284 and parameters: {'n_estimators': 186, 'max_depth': 11, 'max_features': 7}. Best is trial 2 with value: 0.6284.\u001b[0m\n",
      "\u001b[32m[I 2023-04-26 13:53:17,114]\u001b[0m Trial 3 finished with value: 0.6236 and parameters: {'n_estimators': 259, 'max_depth': 5, 'max_features': 5}. Best is trial 2 with value: 0.6284.\u001b[0m\n",
      "\u001b[32m[I 2023-04-26 13:53:18,579]\u001b[0m Trial 4 finished with value: 0.612 and parameters: {'n_estimators': 75, 'max_depth': 15, 'max_features': 7}. Best is trial 2 with value: 0.6284.\u001b[0m\n",
      "\u001b[32m[I 2023-04-26 13:53:21,298]\u001b[0m Trial 5 finished with value: 0.6176 and parameters: {'n_estimators': 200, 'max_depth': 15, 'max_features': 4}. Best is trial 2 with value: 0.6284.\u001b[0m\n",
      "\u001b[32m[I 2023-04-26 13:53:24,770]\u001b[0m Trial 6 finished with value: 0.6252 and parameters: {'n_estimators': 215, 'max_depth': 12, 'max_features': 7}. Best is trial 2 with value: 0.6284.\u001b[0m\n",
      "\u001b[32m[I 2023-04-26 13:53:26,776]\u001b[0m Trial 7 finished with value: 0.628 and parameters: {'n_estimators': 180, 'max_depth': 6, 'max_features': 9}. Best is trial 2 with value: 0.6284.\u001b[0m\n",
      "\u001b[32m[I 2023-04-26 13:53:30,522]\u001b[0m Trial 8 finished with value: 0.624 and parameters: {'n_estimators': 241, 'max_depth': 13, 'max_features': 6}. Best is trial 2 with value: 0.6284.\u001b[0m\n",
      "\u001b[32m[I 2023-04-26 13:53:33,769]\u001b[0m Trial 9 finished with value: 0.6256 and parameters: {'n_estimators': 262, 'max_depth': 10, 'max_features': 6}. Best is trial 2 with value: 0.6284.\u001b[0m\n",
      "\u001b[32m[I 2023-04-26 13:53:36,099]\u001b[0m Trial 10 finished with value: 0.6266 and parameters: {'n_estimators': 139, 'max_depth': 9, 'max_features': 10}. Best is trial 2 with value: 0.6284.\u001b[0m\n",
      "\u001b[32m[I 2023-04-26 13:53:37,822]\u001b[0m Trial 11 finished with value: 0.6264 and parameters: {'n_estimators': 149, 'max_depth': 6, 'max_features': 9}. Best is trial 2 with value: 0.6284.\u001b[0m\n",
      "\u001b[32m[I 2023-04-26 13:53:40,174]\u001b[0m Trial 12 finished with value: 0.6266 and parameters: {'n_estimators': 162, 'max_depth': 8, 'max_features': 9}. Best is trial 2 with value: 0.6284.\u001b[0m\n",
      "\u001b[32m[I 2023-04-26 13:53:42,446]\u001b[0m Trial 13 finished with value: 0.6286 and parameters: {'n_estimators': 197, 'max_depth': 7, 'max_features': 8}. Best is trial 13 with value: 0.6286.\u001b[0m\n",
      "\u001b[32m[I 2023-04-26 13:53:44,465]\u001b[0m Trial 14 finished with value: 0.6264 and parameters: {'n_estimators': 121, 'max_depth': 11, 'max_features': 8}. Best is trial 13 with value: 0.6286.\u001b[0m\n",
      "\u001b[32m[I 2023-04-26 13:53:45,936]\u001b[0m Trial 15 finished with value: 0.6294 and parameters: {'n_estimators': 212, 'max_depth': 8, 'max_features': 3}. Best is trial 15 with value: 0.6294.\u001b[0m\n",
      "\u001b[32m[I 2023-04-26 13:53:47,756]\u001b[0m Trial 16 finished with value: 0.6276 and parameters: {'n_estimators': 221, 'max_depth': 8, 'max_features': 4}. Best is trial 15 with value: 0.6294.\u001b[0m\n",
      "\u001b[32m[I 2023-04-26 13:53:49,593]\u001b[0m Trial 17 finished with value: 0.627 and parameters: {'n_estimators': 298, 'max_depth': 7, 'max_features': 3}. Best is trial 15 with value: 0.6294.\u001b[0m\n",
      "\u001b[32m[I 2023-04-26 13:53:50,445]\u001b[0m Trial 18 finished with value: 0.6276 and parameters: {'n_estimators': 114, 'max_depth': 9, 'max_features': 3}. Best is trial 15 with value: 0.6294.\u001b[0m\n",
      "\u001b[32m[I 2023-04-26 13:53:50,952]\u001b[0m Trial 19 finished with value: 0.6256 and parameters: {'n_estimators': 53, 'max_depth': 5, 'max_features': 8}. Best is trial 15 with value: 0.6294.\u001b[0m\n",
      "\u001b[32m[I 2023-04-26 13:53:54,093]\u001b[0m Trial 20 finished with value: 0.627 and parameters: {'n_estimators': 233, 'max_depth': 7, 'max_features': 10}. Best is trial 15 with value: 0.6294.\u001b[0m\n",
      "\u001b[32m[I 2023-04-26 13:53:57,218]\u001b[0m Trial 21 finished with value: 0.6232 and parameters: {'n_estimators': 192, 'max_depth': 11, 'max_features': 8}. Best is trial 15 with value: 0.6294.\u001b[0m\n",
      "\u001b[32m[I 2023-04-26 13:53:59,612]\u001b[0m Trial 22 finished with value: 0.6234 and parameters: {'n_estimators': 175, 'max_depth': 10, 'max_features': 7}. Best is trial 15 with value: 0.6294.\u001b[0m\n",
      "\u001b[32m[I 2023-04-26 13:54:01,512]\u001b[0m Trial 23 finished with value: 0.6292 and parameters: {'n_estimators': 203, 'max_depth': 8, 'max_features': 5}. Best is trial 15 with value: 0.6294.\u001b[0m\n",
      "\u001b[32m[I 2023-04-26 13:54:03,251]\u001b[0m Trial 24 finished with value: 0.6282 and parameters: {'n_estimators': 208, 'max_depth': 8, 'max_features': 4}. Best is trial 15 with value: 0.6294.\u001b[0m\n",
      "\u001b[32m[I 2023-04-26 13:54:05,489]\u001b[0m Trial 25 finished with value: 0.6274 and parameters: {'n_estimators': 257, 'max_depth': 7, 'max_features': 5}. Best is trial 15 with value: 0.6294.\u001b[0m\n",
      "\u001b[32m[I 2023-04-26 13:54:06,784]\u001b[0m Trial 26 finished with value: 0.6252 and parameters: {'n_estimators': 160, 'max_depth': 9, 'max_features': 3}. Best is trial 15 with value: 0.6294.\u001b[0m\n",
      "\u001b[32m[I 2023-04-26 13:54:08,438]\u001b[0m Trial 27 finished with value: 0.6284 and parameters: {'n_estimators': 242, 'max_depth': 6, 'max_features': 4}. Best is trial 15 with value: 0.6294.\u001b[0m\n",
      "\u001b[32m[I 2023-04-26 13:54:10,534]\u001b[0m Trial 28 finished with value: 0.629 and parameters: {'n_estimators': 224, 'max_depth': 8, 'max_features': 5}. Best is trial 15 with value: 0.6294.\u001b[0m\n",
      "\u001b[32m[I 2023-04-26 13:54:13,640]\u001b[0m Trial 29 finished with value: 0.6274 and parameters: {'n_estimators': 277, 'max_depth': 10, 'max_features': 5}. Best is trial 15 with value: 0.6294.\u001b[0m\n",
      "\u001b[32m[I 2023-04-26 13:54:16,323]\u001b[0m Trial 30 finished with value: 0.628 and parameters: {'n_estimators': 277, 'max_depth': 8, 'max_features': 4}. Best is trial 15 with value: 0.6294.\u001b[0m\n",
      "\u001b[32m[I 2023-04-26 13:54:18,513]\u001b[0m Trial 31 finished with value: 0.6274 and parameters: {'n_estimators': 229, 'max_depth': 7, 'max_features': 6}. Best is trial 15 with value: 0.6294.\u001b[0m\n",
      "\u001b[32m[I 2023-04-26 13:54:20,579]\u001b[0m Trial 32 finished with value: 0.628 and parameters: {'n_estimators': 204, 'max_depth': 9, 'max_features': 5}. Best is trial 15 with value: 0.6294.\u001b[0m\n",
      "\u001b[32m[I 2023-04-26 13:54:22,370]\u001b[0m Trial 33 finished with value: 0.6292 and parameters: {'n_estimators': 191, 'max_depth': 8, 'max_features': 5}. Best is trial 15 with value: 0.6294.\u001b[0m\n",
      "\u001b[32m[I 2023-04-26 13:54:24,401]\u001b[0m Trial 34 finished with value: 0.6292 and parameters: {'n_estimators': 217, 'max_depth': 8, 'max_features': 5}. Best is trial 15 with value: 0.6294.\u001b[0m\n",
      "\u001b[32m[I 2023-04-26 13:54:26,376]\u001b[0m Trial 35 finished with value: 0.6282 and parameters: {'n_estimators': 168, 'max_depth': 9, 'max_features': 6}. Best is trial 15 with value: 0.6294.\u001b[0m\n",
      "\u001b[32m[I 2023-04-26 13:54:27,702]\u001b[0m Trial 36 finished with value: 0.6284 and parameters: {'n_estimators': 213, 'max_depth': 6, 'max_features': 3}. Best is trial 15 with value: 0.6294.\u001b[0m\n",
      "\u001b[32m[I 2023-04-26 13:54:29,527]\u001b[0m Trial 37 finished with value: 0.6252 and parameters: {'n_estimators': 188, 'max_depth': 10, 'max_features': 4}. Best is trial 15 with value: 0.6294.\u001b[0m\n",
      "\u001b[32m[I 2023-04-26 13:54:31,818]\u001b[0m Trial 38 finished with value: 0.6292 and parameters: {'n_estimators': 243, 'max_depth': 8, 'max_features': 5}. Best is trial 15 with value: 0.6294.\u001b[0m\n",
      "\u001b[32m[I 2023-04-26 13:54:32,917]\u001b[0m Trial 39 finished with value: 0.6246 and parameters: {'n_estimators': 143, 'max_depth': 5, 'max_features': 6}. Best is trial 15 with value: 0.6294.\u001b[0m\n",
      "\u001b[32m[I 2023-04-26 13:54:35,348]\u001b[0m Trial 40 finished with value: 0.6246 and parameters: {'n_estimators': 178, 'max_depth': 12, 'max_features': 5}. Best is trial 15 with value: 0.6294.\u001b[0m\n",
      "\u001b[32m[I 2023-04-26 13:54:37,644]\u001b[0m Trial 41 finished with value: 0.6288 and parameters: {'n_estimators': 238, 'max_depth': 8, 'max_features': 5}. Best is trial 15 with value: 0.6294.\u001b[0m\n",
      "\u001b[32m[I 2023-04-26 13:54:40,017]\u001b[0m Trial 42 finished with value: 0.6268 and parameters: {'n_estimators': 253, 'max_depth': 9, 'max_features': 4}. Best is trial 15 with value: 0.6294.\u001b[0m\n",
      "\u001b[32m[I 2023-04-26 13:54:42,321]\u001b[0m Trial 43 finished with value: 0.6276 and parameters: {'n_estimators': 274, 'max_depth': 7, 'max_features': 5}. Best is trial 15 with value: 0.6294.\u001b[0m\n",
      "\u001b[32m[I 2023-04-26 13:54:44,847]\u001b[0m Trial 44 finished with value: 0.6266 and parameters: {'n_estimators': 217, 'max_depth': 8, 'max_features': 7}. Best is trial 15 with value: 0.6294.\u001b[0m\n",
      "\u001b[32m[I 2023-04-26 13:54:47,674]\u001b[0m Trial 45 finished with value: 0.6282 and parameters: {'n_estimators': 248, 'max_depth': 9, 'max_features': 6}. Best is trial 15 with value: 0.6294.\u001b[0m\n",
      "\u001b[32m[I 2023-04-26 13:54:48,985]\u001b[0m Trial 46 finished with value: 0.6284 and parameters: {'n_estimators': 197, 'max_depth': 6, 'max_features': 4}. Best is trial 15 with value: 0.6294.\u001b[0m\n",
      "\u001b[32m[I 2023-04-26 13:54:53,185]\u001b[0m Trial 47 finished with value: 0.622 and parameters: {'n_estimators': 267, 'max_depth': 14, 'max_features': 5}. Best is trial 15 with value: 0.6294.\u001b[0m\n",
      "\u001b[32m[I 2023-04-26 13:54:55,795]\u001b[0m Trial 48 finished with value: 0.625 and parameters: {'n_estimators': 206, 'max_depth': 10, 'max_features': 6}. Best is trial 15 with value: 0.6294.\u001b[0m\n",
      "\u001b[32m[I 2023-04-26 13:54:57,064]\u001b[0m Trial 49 finished with value: 0.6296 and parameters: {'n_estimators': 184, 'max_depth': 8, 'max_features': 3}. Best is trial 49 with value: 0.6296.\u001b[0m\n",
      "\u001b[32m[I 2023-04-26 13:54:58,287]\u001b[0m Trial 50 finished with value: 0.6274 and parameters: {'n_estimators': 186, 'max_depth': 7, 'max_features': 3}. Best is trial 49 with value: 0.6296.\u001b[0m\n",
      "\u001b[32m[I 2023-04-26 13:54:59,877]\u001b[0m Trial 51 finished with value: 0.6286 and parameters: {'n_estimators': 222, 'max_depth': 8, 'max_features': 3}. Best is trial 49 with value: 0.6296.\u001b[0m\n",
      "\u001b[32m[I 2023-04-26 13:55:01,270]\u001b[0m Trial 52 finished with value: 0.626 and parameters: {'n_estimators': 169, 'max_depth': 8, 'max_features': 4}. Best is trial 49 with value: 0.6296.\u001b[0m\n",
      "\u001b[32m[I 2023-04-26 13:55:02,256]\u001b[0m Trial 53 finished with value: 0.6278 and parameters: {'n_estimators': 153, 'max_depth': 7, 'max_features': 3}. Best is trial 49 with value: 0.6296.\u001b[0m\n",
      "\u001b[32m[I 2023-04-26 13:55:04,016]\u001b[0m Trial 54 finished with value: 0.6264 and parameters: {'n_estimators': 198, 'max_depth': 9, 'max_features': 4}. Best is trial 49 with value: 0.6296.\u001b[0m\n",
      "\u001b[32m[I 2023-04-26 13:55:06,701]\u001b[0m Trial 55 finished with value: 0.6268 and parameters: {'n_estimators': 232, 'max_depth': 8, 'max_features': 7}. Best is trial 49 with value: 0.6296.\u001b[0m\n",
      "\u001b[32m[I 2023-04-26 13:55:08,330]\u001b[0m Trial 56 finished with value: 0.6262 and parameters: {'n_estimators': 212, 'max_depth': 6, 'max_features': 5}. Best is trial 49 with value: 0.6296.\u001b[0m\n",
      "\u001b[32m[I 2023-04-26 13:55:10,170]\u001b[0m Trial 57 finished with value: 0.6272 and parameters: {'n_estimators': 288, 'max_depth': 7, 'max_features': 3}. Best is trial 49 with value: 0.6296.\u001b[0m\n",
      "\u001b[32m[I 2023-04-26 13:55:12,025]\u001b[0m Trial 58 finished with value: 0.6284 and parameters: {'n_estimators': 183, 'max_depth': 9, 'max_features': 5}. Best is trial 49 with value: 0.6296.\u001b[0m\n",
      "\u001b[32m[I 2023-04-26 13:55:13,231]\u001b[0m Trial 59 finished with value: 0.6274 and parameters: {'n_estimators': 133, 'max_depth': 8, 'max_features': 4}. Best is trial 49 with value: 0.6296.\u001b[0m\n",
      "\u001b[32m[I 2023-04-26 13:55:16,524]\u001b[0m Trial 60 finished with value: 0.6242 and parameters: {'n_estimators': 246, 'max_depth': 11, 'max_features': 6}. Best is trial 49 with value: 0.6296.\u001b[0m\n",
      "\u001b[32m[I 2023-04-26 13:55:18,602]\u001b[0m Trial 61 finished with value: 0.6294 and parameters: {'n_estimators': 225, 'max_depth': 8, 'max_features': 5}. Best is trial 49 with value: 0.6296.\u001b[0m\n",
      "\u001b[32m[I 2023-04-26 13:55:20,674]\u001b[0m Trial 62 finished with value: 0.6294 and parameters: {'n_estimators': 225, 'max_depth': 8, 'max_features': 5}. Best is trial 49 with value: 0.6296.\u001b[0m\n",
      "\u001b[32m[I 2023-04-26 13:55:22,488]\u001b[0m Trial 63 finished with value: 0.627 and parameters: {'n_estimators': 193, 'max_depth': 7, 'max_features': 6}. Best is trial 49 with value: 0.6296.\u001b[0m\n",
      "\u001b[32m[I 2023-04-26 13:55:24,384]\u001b[0m Trial 64 finished with value: 0.63 and parameters: {'n_estimators': 206, 'max_depth': 8, 'max_features': 5}. Best is trial 64 with value: 0.63.\u001b[0m\n",
      "\u001b[32m[I 2023-04-26 13:55:26,168]\u001b[0m Trial 65 finished with value: 0.6252 and parameters: {'n_estimators': 205, 'max_depth': 9, 'max_features': 4}. Best is trial 64 with value: 0.63.\u001b[0m\n",
      "\u001b[32m[I 2023-04-26 13:55:27,262]\u001b[0m Trial 66 finished with value: 0.6274 and parameters: {'n_estimators': 173, 'max_depth': 7, 'max_features': 3}. Best is trial 64 with value: 0.63.\u001b[0m\n",
      "\u001b[32m[I 2023-04-26 13:55:28,560]\u001b[0m Trial 67 finished with value: 0.6258 and parameters: {'n_estimators': 160, 'max_depth': 8, 'max_features': 4}. Best is trial 64 with value: 0.63.\u001b[0m\n",
      "\u001b[32m[I 2023-04-26 13:55:30,889]\u001b[0m Trial 68 finished with value: 0.628 and parameters: {'n_estimators': 233, 'max_depth': 9, 'max_features': 5}. Best is trial 64 with value: 0.63.\u001b[0m\n",
      "\u001b[32m[I 2023-04-26 13:55:32,720]\u001b[0m Trial 69 finished with value: 0.6294 and parameters: {'n_estimators': 225, 'max_depth': 10, 'max_features': 3}. Best is trial 64 with value: 0.63.\u001b[0m\n",
      "\u001b[32m[I 2023-04-26 13:55:34,592]\u001b[0m Trial 70 finished with value: 0.6294 and parameters: {'n_estimators': 225, 'max_depth': 10, 'max_features': 3}. Best is trial 64 with value: 0.63.\u001b[0m\n",
      "\u001b[32m[I 2023-04-26 13:55:36,500]\u001b[0m Trial 71 finished with value: 0.6294 and parameters: {'n_estimators': 225, 'max_depth': 10, 'max_features': 3}. Best is trial 64 with value: 0.63.\u001b[0m\n",
      "\u001b[32m[I 2023-04-26 13:55:38,569]\u001b[0m Trial 72 finished with value: 0.6252 and parameters: {'n_estimators': 223, 'max_depth': 12, 'max_features': 3}. Best is trial 64 with value: 0.63.\u001b[0m\n",
      "\u001b[32m[I 2023-04-26 13:55:40,384]\u001b[0m Trial 73 finished with value: 0.6294 and parameters: {'n_estimators': 225, 'max_depth': 10, 'max_features': 3}. Best is trial 64 with value: 0.63.\u001b[0m\n",
      "\u001b[32m[I 2023-04-26 13:55:42,264]\u001b[0m Trial 74 finished with value: 0.6238 and parameters: {'n_estimators': 212, 'max_depth': 11, 'max_features': 3}. Best is trial 64 with value: 0.63.\u001b[0m\n",
      "\u001b[32m[I 2023-04-26 13:55:44,254]\u001b[0m Trial 75 finished with value: 0.6292 and parameters: {'n_estimators': 238, 'max_depth': 10, 'max_features': 3}. Best is trial 64 with value: 0.63.\u001b[0m\n",
      "\u001b[32m[I 2023-04-26 13:55:45,037]\u001b[0m Trial 76 finished with value: 0.6268 and parameters: {'n_estimators': 91, 'max_depth': 10, 'max_features': 3}. Best is trial 64 with value: 0.63.\u001b[0m\n",
      "\u001b[32m[I 2023-04-26 13:55:47,219]\u001b[0m Trial 77 finished with value: 0.6262 and parameters: {'n_estimators': 229, 'max_depth': 12, 'max_features': 3}. Best is trial 64 with value: 0.63.\u001b[0m\n",
      "\u001b[32m[I 2023-04-26 13:55:49,497]\u001b[0m Trial 78 finished with value: 0.6242 and parameters: {'n_estimators': 254, 'max_depth': 11, 'max_features': 3}. Best is trial 64 with value: 0.63.\u001b[0m\n",
      "\u001b[32m[I 2023-04-26 13:55:51,635]\u001b[0m Trial 79 finished with value: 0.6268 and parameters: {'n_estimators': 217, 'max_depth': 10, 'max_features': 4}. Best is trial 64 with value: 0.63.\u001b[0m\n",
      "\u001b[32m[I 2023-04-26 13:55:54,061]\u001b[0m Trial 80 finished with value: 0.6236 and parameters: {'n_estimators': 236, 'max_depth': 13, 'max_features': 3}. Best is trial 64 with value: 0.63.\u001b[0m\n",
      "\u001b[32m[I 2023-04-26 13:55:55,855]\u001b[0m Trial 81 finished with value: 0.629 and parameters: {'n_estimators': 221, 'max_depth': 10, 'max_features': 3}. Best is trial 64 with value: 0.63.\u001b[0m\n",
      "\u001b[32m[I 2023-04-26 13:55:57,671]\u001b[0m Trial 82 finished with value: 0.6294 and parameters: {'n_estimators': 225, 'max_depth': 10, 'max_features': 3}. Best is trial 64 with value: 0.63.\u001b[0m\n",
      "\u001b[32m[I 2023-04-26 13:55:59,866]\u001b[0m Trial 83 finished with value: 0.6276 and parameters: {'n_estimators': 210, 'max_depth': 11, 'max_features': 4}. Best is trial 64 with value: 0.63.\u001b[0m\n",
      "\u001b[32m[I 2023-04-26 13:56:01,430]\u001b[0m Trial 84 finished with value: 0.6272 and parameters: {'n_estimators': 199, 'max_depth': 9, 'max_features': 3}. Best is trial 64 with value: 0.63.\u001b[0m\n",
      "\u001b[32m[I 2023-04-26 13:56:03,206]\u001b[0m Trial 85 finished with value: 0.627 and parameters: {'n_estimators': 229, 'max_depth': 9, 'max_features': 3}. Best is trial 64 with value: 0.63.\u001b[0m\n",
      "\u001b[32m[I 2023-04-26 13:56:05,720]\u001b[0m Trial 86 finished with value: 0.625 and parameters: {'n_estimators': 260, 'max_depth': 10, 'max_features': 4}. Best is trial 64 with value: 0.63.\u001b[0m\n",
      "\u001b[32m[I 2023-04-26 13:56:10,369]\u001b[0m Trial 87 finished with value: 0.6274 and parameters: {'n_estimators': 249, 'max_depth': 11, 'max_features': 9}. Best is trial 64 with value: 0.63.\u001b[0m\n",
      "\u001b[32m[I 2023-04-26 13:56:12,327]\u001b[0m Trial 88 finished with value: 0.6288 and parameters: {'n_estimators': 242, 'max_depth': 10, 'max_features': 3}. Best is trial 64 with value: 0.63.\u001b[0m\n",
      "\u001b[32m[I 2023-04-26 13:56:13,900]\u001b[0m Trial 89 finished with value: 0.6272 and parameters: {'n_estimators': 205, 'max_depth': 9, 'max_features': 3}. Best is trial 64 with value: 0.63.\u001b[0m\n",
      "\u001b[32m[I 2023-04-26 13:56:15,844]\u001b[0m Trial 90 finished with value: 0.6262 and parameters: {'n_estimators': 219, 'max_depth': 9, 'max_features': 4}. Best is trial 64 with value: 0.63.\u001b[0m\n",
      "\u001b[32m[I 2023-04-26 13:56:17,670]\u001b[0m Trial 91 finished with value: 0.629 and parameters: {'n_estimators': 227, 'max_depth': 10, 'max_features': 3}. Best is trial 64 with value: 0.63.\u001b[0m\n",
      "\u001b[32m[I 2023-04-26 13:56:19,515]\u001b[0m Trial 92 finished with value: 0.6294 and parameters: {'n_estimators': 226, 'max_depth': 10, 'max_features': 3}. Best is trial 64 with value: 0.63.\u001b[0m\n",
      "\u001b[32m[I 2023-04-26 13:56:21,266]\u001b[0m Trial 93 finished with value: 0.6284 and parameters: {'n_estimators': 214, 'max_depth': 10, 'max_features': 3}. Best is trial 64 with value: 0.63.\u001b[0m\n",
      "\u001b[32m[I 2023-04-26 13:56:22,872]\u001b[0m Trial 94 finished with value: 0.6292 and parameters: {'n_estimators': 236, 'max_depth': 8, 'max_features': 3}. Best is trial 64 with value: 0.63.\u001b[0m\n",
      "\u001b[32m[I 2023-04-26 13:56:24,608]\u001b[0m Trial 95 finished with value: 0.6236 and parameters: {'n_estimators': 193, 'max_depth': 11, 'max_features': 3}. Best is trial 64 with value: 0.63.\u001b[0m\n",
      "\u001b[32m[I 2023-04-26 13:56:26,151]\u001b[0m Trial 96 finished with value: 0.6268 and parameters: {'n_estimators': 201, 'max_depth': 9, 'max_features': 3}. Best is trial 64 with value: 0.63.\u001b[0m\n",
      "\u001b[32m[I 2023-04-26 13:56:27,992]\u001b[0m Trial 97 finished with value: 0.6284 and parameters: {'n_estimators': 224, 'max_depth': 8, 'max_features': 4}. Best is trial 64 with value: 0.63.\u001b[0m\n",
      "\u001b[32m[I 2023-04-26 13:56:29,557]\u001b[0m Trial 98 finished with value: 0.629 and parameters: {'n_estimators': 211, 'max_depth': 7, 'max_features': 4}. Best is trial 64 with value: 0.63.\u001b[0m\n",
      "\u001b[32m[I 2023-04-26 13:56:31,580]\u001b[0m Trial 99 finished with value: 0.6252 and parameters: {'n_estimators': 232, 'max_depth': 11, 'max_features': 3}. Best is trial 64 with value: 0.63.\u001b[0m\n"
     ]
    }
   ],
   "source": [
    "# Define an objective to maximize or minimize (here, we maximize accuracy)\n",
    "def objective(trial):\n",
    "    # Use ranges of parameters equal to the range covered by grid search\n",
    "    n_estimators = trial.suggest_int('n_estimators', 50, 300, 1)\n",
    "    max_depth = trial.suggest_int('max_depth', 5, 15, 1)\n",
    "    max_features = trial.suggest_int('max_features', 3, 10, 1)\n",
    "\n",
    "    # Train and fit RFC\n",
    "    rf = RandomForestClassifier(n_estimators=n_estimators, max_depth=max_depth, max_features= max_features, random_state=RANDOM_SEED)\n",
    "    rf.fit(X_train, y_train)\n",
    "\n",
    "    # Make and score predictions\n",
    "    pred=rf.predict(X_test)\n",
    "    score = accuracy_score(y_test,pred)\n",
    "    \n",
    "    return score\n",
    "\n",
    "# Run and time optimization\n",
    "start = time.time()                                \n",
    "study = optuna.create_study(\n",
    "    direction='maximize',\n",
    "    # storage and study name are used to generate the dashboard\n",
    "    storage=\"sqlite:///db.sqlite3\",  \n",
    "    study_name=\"hospital-readmissions\") \n",
    "study.optimize(objective, n_trials=100)\n",
    "end = time.time()"
   ]
  },
  {
   "attachments": {},
   "cell_type": "markdown",
   "id": "fc137b14",
   "metadata": {},
   "source": [
    "We see that the Optuna optimization took the following time to run:"
   ]
  },
  {
   "cell_type": "code",
   "execution_count": 14,
   "id": "0bd17efc",
   "metadata": {},
   "outputs": [
    {
     "name": "stdout",
     "output_type": "stream",
     "text": [
      "Elapsed time: 3 minutes, 25 seconds\n"
     ]
    }
   ],
   "source": [
    "# Display time elapsed\n",
    "print_elapsed_time(start,end)"
   ]
  },
  {
   "attachments": {},
   "cell_type": "markdown",
   "id": "8d367fa9",
   "metadata": {},
   "source": [
    "We can also can view the optimal parameters that Optuna found across 100 trials:"
   ]
  },
  {
   "cell_type": "code",
   "execution_count": 15,
   "id": "e239f891",
   "metadata": {},
   "outputs": [
    {
     "data": {
      "text/plain": [
       "FrozenTrial(number=64, state=TrialState.COMPLETE, values=[0.63], datetime_start=datetime.datetime(2023, 4, 26, 13, 55, 22, 491190), datetime_complete=datetime.datetime(2023, 4, 26, 13, 55, 24, 378638), params={'max_depth': 8, 'max_features': 5, 'n_estimators': 206}, user_attrs={}, system_attrs={}, intermediate_values={}, distributions={'max_depth': IntDistribution(high=15, log=False, low=5, step=1), 'max_features': IntDistribution(high=10, log=False, low=3, step=1), 'n_estimators': IntDistribution(high=300, log=False, low=50, step=1)}, trial_id=65, value=None)"
      ]
     },
     "execution_count": 15,
     "metadata": {},
     "output_type": "execute_result"
    }
   ],
   "source": [
    "# Display results of best trial\n",
    "study.best_trial"
   ]
  },
  {
   "cell_type": "code",
   "execution_count": 16,
   "id": "d9a4f578",
   "metadata": {},
   "outputs": [
    {
     "data": {
      "text/plain": [
       "{'max_depth': 8, 'max_features': 5, 'n_estimators': 206}"
      ]
     },
     "execution_count": 16,
     "metadata": {},
     "output_type": "execute_result"
    }
   ],
   "source": [
    "study.best_params"
   ]
  },
  {
   "attachments": {},
   "cell_type": "markdown",
   "id": "7d55987e",
   "metadata": {},
   "source": [
    "To open this in the optuna dashboard locally, we would need to follow these steps:\n",
    "\n",
    "1. Make sure `optuna-dashboard` is installed with pip\n",
    "2. In terminal/bash, make sure the current working directory is set to the one containing the experiment files (`/experiment`)\n",
    "3. Run `optuna-dashboard sqlite:///db.sqlite3`\n",
    "4. Open the web address provided when this function executes to view the dashboard"
   ]
  },
  {
   "attachments": {},
   "cell_type": "markdown",
   "id": "57162f0d",
   "metadata": {},
   "source": [
    "Next, we apply the best set of parameters to our model and get out the final metric scores for Optuna."
   ]
  },
  {
   "cell_type": "code",
   "execution_count": 17,
   "id": "173ca3fd",
   "metadata": {},
   "outputs": [
    {
     "name": "stdout",
     "output_type": "stream",
     "text": [
      "Accuracy: 0.6288\n",
      "Precision: 0.6320541760722348\n",
      "Recall: 0.4819277108433735\n"
     ]
    }
   ],
   "source": [
    "best_params = study.best_params\n",
    "\n",
    "# Re-fit classifier with optimal parameters\n",
    "rf = RandomForestClassifier(max_depth=best_params[\"max_depth\"] ,max_features=best_params[\"max_features\"] ,n_estimators=best_params[\"n_estimators\"], random_state=RANDOM_SEED)\n",
    "rf.fit(X_train, y_train)\n",
    "y_pred = rf.predict(X_test)\n",
    "\n",
    "# Calculate and print metrics\n",
    "print(\"Accuracy:\", accuracy_score(y_test, y_pred))\n",
    "print(\"Precision:\", precision_score(y_test, y_pred))\n",
    "print(\"Recall:\", recall_score(y_test, y_pred))"
   ]
  },
  {
   "attachments": {},
   "cell_type": "markdown",
   "id": "44bb18f5",
   "metadata": {},
   "source": [
    "## Car Emissions Data (Regression)"
   ]
  },
  {
   "attachments": {},
   "cell_type": "markdown",
   "id": "da9da058",
   "metadata": {},
   "source": [
    "For regression, we complete similar steps, instead using one of our regression-specific metrics, mean squared error (MSE). To optimize this metric, we want it to be as small as possible, so instead of maximizing for the objective (like we did with classification), we minimize."
   ]
  },
  {
   "cell_type": "code",
   "execution_count": 18,
   "id": "9de2b539",
   "metadata": {},
   "outputs": [],
   "source": [
    "# Read in data\n",
    "emissions = pd.read_csv(\"../data/regression/emissions_cleaned.csv\")\n",
    "\n",
    "# Split dataset into X and Y\n",
    "X = emissions.drop('co2_emissions', axis=1)\n",
    "y = emissions[\"co2_emissions\"]\n",
    "\n",
    "# Split into train and test\n",
    "X_train, X_test, y_train, y_test = train_test_split(X,y, random_state=3, test_size=0.2)"
   ]
  },
  {
   "cell_type": "code",
   "execution_count": 19,
   "id": "be093a98",
   "metadata": {},
   "outputs": [
    {
     "name": "stderr",
     "output_type": "stream",
     "text": [
      "\u001b[32m[I 2023-04-26 14:01:29,876]\u001b[0m A new study created in RDB with name: co2-emissions\u001b[0m\n",
      "\u001b[32m[I 2023-04-26 14:01:30,315]\u001b[0m Trial 0 finished with value: 11.456047861947715 and parameters: {'n_estimators': 88, 'max_depth': 14, 'max_features': 4}. Best is trial 0 with value: 11.456047861947715.\u001b[0m\n",
      "\u001b[32m[I 2023-04-26 14:01:30,718]\u001b[0m Trial 1 finished with value: 35.07473945082315 and parameters: {'n_estimators': 140, 'max_depth': 6, 'max_features': 6}. Best is trial 0 with value: 11.456047861947715.\u001b[0m\n",
      "\u001b[32m[I 2023-04-26 14:01:32,095]\u001b[0m Trial 2 finished with value: 11.056369719828819 and parameters: {'n_estimators': 293, 'max_depth': 13, 'max_features': 6}. Best is trial 2 with value: 11.056369719828819.\u001b[0m\n",
      "\u001b[32m[I 2023-04-26 14:01:32,429]\u001b[0m Trial 3 finished with value: 42.69933085390503 and parameters: {'n_estimators': 106, 'max_depth': 5, 'max_features': 10}. Best is trial 2 with value: 11.056369719828819.\u001b[0m\n",
      "\u001b[32m[I 2023-04-26 14:01:33,839]\u001b[0m Trial 4 finished with value: 10.355841258183993 and parameters: {'n_estimators': 277, 'max_depth': 11, 'max_features': 9}. Best is trial 4 with value: 10.355841258183993.\u001b[0m\n",
      "\u001b[32m[I 2023-04-26 14:01:34,544]\u001b[0m Trial 5 finished with value: 11.71048737862149 and parameters: {'n_estimators': 187, 'max_depth': 8, 'max_features': 9}. Best is trial 4 with value: 10.355841258183993.\u001b[0m\n",
      "\u001b[32m[I 2023-04-26 14:01:34,894]\u001b[0m Trial 6 finished with value: 11.180093728869133 and parameters: {'n_estimators': 88, 'max_depth': 10, 'max_features': 7}. Best is trial 4 with value: 10.355841258183993.\u001b[0m\n",
      "\u001b[32m[I 2023-04-26 14:01:35,429]\u001b[0m Trial 7 finished with value: 23.503382994961896 and parameters: {'n_estimators': 224, 'max_depth': 7, 'max_features': 5}. Best is trial 4 with value: 10.355841258183993.\u001b[0m\n",
      "\u001b[32m[I 2023-04-26 14:01:36,731]\u001b[0m Trial 8 finished with value: 10.101549017606246 and parameters: {'n_estimators': 212, 'max_depth': 13, 'max_features': 10}. Best is trial 8 with value: 10.101549017606246.\u001b[0m\n",
      "\u001b[32m[I 2023-04-26 14:01:37,255]\u001b[0m Trial 9 finished with value: 10.956756977171032 and parameters: {'n_estimators': 97, 'max_depth': 13, 'max_features': 7}. Best is trial 8 with value: 10.101549017606246.\u001b[0m\n",
      "\u001b[32m[I 2023-04-26 14:01:38,085]\u001b[0m Trial 10 finished with value: 12.62462336683955 and parameters: {'n_estimators': 230, 'max_depth': 15, 'max_features': 3}. Best is trial 8 with value: 10.101549017606246.\u001b[0m\n",
      "\u001b[32m[I 2023-04-26 14:01:39,683]\u001b[0m Trial 11 finished with value: 10.375910713874553 and parameters: {'n_estimators': 300, 'max_depth': 11, 'max_features': 9}. Best is trial 8 with value: 10.101549017606246.\u001b[0m\n",
      "\u001b[32m[I 2023-04-26 14:01:41,085]\u001b[0m Trial 12 finished with value: 10.20344056458221 and parameters: {'n_estimators': 248, 'max_depth': 11, 'max_features': 10}. Best is trial 8 with value: 10.101549017606246.\u001b[0m\n",
      "\u001b[32m[I 2023-04-26 14:01:42,186]\u001b[0m Trial 13 finished with value: 10.525395946562272 and parameters: {'n_estimators': 235, 'max_depth': 9, 'max_features': 10}. Best is trial 8 with value: 10.101549017606246.\u001b[0m\n",
      "\u001b[32m[I 2023-04-26 14:01:43,134]\u001b[0m Trial 14 finished with value: 10.119520690376467 and parameters: {'n_estimators': 181, 'max_depth': 12, 'max_features': 8}. Best is trial 8 with value: 10.101549017606246.\u001b[0m\n",
      "\u001b[32m[I 2023-04-26 14:01:44,097]\u001b[0m Trial 15 finished with value: 10.422739731848283 and parameters: {'n_estimators': 176, 'max_depth': 13, 'max_features': 8}. Best is trial 8 with value: 10.101549017606246.\u001b[0m\n",
      "\u001b[32m[I 2023-04-26 14:01:44,863]\u001b[0m Trial 16 finished with value: 10.192224252085655 and parameters: {'n_estimators': 147, 'max_depth': 12, 'max_features': 8}. Best is trial 8 with value: 10.101549017606246.\u001b[0m\n",
      "\u001b[32m[I 2023-04-26 14:01:46,082]\u001b[0m Trial 17 finished with value: 10.29607073659457 and parameters: {'n_estimators': 199, 'max_depth': 15, 'max_features': 8}. Best is trial 8 with value: 10.101549017606246.\u001b[0m\n",
      "\u001b[32m[I 2023-04-26 14:01:46,888]\u001b[0m Trial 18 finished with value: 10.462060855256043 and parameters: {'n_estimators': 144, 'max_depth': 12, 'max_features': 9}. Best is trial 8 with value: 10.101549017606246.\u001b[0m\n",
      "\u001b[32m[I 2023-04-26 14:01:47,186]\u001b[0m Trial 19 finished with value: 11.904644158031337 and parameters: {'n_estimators': 59, 'max_depth': 9, 'max_features': 8}. Best is trial 8 with value: 10.101549017606246.\u001b[0m\n",
      "\u001b[32m[I 2023-04-26 14:01:48,626]\u001b[0m Trial 20 finished with value: 10.120398537788962 and parameters: {'n_estimators': 209, 'max_depth': 14, 'max_features': 10}. Best is trial 8 with value: 10.101549017606246.\u001b[0m\n",
      "\u001b[32m[I 2023-04-26 14:01:50,100]\u001b[0m Trial 21 finished with value: 10.130920253339752 and parameters: {'n_estimators': 206, 'max_depth': 14, 'max_features': 10}. Best is trial 8 with value: 10.101549017606246.\u001b[0m\n",
      "\u001b[32m[I 2023-04-26 14:01:51,672]\u001b[0m Trial 22 finished with value: 10.352937428165559 and parameters: {'n_estimators': 255, 'max_depth': 14, 'max_features': 9}. Best is trial 8 with value: 10.101549017606246.\u001b[0m\n",
      "\u001b[32m[I 2023-04-26 14:01:52,633]\u001b[0m Trial 23 finished with value: 10.106207809323816 and parameters: {'n_estimators': 159, 'max_depth': 12, 'max_features': 10}. Best is trial 8 with value: 10.101549017606246.\u001b[0m\n",
      "\u001b[32m[I 2023-04-26 14:01:53,499]\u001b[0m Trial 24 finished with value: 10.488389945448569 and parameters: {'n_estimators': 158, 'max_depth': 12, 'max_features': 9}. Best is trial 8 with value: 10.101549017606246.\u001b[0m\n",
      "\u001b[32m[I 2023-04-26 14:01:53,978]\u001b[0m Trial 25 finished with value: 10.9161028147645 and parameters: {'n_estimators': 118, 'max_depth': 10, 'max_features': 7}. Best is trial 8 with value: 10.101549017606246.\u001b[0m\n",
      "\u001b[32m[I 2023-04-26 14:01:54,996]\u001b[0m Trial 26 finished with value: 10.11872768021842 and parameters: {'n_estimators': 172, 'max_depth': 12, 'max_features': 10}. Best is trial 8 with value: 10.101549017606246.\u001b[0m\n",
      "\u001b[32m[I 2023-04-26 14:01:55,617]\u001b[0m Trial 27 finished with value: 10.194864752210739 and parameters: {'n_estimators': 122, 'max_depth': 10, 'max_features': 10}. Best is trial 8 with value: 10.101549017606246.\u001b[0m\n",
      "\u001b[32m[I 2023-04-26 14:01:56,616]\u001b[0m Trial 28 finished with value: 10.07557628501434 and parameters: {'n_estimators': 162, 'max_depth': 13, 'max_features': 10}. Best is trial 28 with value: 10.07557628501434.\u001b[0m\n",
      "\u001b[32m[I 2023-04-26 14:01:57,194]\u001b[0m Trial 29 finished with value: 11.923634283017021 and parameters: {'n_estimators': 159, 'max_depth': 13, 'max_features': 4}. Best is trial 28 with value: 10.07557628501434.\u001b[0m\n",
      "\u001b[32m[I 2023-04-26 14:01:57,584]\u001b[0m Trial 30 finished with value: 9.941473833705752 and parameters: {'n_estimators': 56, 'max_depth': 15, 'max_features': 9}. Best is trial 30 with value: 9.941473833705752.\u001b[0m\n",
      "\u001b[32m[I 2023-04-26 14:01:58,056]\u001b[0m Trial 31 finished with value: 9.980166542450444 and parameters: {'n_estimators': 63, 'max_depth': 15, 'max_features': 9}. Best is trial 30 with value: 9.941473833705752.\u001b[0m\n",
      "\u001b[32m[I 2023-04-26 14:01:58,431]\u001b[0m Trial 32 finished with value: 9.941473833705752 and parameters: {'n_estimators': 56, 'max_depth': 15, 'max_features': 9}. Best is trial 30 with value: 9.941473833705752.\u001b[0m\n",
      "\u001b[32m[I 2023-04-26 14:01:58,782]\u001b[0m Trial 33 finished with value: 10.00531816643042 and parameters: {'n_estimators': 52, 'max_depth': 15, 'max_features': 9}. Best is trial 30 with value: 9.941473833705752.\u001b[0m\n",
      "\u001b[32m[I 2023-04-26 14:01:59,130]\u001b[0m Trial 34 finished with value: 10.035368969734956 and parameters: {'n_estimators': 51, 'max_depth': 15, 'max_features': 9}. Best is trial 30 with value: 9.941473833705752.\u001b[0m\n",
      "\u001b[32m[I 2023-04-26 14:01:59,494]\u001b[0m Trial 35 finished with value: 11.083672990089038 and parameters: {'n_estimators': 69, 'max_depth': 15, 'max_features': 6}. Best is trial 30 with value: 9.941473833705752.\u001b[0m\n",
      "\u001b[32m[I 2023-04-26 14:02:00,046]\u001b[0m Trial 36 finished with value: 10.343309857655102 and parameters: {'n_estimators': 72, 'max_depth': 15, 'max_features': 8}. Best is trial 30 with value: 9.941473833705752.\u001b[0m\n",
      "\u001b[32m[I 2023-04-26 14:02:00,524]\u001b[0m Trial 37 finished with value: 10.456380473095004 and parameters: {'n_estimators': 74, 'max_depth': 14, 'max_features': 9}. Best is trial 30 with value: 9.941473833705752.\u001b[0m\n",
      "\u001b[32m[I 2023-04-26 14:02:01,143]\u001b[0m Trial 38 finished with value: 9.936229633784583 and parameters: {'n_estimators': 83, 'max_depth': 15, 'max_features': 9}. Best is trial 38 with value: 9.936229633784583.\u001b[0m\n",
      "\u001b[32m[I 2023-04-26 14:02:01,388]\u001b[0m Trial 39 finished with value: 54.02555667837902 and parameters: {'n_estimators': 81, 'max_depth': 5, 'max_features': 7}. Best is trial 38 with value: 9.936229633784583.\u001b[0m\n",
      "\u001b[32m[I 2023-04-26 14:02:01,870]\u001b[0m Trial 40 finished with value: 11.236332299432377 and parameters: {'n_estimators': 99, 'max_depth': 14, 'max_features': 5}. Best is trial 38 with value: 9.936229633784583.\u001b[0m\n",
      "\u001b[32m[I 2023-04-26 14:02:02,232]\u001b[0m Trial 41 finished with value: 9.891372148422098 and parameters: {'n_estimators': 50, 'max_depth': 15, 'max_features': 9}. Best is trial 41 with value: 9.891372148422098.\u001b[0m\n",
      "\u001b[32m[I 2023-04-26 14:02:02,676]\u001b[0m Trial 42 finished with value: 9.968414804446644 and parameters: {'n_estimators': 64, 'max_depth': 15, 'max_features': 9}. Best is trial 41 with value: 9.891372148422098.\u001b[0m\n",
      "\u001b[32m[I 2023-04-26 14:02:03,197]\u001b[0m Trial 43 finished with value: 10.313560498484893 and parameters: {'n_estimators': 88, 'max_depth': 14, 'max_features': 8}. Best is trial 41 with value: 9.891372148422098.\u001b[0m\n",
      "\u001b[32m[I 2023-04-26 14:02:03,760]\u001b[0m Trial 44 finished with value: 10.597438248771665 and parameters: {'n_estimators': 84, 'max_depth': 14, 'max_features': 9}. Best is trial 41 with value: 9.891372148422098.\u001b[0m\n",
      "\u001b[32m[I 2023-04-26 14:02:04,106]\u001b[0m Trial 45 finished with value: 23.39864726597253 and parameters: {'n_estimators': 112, 'max_depth': 6, 'max_features': 8}. Best is trial 41 with value: 9.891372148422098.\u001b[0m\n",
      "\u001b[32m[I 2023-04-26 14:02:04,447]\u001b[0m Trial 46 finished with value: 9.891372148422098 and parameters: {'n_estimators': 50, 'max_depth': 15, 'max_features': 9}. Best is trial 41 with value: 9.891372148422098.\u001b[0m\n",
      "\u001b[32m[I 2023-04-26 14:02:04,786]\u001b[0m Trial 47 finished with value: 9.891372148422098 and parameters: {'n_estimators': 50, 'max_depth': 15, 'max_features': 9}. Best is trial 41 with value: 9.891372148422098.\u001b[0m\n",
      "\u001b[32m[I 2023-04-26 14:02:05,481]\u001b[0m Trial 48 finished with value: 11.047046473762727 and parameters: {'n_estimators': 129, 'max_depth': 14, 'max_features': 7}. Best is trial 41 with value: 9.891372148422098.\u001b[0m\n",
      "\u001b[32m[I 2023-04-26 14:02:06,089]\u001b[0m Trial 49 finished with value: 10.203513451552865 and parameters: {'n_estimators': 101, 'max_depth': 15, 'max_features': 8}. Best is trial 41 with value: 9.891372148422098.\u001b[0m\n",
      "\u001b[32m[I 2023-04-26 14:02:06,571]\u001b[0m Trial 50 finished with value: 10.13293743346003 and parameters: {'n_estimators': 79, 'max_depth': 13, 'max_features': 9}. Best is trial 41 with value: 9.891372148422098.\u001b[0m\n",
      "\u001b[32m[I 2023-04-26 14:02:06,954]\u001b[0m Trial 51 finished with value: 9.941473833705752 and parameters: {'n_estimators': 56, 'max_depth': 15, 'max_features': 9}. Best is trial 41 with value: 9.891372148422098.\u001b[0m\n",
      "\u001b[32m[I 2023-04-26 14:02:07,277]\u001b[0m Trial 52 finished with value: 10.138417950097459 and parameters: {'n_estimators': 51, 'max_depth': 15, 'max_features': 8}. Best is trial 41 with value: 9.891372148422098.\u001b[0m\n",
      "\u001b[32m[I 2023-04-26 14:02:07,691]\u001b[0m Trial 53 finished with value: 10.554038892743115 and parameters: {'n_estimators': 65, 'max_depth': 14, 'max_features': 9}. Best is trial 41 with value: 9.891372148422098.\u001b[0m\n",
      "\u001b[32m[I 2023-04-26 14:02:08,356]\u001b[0m Trial 54 finished with value: 9.834530469390003 and parameters: {'n_estimators': 88, 'max_depth': 15, 'max_features': 10}. Best is trial 54 with value: 9.834530469390003.\u001b[0m\n",
      "\u001b[32m[I 2023-04-26 14:02:08,993]\u001b[0m Trial 55 finished with value: 10.046469160789348 and parameters: {'n_estimators': 90, 'max_depth': 14, 'max_features': 10}. Best is trial 54 with value: 9.834530469390003.\u001b[0m\n",
      "\u001b[32m[I 2023-04-26 14:02:09,645]\u001b[0m Trial 56 finished with value: 9.883573906801121 and parameters: {'n_estimators': 92, 'max_depth': 15, 'max_features': 10}. Best is trial 54 with value: 9.834530469390003.\u001b[0m\n",
      "\u001b[32m[I 2023-04-26 14:02:10,346]\u001b[0m Trial 57 finished with value: 9.910414106771427 and parameters: {'n_estimators': 92, 'max_depth': 13, 'max_features': 10}. Best is trial 54 with value: 9.834530469390003.\u001b[0m\n",
      "\u001b[32m[I 2023-04-26 14:02:11,045]\u001b[0m Trial 58 finished with value: 9.898065821763009 and parameters: {'n_estimators': 108, 'max_depth': 13, 'max_features': 10}. Best is trial 54 with value: 9.834530469390003.\u001b[0m\n",
      "\u001b[32m[I 2023-04-26 14:02:11,759]\u001b[0m Trial 59 finished with value: 10.051944136147384 and parameters: {'n_estimators': 106, 'max_depth': 14, 'max_features': 10}. Best is trial 54 with value: 9.834530469390003.\u001b[0m\n",
      "\u001b[32m[I 2023-04-26 14:02:12,343]\u001b[0m Trial 60 finished with value: 11.419049864681414 and parameters: {'n_estimators': 136, 'max_depth': 8, 'max_features': 10}. Best is trial 54 with value: 9.834530469390003.\u001b[0m\n",
      "\u001b[32m[I 2023-04-26 14:02:12,962]\u001b[0m Trial 61 finished with value: 9.884520093671007 and parameters: {'n_estimators': 94, 'max_depth': 13, 'max_features': 10}. Best is trial 54 with value: 9.834530469390003.\u001b[0m\n",
      "\u001b[32m[I 2023-04-26 14:02:13,676]\u001b[0m Trial 62 finished with value: 10.031814452785307 and parameters: {'n_estimators': 107, 'max_depth': 14, 'max_features': 10}. Best is trial 54 with value: 9.834530469390003.\u001b[0m\n",
      "\u001b[32m[I 2023-04-26 14:02:14,134]\u001b[0m Trial 63 finished with value: 10.186698148114974 and parameters: {'n_estimators': 78, 'max_depth': 11, 'max_features': 10}. Best is trial 54 with value: 9.834530469390003.\u001b[0m\n",
      "\u001b[32m[I 2023-04-26 14:02:14,892]\u001b[0m Trial 64 finished with value: 9.947745396461178 and parameters: {'n_estimators': 119, 'max_depth': 13, 'max_features': 10}. Best is trial 54 with value: 9.834530469390003.\u001b[0m\n",
      "\u001b[32m[I 2023-04-26 14:02:15,507]\u001b[0m Trial 65 finished with value: 9.88867132659604 and parameters: {'n_estimators': 96, 'max_depth': 13, 'max_features': 10}. Best is trial 54 with value: 9.834530469390003.\u001b[0m\n",
      "\u001b[32m[I 2023-04-26 14:02:16,169]\u001b[0m Trial 66 finished with value: 9.874101609996853 and parameters: {'n_estimators': 95, 'max_depth': 15, 'max_features': 10}. Best is trial 54 with value: 9.834530469390003.\u001b[0m\n",
      "\u001b[32m[I 2023-04-26 14:02:16,831]\u001b[0m Trial 67 finished with value: 10.154693097324582 and parameters: {'n_estimators': 96, 'max_depth': 14, 'max_features': 10}. Best is trial 54 with value: 9.834530469390003.\u001b[0m\n",
      "\u001b[32m[I 2023-04-26 14:02:17,181]\u001b[0m Trial 68 finished with value: 10.79730068220118 and parameters: {'n_estimators': 71, 'max_depth': 9, 'max_features': 10}. Best is trial 54 with value: 9.834530469390003.\u001b[0m\n",
      "\u001b[32m[I 2023-04-26 14:02:17,938]\u001b[0m Trial 69 finished with value: 10.136738643520504 and parameters: {'n_estimators': 135, 'max_depth': 11, 'max_features': 10}. Best is trial 54 with value: 9.834530469390003.\u001b[0m\n",
      "\u001b[32m[I 2023-04-26 14:02:18,410]\u001b[0m Trial 70 finished with value: 12.611005021014066 and parameters: {'n_estimators': 125, 'max_depth': 15, 'max_features': 3}. Best is trial 54 with value: 9.834530469390003.\u001b[0m\n",
      "\u001b[32m[I 2023-04-26 14:02:20,415]\u001b[0m Trial 71 finished with value: 10.050745391542671 and parameters: {'n_estimators': 279, 'max_depth': 15, 'max_features': 10}. Best is trial 54 with value: 9.834530469390003.\u001b[0m\n",
      "\u001b[32m[I 2023-04-26 14:02:20,960]\u001b[0m Trial 72 finished with value: 9.781708112440418 and parameters: {'n_estimators': 66, 'max_depth': 15, 'max_features': 10}. Best is trial 72 with value: 9.781708112440418.\u001b[0m\n",
      "\u001b[32m[I 2023-04-26 14:02:21,385]\u001b[0m Trial 73 finished with value: 9.967275743888383 and parameters: {'n_estimators': 61, 'max_depth': 14, 'max_features': 10}. Best is trial 72 with value: 9.781708112440418.\u001b[0m\n",
      "\u001b[32m[I 2023-04-26 14:02:22,174]\u001b[0m Trial 74 finished with value: 9.987676504522243 and parameters: {'n_estimators': 114, 'max_depth': 15, 'max_features': 10}. Best is trial 72 with value: 9.781708112440418.\u001b[0m\n",
      "\u001b[32m[I 2023-04-26 14:02:22,695]\u001b[0m Trial 75 finished with value: 9.715823699832939 and parameters: {'n_estimators': 75, 'max_depth': 15, 'max_features': 10}. Best is trial 75 with value: 9.715823699832939.\u001b[0m\n",
      "\u001b[32m[I 2023-04-26 14:02:23,291]\u001b[0m Trial 76 finished with value: 9.899372159010928 and parameters: {'n_estimators': 93, 'max_depth': 13, 'max_features': 10}. Best is trial 75 with value: 9.715823699832939.\u001b[0m\n",
      "\u001b[32m[I 2023-04-26 14:02:23,774]\u001b[0m Trial 77 finished with value: 10.147976052684387 and parameters: {'n_estimators': 69, 'max_depth': 14, 'max_features': 10}. Best is trial 75 with value: 9.715823699832939.\u001b[0m\n",
      "\u001b[32m[I 2023-04-26 14:02:24,490]\u001b[0m Trial 78 finished with value: 9.890104579478065 and parameters: {'n_estimators': 102, 'max_depth': 15, 'max_features': 10}. Best is trial 75 with value: 9.715823699832939.\u001b[0m\n",
      "\u001b[32m[I 2023-04-26 14:02:25,108]\u001b[0m Trial 79 finished with value: 10.07298269923106 and parameters: {'n_estimators': 100, 'max_depth': 12, 'max_features': 10}. Best is trial 75 with value: 9.715823699832939.\u001b[0m\n",
      "\u001b[32m[I 2023-04-26 14:02:25,484]\u001b[0m Trial 80 finished with value: 11.796637271354326 and parameters: {'n_estimators': 86, 'max_depth': 15, 'max_features': 4}. Best is trial 75 with value: 9.715823699832939.\u001b[0m\n",
      "\u001b[32m[I 2023-04-26 14:02:26,035]\u001b[0m Trial 81 finished with value: 9.745556351644577 and parameters: {'n_estimators': 76, 'max_depth': 15, 'max_features': 10}. Best is trial 75 with value: 9.715823699832939.\u001b[0m\n",
      "\u001b[32m[I 2023-04-26 14:02:26,579]\u001b[0m Trial 82 finished with value: 9.710531343453022 and parameters: {'n_estimators': 78, 'max_depth': 15, 'max_features': 10}. Best is trial 82 with value: 9.710531343453022.\u001b[0m\n",
      "\u001b[32m[I 2023-04-26 14:02:27,092]\u001b[0m Trial 83 finished with value: 10.147279679475629 and parameters: {'n_estimators': 75, 'max_depth': 14, 'max_features': 10}. Best is trial 82 with value: 9.710531343453022.\u001b[0m\n",
      "\u001b[32m[I 2023-04-26 14:02:27,473]\u001b[0m Trial 84 finished with value: 10.852246996789132 and parameters: {'n_estimators': 81, 'max_depth': 15, 'max_features': 5}. Best is trial 82 with value: 9.710531343453022.\u001b[0m\n",
      "\u001b[32m[I 2023-04-26 14:02:28,097]\u001b[0m Trial 85 finished with value: 9.815562322063553 and parameters: {'n_estimators': 89, 'max_depth': 15, 'max_features': 10}. Best is trial 82 with value: 9.710531343453022.\u001b[0m\n",
      "\u001b[32m[I 2023-04-26 14:02:28,743]\u001b[0m Trial 86 finished with value: 9.843228885523644 and parameters: {'n_estimators': 87, 'max_depth': 15, 'max_features': 10}. Best is trial 82 with value: 9.710531343453022.\u001b[0m\n",
      "\u001b[32m[I 2023-04-26 14:02:29,326]\u001b[0m Trial 87 finished with value: 9.770165164393926 and parameters: {'n_estimators': 68, 'max_depth': 15, 'max_features': 10}. Best is trial 82 with value: 9.710531343453022.\u001b[0m\n",
      "\u001b[32m[I 2023-04-26 14:02:29,892]\u001b[0m Trial 88 finished with value: 9.745556351644577 and parameters: {'n_estimators': 76, 'max_depth': 15, 'max_features': 10}. Best is trial 82 with value: 9.710531343453022.\u001b[0m\n",
      "\u001b[32m[I 2023-04-26 14:02:30,369]\u001b[0m Trial 89 finished with value: 10.04039026995381 and parameters: {'n_estimators': 67, 'max_depth': 14, 'max_features': 10}. Best is trial 82 with value: 9.710531343453022.\u001b[0m\n",
      "\u001b[32m[I 2023-04-26 14:02:30,984]\u001b[0m Trial 90 finished with value: 9.710531343453022 and parameters: {'n_estimators': 78, 'max_depth': 15, 'max_features': 10}. Best is trial 82 with value: 9.710531343453022.\u001b[0m\n",
      "\u001b[32m[I 2023-04-26 14:02:31,534]\u001b[0m Trial 91 finished with value: 9.715823699832939 and parameters: {'n_estimators': 75, 'max_depth': 15, 'max_features': 10}. Best is trial 82 with value: 9.710531343453022.\u001b[0m\n",
      "\u001b[32m[I 2023-04-26 14:02:32,107]\u001b[0m Trial 92 finished with value: 9.739625238808635 and parameters: {'n_estimators': 74, 'max_depth': 15, 'max_features': 10}. Best is trial 82 with value: 9.710531343453022.\u001b[0m\n",
      "\u001b[32m[I 2023-04-26 14:02:32,570]\u001b[0m Trial 93 finished with value: 9.664922253234332 and parameters: {'n_estimators': 60, 'max_depth': 15, 'max_features': 10}. Best is trial 93 with value: 9.664922253234332.\u001b[0m\n",
      "\u001b[32m[I 2023-04-26 14:02:33,003]\u001b[0m Trial 94 finished with value: 10.013373234608592 and parameters: {'n_estimators': 60, 'max_depth': 15, 'max_features': 9}. Best is trial 93 with value: 9.664922253234332.\u001b[0m\n",
      "\u001b[32m[I 2023-04-26 14:02:33,558]\u001b[0m Trial 95 finished with value: 10.147279679475629 and parameters: {'n_estimators': 75, 'max_depth': 14, 'max_features': 10}. Best is trial 93 with value: 9.664922253234332.\u001b[0m\n",
      "\u001b[32m[I 2023-04-26 14:02:34,041]\u001b[0m Trial 96 finished with value: 9.781708112440418 and parameters: {'n_estimators': 66, 'max_depth': 15, 'max_features': 10}. Best is trial 93 with value: 9.664922253234332.\u001b[0m\n",
      "\u001b[32m[I 2023-04-26 14:02:34,440]\u001b[0m Trial 97 finished with value: 10.036468171964275 and parameters: {'n_estimators': 58, 'max_depth': 15, 'max_features': 9}. Best is trial 93 with value: 9.664922253234332.\u001b[0m\n",
      "\u001b[32m[I 2023-04-26 14:02:34,929]\u001b[0m Trial 98 finished with value: 10.445851773582662 and parameters: {'n_estimators': 75, 'max_depth': 14, 'max_features': 9}. Best is trial 93 with value: 9.664922253234332.\u001b[0m\n",
      "\u001b[32m[I 2023-04-26 14:02:35,514]\u001b[0m Trial 99 finished with value: 9.814819794032898 and parameters: {'n_estimators': 81, 'max_depth': 15, 'max_features': 10}. Best is trial 93 with value: 9.664922253234332.\u001b[0m\n"
     ]
    }
   ],
   "source": [
    "# Define an objective to maximize or minimize (here, we minimize MSE)\n",
    "\n",
    "def objective(trial):\n",
    "    # Use ranges of parameters equal to the range covered by grid search\n",
    "    n_estimators = trial.suggest_int('n_estimators', 50, 300, 1)\n",
    "    max_depth = trial.suggest_int('max_depth', 5, 15, 1)\n",
    "    max_features = trial.suggest_int('max_features', 3, 10, 1)\n",
    "    \n",
    "    # Train and fit RFR\n",
    "    rf = RandomForestRegressor(n_estimators=n_estimators, max_depth=max_depth, max_features= max_features, random_state=RANDOM_SEED)\n",
    "    rf.fit(X_train, y_train)\n",
    "\n",
    "    # Make and score predictions\n",
    "    pred=rf.predict(X_test)\n",
    "    score = mean_squared_error(y_test,pred)\n",
    "    \n",
    "    return score\n",
    "\n",
    "# Run and time optimization\n",
    "start = time.time()                              \n",
    "study = optuna.create_study(\n",
    "    direction='minimize',\n",
    "    # Also add this study to the dashboard\n",
    "    storage=\"sqlite:///db.sqlite3\",  \n",
    "    study_name=\"co2-emissions\")\n",
    "study.optimize(objective, n_trials=100)\n",
    "end = time.time()"
   ]
  },
  {
   "attachments": {},
   "cell_type": "markdown",
   "id": "16aef766",
   "metadata": {},
   "source": [
    "We see that the Optuna optimization took the following time to execute:"
   ]
  },
  {
   "cell_type": "code",
   "execution_count": 20,
   "id": "117181c7",
   "metadata": {},
   "outputs": [
    {
     "name": "stdout",
     "output_type": "stream",
     "text": [
      "Elapsed time: 1 minutes, 5 seconds\n"
     ]
    }
   ],
   "source": [
    "# Display time elapsed\n",
    "print_elapsed_time(start,end)"
   ]
  },
  {
   "attachments": {},
   "cell_type": "markdown",
   "id": "0b19f361",
   "metadata": {},
   "source": [
    "We can also can view the optimal parameters that Optuna found across 100 trials:"
   ]
  },
  {
   "cell_type": "code",
   "execution_count": 21,
   "id": "0847c7fc",
   "metadata": {},
   "outputs": [
    {
     "data": {
      "text/plain": [
       "FrozenTrial(number=93, state=TrialState.COMPLETE, values=[9.664922253234332], datetime_start=datetime.datetime(2023, 4, 26, 14, 2, 32, 111779), datetime_complete=datetime.datetime(2023, 4, 26, 14, 2, 32, 563917), params={'max_depth': 15, 'max_features': 10, 'n_estimators': 60}, user_attrs={}, system_attrs={}, intermediate_values={}, distributions={'max_depth': IntDistribution(high=15, log=False, low=5, step=1), 'max_features': IntDistribution(high=10, log=False, low=3, step=1), 'n_estimators': IntDistribution(high=300, log=False, low=50, step=1)}, trial_id=194, value=None)"
      ]
     },
     "execution_count": 21,
     "metadata": {},
     "output_type": "execute_result"
    }
   ],
   "source": [
    "# Display results of best trial\n",
    "study.best_trial"
   ]
  },
  {
   "cell_type": "code",
   "execution_count": 22,
   "id": "2a10af96",
   "metadata": {},
   "outputs": [
    {
     "data": {
      "text/plain": [
       "{'max_depth': 15, 'max_features': 10, 'n_estimators': 60}"
      ]
     },
     "execution_count": 22,
     "metadata": {},
     "output_type": "execute_result"
    }
   ],
   "source": [
    "study.best_params"
   ]
  },
  {
   "attachments": {},
   "cell_type": "markdown",
   "id": "0c6644da",
   "metadata": {},
   "source": [
    "Finally, we use this optimized set of parameters and apply it to our model and get out the final metric scores for Optuna."
   ]
  },
  {
   "cell_type": "code",
   "execution_count": 23,
   "id": "65582f83",
   "metadata": {},
   "outputs": [
    {
     "name": "stdout",
     "output_type": "stream",
     "text": [
      "Mean Absolute Error (MAE): 1.691188050128803\n",
      "Mean Absolute Percentage Error (MAPE): 0.007015950042615298\n",
      "Mean Squared Error (MSE): 9.664922253234332\n"
     ]
    }
   ],
   "source": [
    "best_params = study.best_params\n",
    "\n",
    "# Re-fit classifier with optimal parameters\n",
    "rf = RandomForestRegressor(max_depth=best_params[\"max_depth\"] ,max_features=best_params[\"max_features\"] ,n_estimators=best_params[\"n_estimators\"], random_state=RANDOM_SEED)\n",
    "rf.fit(X_train, y_train)\n",
    "y_pred = rf.predict(X_test)\n",
    "\n",
    "# Calculate and print metrics\n",
    "print('Mean Absolute Error (MAE):', mean_absolute_error(y_test, y_pred))\n",
    "print('Mean Absolute Percentage Error (MAPE):', mean_absolute_percentage_error(y_test, y_pred))\n",
    "print('Mean Squared Error (MSE):', mean_squared_error(y_test, y_pred))"
   ]
  }
 ],
 "metadata": {
  "kernelspec": {
   "display_name": "Python 3 (ipykernel)",
   "language": "python",
   "name": "python3"
  },
  "language_info": {
   "codemirror_mode": {
    "name": "ipython",
    "version": 3
   },
   "file_extension": ".py",
   "mimetype": "text/x-python",
   "name": "python",
   "nbconvert_exporter": "python",
   "pygments_lexer": "ipython3",
   "version": "3.9.6"
  }
 },
 "nbformat": 4,
 "nbformat_minor": 5
}
