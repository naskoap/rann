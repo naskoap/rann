{
 "cells": [
  {
   "attachments": {},
   "cell_type": "markdown",
   "metadata": {},
   "source": [
    "This file cleans the original CO2 emissions data (as downloaded directly from Kaggle) and cleans it into a format that can be used with sklearn's `RandomForestRegressor` (RFR.)\n",
    "\n",
    "This new file is then saved as `emissions_cleaned.csv`, which is the file used in the experiments."
   ]
  },
  {
   "cell_type": "code",
   "execution_count": 2,
   "metadata": {},
   "outputs": [],
   "source": [
    "# Load Data\n",
    "import pandas as pd\n",
    "emissions = pd.read_csv(\"CO2_Emissions_Canada.csv\")"
   ]
  },
  {
   "attachments": {},
   "cell_type": "markdown",
   "metadata": {},
   "source": [
    "Below we view the original column names and note that they have spaces and other characters that are not easy to work with, so we clean these up."
   ]
  },
  {
   "cell_type": "code",
   "execution_count": 3,
   "metadata": {},
   "outputs": [
    {
     "data": {
      "text/plain": [
       "Index(['Make', 'Model', 'Vehicle Class', 'Engine Size(L)', 'Cylinders',\n",
       "       'Transmission', 'Fuel Type', 'Fuel Consumption City (L/100 km)',\n",
       "       'Fuel Consumption Hwy (L/100 km)', 'Fuel Consumption Comb (L/100 km)',\n",
       "       'Fuel Consumption Comb (mpg)', 'CO2 Emissions(g/km)'],\n",
       "      dtype='object')"
      ]
     },
     "execution_count": 3,
     "metadata": {},
     "output_type": "execute_result"
    }
   ],
   "source": [
    "emissions.columns"
   ]
  },
  {
   "cell_type": "code",
   "execution_count": 4,
   "metadata": {},
   "outputs": [],
   "source": [
    "# Rename columns\n",
    "cols = [\"make\", \"model\", \"class\", \"engine_size\", \"cyl\", \"transmission\", \"fuel_type\", \"fuel_consump_city\", \"fuel_consump_hwy\", \"fuel_consump_comb\", \"fuel_consump_comb_mpg\", \"co2_emissions\"]\n",
    "emissions.columns = cols"
   ]
  },
  {
   "attachments": {},
   "cell_type": "markdown",
   "metadata": {},
   "source": [
    "For the purposes of our analysis, we only need a handful of columns, so to simplify the data, we remove some columns that are hard to break down into a format that can be used by the RFR model or not that useful. Specifically, those categorical variables with many different categories or those that are somewhat duplicates of other columns. "
   ]
  },
  {
   "cell_type": "code",
   "execution_count": 5,
   "metadata": {},
   "outputs": [],
   "source": [
    "# Drop columns that are hard to subcategorize\n",
    "emissions = emissions.drop([\"fuel_consump_comb_mpg\", \"make\", \"model\", \"transmission\"], axis=1)"
   ]
  },
  {
   "attachments": {},
   "cell_type": "markdown",
   "metadata": {},
   "source": [
    "Next, we group the many classes of vehicles into larger categories so we have fewer to work with (compact, SUV/minivan, sedan or similar, truck, other)."
   ]
  },
  {
   "cell_type": "code",
   "execution_count": 6,
   "metadata": {},
   "outputs": [
    {
     "data": {
      "text/plain": [
       "array(['COMPACT', 'SUV - SMALL', 'MID-SIZE', 'TWO-SEATER', 'MINICOMPACT',\n",
       "       'SUBCOMPACT', 'FULL-SIZE', 'STATION WAGON - SMALL',\n",
       "       'SUV - STANDARD', 'VAN - CARGO', 'VAN - PASSENGER',\n",
       "       'PICKUP TRUCK - STANDARD', 'MINIVAN', 'SPECIAL PURPOSE VEHICLE',\n",
       "       'STATION WAGON - MID-SIZE', 'PICKUP TRUCK - SMALL'], dtype=object)"
      ]
     },
     "execution_count": 6,
     "metadata": {},
     "output_type": "execute_result"
    }
   ],
   "source": [
    "emissions[\"class\"].unique()"
   ]
  },
  {
   "cell_type": "code",
   "execution_count": 7,
   "metadata": {},
   "outputs": [],
   "source": [
    "# Group vehicle class into larger categories\n",
    "def group_class(row):\n",
    "    if row[\"class\"] in [\"COMPACT\", \"MINICOMPACT\", \"SUBCOMPACT\", \"TWO-SEATER\"]:\n",
    "        val = \"compact\"\n",
    "    elif row[\"class\"] in [\"SUV - SMALL\", \"SUV - STANDARD\", \"MINIVAN\"]:\n",
    "        val = \"SUV_minivan\"\n",
    "    elif row[\"class\"] in [\"MID-SIZE\", \"FULL-SIZE\", \"STATION WAGON - SMALL\", \"STATION WAGON - MID-SIZE\"]:\n",
    "        val = \"sedan_or_similar\"\n",
    "    elif row[\"class\"] in [\"PICKUP TRUCK - SMALL\", \"PICKUP TRUCK - STANDARD\"]:\n",
    "        val = \"truck\"\n",
    "    else:\n",
    "        val = \"other\"\n",
    "    return val\n",
    "\n",
    "emissions[\"class\"] = emissions.apply(group_class, axis=1)\n"
   ]
  },
  {
   "attachments": {},
   "cell_type": "markdown",
   "metadata": {},
   "source": [
    "Then we one hot encode our remaining categorical varibles, since RFR does not accept categorical data."
   ]
  },
  {
   "cell_type": "code",
   "execution_count": 8,
   "metadata": {},
   "outputs": [],
   "source": [
    "# One hot encode fuel type variable and car class variable\n",
    "one_hot_fuel = pd.get_dummies(emissions['fuel_type'])\n",
    "one_hot_class = pd.get_dummies(emissions['class'])\n",
    "\n",
    "emissions = emissions.join(one_hot_fuel)\n",
    "emissions = emissions.join(one_hot_class)\n",
    "emissions = emissions.drop(['fuel_type', 'class'],axis = 1)"
   ]
  },
  {
   "attachments": {},
   "cell_type": "markdown",
   "metadata": {},
   "source": [
    "Then, rename our new modified columns to match the style we want"
   ]
  },
  {
   "cell_type": "code",
   "execution_count": 9,
   "metadata": {},
   "outputs": [],
   "source": [
    "# Rename columns again after one hot encoding\n",
    "cols = ['engine_size', 'cyl', 'fuel_consump_city', 'fuel_consump_hwy',\n",
    "       'fuel_consump_comb', 'co2_emissions', \"fuel_diesel\", \"fuel_ethanol\", \"fuel_natgas\", \"fuel_regular\", \"fuel_premium\", \"class_SUV_minivan\", \"class_compact\", \"class_other\", \"class_sedan_or_similar\", \"class_truck\"]\n",
    "emissions.columns = cols"
   ]
  },
  {
   "attachments": {},
   "cell_type": "markdown",
   "metadata": {},
   "source": [
    "Finally, replace values of True/False with 1 and 0, since True/False aren't recognized by RFR."
   ]
  },
  {
   "cell_type": "code",
   "execution_count": 10,
   "metadata": {},
   "outputs": [],
   "source": [
    "# Replace True/False with 1/0\n",
    "emissions = emissions.replace(True, 1).replace(False, 0)"
   ]
  },
  {
   "attachments": {},
   "cell_type": "markdown",
   "metadata": {},
   "source": [
    "The new data looks as follows:"
   ]
  },
  {
   "cell_type": "code",
   "execution_count": 11,
   "metadata": {},
   "outputs": [
    {
     "data": {
      "text/html": [
       "<div>\n",
       "<style scoped>\n",
       "    .dataframe tbody tr th:only-of-type {\n",
       "        vertical-align: middle;\n",
       "    }\n",
       "\n",
       "    .dataframe tbody tr th {\n",
       "        vertical-align: top;\n",
       "    }\n",
       "\n",
       "    .dataframe thead th {\n",
       "        text-align: right;\n",
       "    }\n",
       "</style>\n",
       "<table border=\"1\" class=\"dataframe\">\n",
       "  <thead>\n",
       "    <tr style=\"text-align: right;\">\n",
       "      <th></th>\n",
       "      <th>engine_size</th>\n",
       "      <th>cyl</th>\n",
       "      <th>fuel_consump_city</th>\n",
       "      <th>fuel_consump_hwy</th>\n",
       "      <th>fuel_consump_comb</th>\n",
       "      <th>co2_emissions</th>\n",
       "      <th>fuel_diesel</th>\n",
       "      <th>fuel_ethanol</th>\n",
       "      <th>fuel_natgas</th>\n",
       "      <th>fuel_regular</th>\n",
       "      <th>fuel_premium</th>\n",
       "      <th>class_SUV_minivan</th>\n",
       "      <th>class_compact</th>\n",
       "      <th>class_other</th>\n",
       "      <th>class_sedan_or_similar</th>\n",
       "      <th>class_truck</th>\n",
       "    </tr>\n",
       "  </thead>\n",
       "  <tbody>\n",
       "    <tr>\n",
       "      <th>0</th>\n",
       "      <td>2.0</td>\n",
       "      <td>4</td>\n",
       "      <td>9.9</td>\n",
       "      <td>6.7</td>\n",
       "      <td>8.5</td>\n",
       "      <td>196</td>\n",
       "      <td>0</td>\n",
       "      <td>0</td>\n",
       "      <td>0</td>\n",
       "      <td>0</td>\n",
       "      <td>1</td>\n",
       "      <td>0</td>\n",
       "      <td>1</td>\n",
       "      <td>0</td>\n",
       "      <td>0</td>\n",
       "      <td>0</td>\n",
       "    </tr>\n",
       "    <tr>\n",
       "      <th>1</th>\n",
       "      <td>2.4</td>\n",
       "      <td>4</td>\n",
       "      <td>11.2</td>\n",
       "      <td>7.7</td>\n",
       "      <td>9.6</td>\n",
       "      <td>221</td>\n",
       "      <td>0</td>\n",
       "      <td>0</td>\n",
       "      <td>0</td>\n",
       "      <td>0</td>\n",
       "      <td>1</td>\n",
       "      <td>0</td>\n",
       "      <td>1</td>\n",
       "      <td>0</td>\n",
       "      <td>0</td>\n",
       "      <td>0</td>\n",
       "    </tr>\n",
       "    <tr>\n",
       "      <th>2</th>\n",
       "      <td>1.5</td>\n",
       "      <td>4</td>\n",
       "      <td>6.0</td>\n",
       "      <td>5.8</td>\n",
       "      <td>5.9</td>\n",
       "      <td>136</td>\n",
       "      <td>0</td>\n",
       "      <td>0</td>\n",
       "      <td>0</td>\n",
       "      <td>0</td>\n",
       "      <td>1</td>\n",
       "      <td>0</td>\n",
       "      <td>1</td>\n",
       "      <td>0</td>\n",
       "      <td>0</td>\n",
       "      <td>0</td>\n",
       "    </tr>\n",
       "  </tbody>\n",
       "</table>\n",
       "</div>"
      ],
      "text/plain": [
       "   engine_size  cyl  fuel_consump_city  fuel_consump_hwy  fuel_consump_comb  \\\n",
       "0          2.0    4                9.9               6.7                8.5   \n",
       "1          2.4    4               11.2               7.7                9.6   \n",
       "2          1.5    4                6.0               5.8                5.9   \n",
       "\n",
       "   co2_emissions  fuel_diesel  fuel_ethanol  fuel_natgas  fuel_regular  \\\n",
       "0            196            0             0            0             0   \n",
       "1            221            0             0            0             0   \n",
       "2            136            0             0            0             0   \n",
       "\n",
       "   fuel_premium  class_SUV_minivan  class_compact  class_other  \\\n",
       "0             1                  0              1            0   \n",
       "1             1                  0              1            0   \n",
       "2             1                  0              1            0   \n",
       "\n",
       "   class_sedan_or_similar  class_truck  \n",
       "0                       0            0  \n",
       "1                       0            0  \n",
       "2                       0            0  "
      ]
     },
     "execution_count": 11,
     "metadata": {},
     "output_type": "execute_result"
    }
   ],
   "source": [
    "emissions.head(3)"
   ]
  },
  {
   "cell_type": "code",
   "execution_count": 53,
   "metadata": {},
   "outputs": [],
   "source": [
    "# Save cleaned data to CSV\n",
    "emissions.to_csv(\"emissions_cleaned.csv\", index=False)"
   ]
  }
 ],
 "metadata": {
  "kernelspec": {
   "display_name": "venv",
   "language": "python",
   "name": "python3"
  },
  "language_info": {
   "codemirror_mode": {
    "name": "ipython",
    "version": 3
   },
   "file_extension": ".py",
   "mimetype": "text/x-python",
   "name": "python",
   "nbconvert_exporter": "python",
   "pygments_lexer": "ipython3",
   "version": "3.9.6"
  },
  "orig_nbformat": 4
 },
 "nbformat": 4,
 "nbformat_minor": 2
}
