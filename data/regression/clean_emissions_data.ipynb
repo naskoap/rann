{
 "cells": [
  {
   "attachments": {},
   "cell_type": "markdown",
   "metadata": {},
   "source": [
    "This file cleans the original CO2 emissions data (as downloaded directly from Kaggle) and cleans it into a format that can be used with sklearn's `RandomForestRegressor` (RFR.)\n",
    "\n",
    "This new file is then saved as `emissions_cleaned.csv`, which is the file used in the experiments."
   ]
  },
  {
   "cell_type": "code",
   "execution_count": 38,
   "metadata": {},
   "outputs": [],
   "source": [
    "# Load Data\n",
    "import pandas as pd\n",
    "emissions = pd.read_csv(\"CO2_Emissions_Canada.csv\")"
   ]
  },
  {
   "attachments": {},
   "cell_type": "markdown",
   "metadata": {},
   "source": [
    "Below we view the original column names and note that they have spaces and other characters that are not easy to work with, so we clean these up."
   ]
  },
  {
   "cell_type": "code",
   "execution_count": 39,
   "metadata": {},
   "outputs": [
    {
     "data": {
      "text/plain": [
       "Index(['Make', 'Model', 'Vehicle Class', 'Engine Size(L)', 'Cylinders',\n",
       "       'Transmission', 'Fuel Type', 'Fuel Consumption City (L/100 km)',\n",
       "       'Fuel Consumption Hwy (L/100 km)', 'Fuel Consumption Comb (L/100 km)',\n",
       "       'Fuel Consumption Comb (mpg)', 'CO2 Emissions(g/km)'],\n",
       "      dtype='object')"
      ]
     },
     "execution_count": 39,
     "metadata": {},
     "output_type": "execute_result"
    }
   ],
   "source": [
    "emissions.columns"
   ]
  },
  {
   "cell_type": "code",
   "execution_count": 40,
   "metadata": {},
   "outputs": [],
   "source": [
    "# Rename columns\n",
    "cols = [\"make\", \"model\", \"class\", \"engine_size\", \"cyl\", \"transmission\", \"fuel_type\", \"fuel_consump_city\", \"fuel_consump_hwy\", \"fuel_consump_comb\", \"fuel_consump_comb_mpg\", \"co2_emissions\"]\n",
    "emissions.columns = cols"
   ]
  },
  {
   "attachments": {},
   "cell_type": "markdown",
   "metadata": {},
   "source": [
    "For the purposes of our analysis, we only need a handful of columns, so to simplify the data, we remove some columns that are hard to break down into a format that can be used by the RFR model or not that useful. Specifically, those categorical variables with many different categories or those that are somewhat duplicates of other columns. "
   ]
  },
  {
   "cell_type": "code",
   "execution_count": 41,
   "metadata": {},
   "outputs": [],
   "source": [
    "# Drop columns that are hard to subcategorize\n",
    "emissions = emissions.drop([\"fuel_consump_comb_mpg\", \"make\", \"model\", \"transmission\"], axis=1)\n"
   ]
  },
  {
   "attachments": {},
   "cell_type": "markdown",
   "metadata": {},
   "source": [
    "Next, we group the many classes of vehicles into larger categories so we have fewer to work with (compact, SUV/minivan, sedan or similar, truck, other)."
   ]
  },
  {
   "cell_type": "code",
   "execution_count": 28,
   "metadata": {},
   "outputs": [
    {
     "data": {
      "text/plain": [
       "array(['COMPACT', 'SUV - SMALL', 'MID-SIZE', 'TWO-SEATER', 'MINICOMPACT',\n",
       "       'SUBCOMPACT', 'FULL-SIZE', 'STATION WAGON - SMALL',\n",
       "       'SUV - STANDARD', 'VAN - CARGO', 'VAN - PASSENGER',\n",
       "       'PICKUP TRUCK - STANDARD', 'MINIVAN', 'SPECIAL PURPOSE VEHICLE',\n",
       "       'STATION WAGON - MID-SIZE', 'PICKUP TRUCK - SMALL'], dtype=object)"
      ]
     },
     "execution_count": 28,
     "metadata": {},
     "output_type": "execute_result"
    }
   ],
   "source": [
    "emissions[\"class\"].unique()"
   ]
  },
  {
   "cell_type": "code",
   "execution_count": 42,
   "metadata": {},
   "outputs": [],
   "source": [
    "# Group vehicle class into larger categories\n",
    "def group_class(row):\n",
    "    if row[\"class\"] in [\"COMPACT\", \"MINICOMPACT\", \"SUBCOMPACT\", \"TWO-SEATER\"]:\n",
    "        val = \"compact\"\n",
    "    elif row[\"class\"] in [\"SUV - SMALL\", \"SUV - STANDARD\", \"MINIVAN\"]:\n",
    "        val = \"SUV_minivan\"\n",
    "    elif row[\"class\"] in [\"MID-SIZE\", \"FULL-SIZE\", \"STATION WAGON - SMALL\", \"STATION WAGON - MID-SIZE\"]:\n",
    "        val = \"sedan_or_similar\"\n",
    "    elif row[\"class\"] in [\"PICKUP TRUCK - SMALL\", \"PICKUP TRUCK - STANDARD\"]:\n",
    "        val = \"truck\"\n",
    "    else:\n",
    "        val = \"other\"\n",
    "    return val\n",
    "\n",
    "emissions[\"class\"] = emissions.apply(group_class, axis=1)\n"
   ]
  },
  {
   "attachments": {},
   "cell_type": "markdown",
   "metadata": {},
   "source": [
    "Then we one hot encode our remaining categorical varibles, since RFR does not accept categorical data."
   ]
  },
  {
   "cell_type": "code",
   "execution_count": 43,
   "metadata": {},
   "outputs": [],
   "source": [
    "# One hot encode fuel type variable and car class variable\n",
    "one_hot_fuel = pd.get_dummies(emissions['fuel_type'])\n",
    "one_hot_class = pd.get_dummies(emissions['class'])\n",
    "\n",
    "emissions = emissions.join(one_hot_fuel)\n",
    "emissions = emissions.join(one_hot_class)\n",
    "emissions = emissions.drop(['fuel_type', 'class'],axis = 1)\n"
   ]
  },
  {
   "attachments": {},
   "cell_type": "markdown",
   "metadata": {},
   "source": [
    "Then, rename our new modified columns to match the style we want"
   ]
  },
  {
   "cell_type": "code",
   "execution_count": 46,
   "metadata": {},
   "outputs": [],
   "source": [
    "# Rename columns again after one hot encoding\n",
    "cols = ['engine_size', 'cyl', 'fuel_consump_city', 'fuel_consump_hwy',\n",
    "       'fuel_consump_comb', 'co2_emissions', \"fuel_diesel\", \"fuel_ethanol\", \"fuel_natgas\", \"fuel_regular\", \"fuel_premium\", \"class_SUV_minivan\", \"class_compact\", \"class_other\", \"class_sedan_or_similar\", \"class_truck\"]\n",
    "emissions.columns = cols"
   ]
  },
  {
   "attachments": {},
   "cell_type": "markdown",
   "metadata": {},
   "source": [
    "Finally, replace values of True/False with 1 and 0, since True/False aren't recognized by RFR."
   ]
  },
  {
   "cell_type": "code",
   "execution_count": 50,
   "metadata": {},
   "outputs": [],
   "source": [
    "# Replace True/False with 1/0\n",
    "emissions = emissions.replace(True, 1).replace(False, 0)"
   ]
  },
  {
   "attachments": {},
   "cell_type": "markdown",
   "metadata": {},
   "source": [
    "The new data looks as follows:"
   ]
  },
  {
   "cell_type": "code",
   "execution_count": 51,
   "metadata": {},
   "outputs": [
    {
     "data": {
      "text/html": [
       "<div>\n",
       "<style scoped>\n",
       "    .dataframe tbody tr th:only-of-type {\n",
       "        vertical-align: middle;\n",
       "    }\n",
       "\n",
       "    .dataframe tbody tr th {\n",
       "        vertical-align: top;\n",
       "    }\n",
       "\n",
       "    .dataframe thead th {\n",
       "        text-align: right;\n",
       "    }\n",
       "</style>\n",
       "<table border=\"1\" class=\"dataframe\">\n",
       "  <thead>\n",
       "    <tr style=\"text-align: right;\">\n",
       "      <th></th>\n",
       "      <th>engine_size</th>\n",
       "      <th>cyl</th>\n",
       "      <th>fuel_consump_city</th>\n",
       "      <th>fuel_consump_hwy</th>\n",
       "      <th>fuel_consump_comb</th>\n",
       "      <th>co2_emissions</th>\n",
       "      <th>fuel_diesel</th>\n",
       "      <th>fuel_ethanol</th>\n",
       "      <th>fuel_natgas</th>\n",
       "      <th>fuel_regular</th>\n",
       "      <th>fuel_premium</th>\n",
       "      <th>class_SUV_minivan</th>\n",
       "      <th>class_compact</th>\n",
       "      <th>class_other</th>\n",
       "      <th>class_sedan_or_similar</th>\n",
       "      <th>class_truck</th>\n",
       "    </tr>\n",
       "  </thead>\n",
       "  <tbody>\n",
       "    <tr>\n",
       "      <th>0</th>\n",
       "      <td>2.0</td>\n",
       "      <td>4</td>\n",
       "      <td>9.9</td>\n",
       "      <td>6.7</td>\n",
       "      <td>8.5</td>\n",
       "      <td>196</td>\n",
       "      <td>0</td>\n",
       "      <td>0</td>\n",
       "      <td>0</td>\n",
       "      <td>0</td>\n",
       "      <td>1</td>\n",
       "      <td>0</td>\n",
       "      <td>1</td>\n",
       "      <td>0</td>\n",
       "      <td>0</td>\n",
       "      <td>0</td>\n",
       "    </tr>\n",
       "    <tr>\n",
       "      <th>1</th>\n",
       "      <td>2.4</td>\n",
       "      <td>4</td>\n",
       "      <td>11.2</td>\n",
       "      <td>7.7</td>\n",
       "      <td>9.6</td>\n",
       "      <td>221</td>\n",
       "      <td>0</td>\n",
       "      <td>0</td>\n",
       "      <td>0</td>\n",
       "      <td>0</td>\n",
       "      <td>1</td>\n",
       "      <td>0</td>\n",
       "      <td>1</td>\n",
       "      <td>0</td>\n",
       "      <td>0</td>\n",
       "      <td>0</td>\n",
       "    </tr>\n",
       "    <tr>\n",
       "      <th>2</th>\n",
       "      <td>1.5</td>\n",
       "      <td>4</td>\n",
       "      <td>6.0</td>\n",
       "      <td>5.8</td>\n",
       "      <td>5.9</td>\n",
       "      <td>136</td>\n",
       "      <td>0</td>\n",
       "      <td>0</td>\n",
       "      <td>0</td>\n",
       "      <td>0</td>\n",
       "      <td>1</td>\n",
       "      <td>0</td>\n",
       "      <td>1</td>\n",
       "      <td>0</td>\n",
       "      <td>0</td>\n",
       "      <td>0</td>\n",
       "    </tr>\n",
       "    <tr>\n",
       "      <th>3</th>\n",
       "      <td>3.5</td>\n",
       "      <td>6</td>\n",
       "      <td>12.7</td>\n",
       "      <td>9.1</td>\n",
       "      <td>11.1</td>\n",
       "      <td>255</td>\n",
       "      <td>0</td>\n",
       "      <td>0</td>\n",
       "      <td>0</td>\n",
       "      <td>0</td>\n",
       "      <td>1</td>\n",
       "      <td>1</td>\n",
       "      <td>0</td>\n",
       "      <td>0</td>\n",
       "      <td>0</td>\n",
       "      <td>0</td>\n",
       "    </tr>\n",
       "    <tr>\n",
       "      <th>4</th>\n",
       "      <td>3.5</td>\n",
       "      <td>6</td>\n",
       "      <td>12.1</td>\n",
       "      <td>8.7</td>\n",
       "      <td>10.6</td>\n",
       "      <td>244</td>\n",
       "      <td>0</td>\n",
       "      <td>0</td>\n",
       "      <td>0</td>\n",
       "      <td>0</td>\n",
       "      <td>1</td>\n",
       "      <td>1</td>\n",
       "      <td>0</td>\n",
       "      <td>0</td>\n",
       "      <td>0</td>\n",
       "      <td>0</td>\n",
       "    </tr>\n",
       "    <tr>\n",
       "      <th>...</th>\n",
       "      <td>...</td>\n",
       "      <td>...</td>\n",
       "      <td>...</td>\n",
       "      <td>...</td>\n",
       "      <td>...</td>\n",
       "      <td>...</td>\n",
       "      <td>...</td>\n",
       "      <td>...</td>\n",
       "      <td>...</td>\n",
       "      <td>...</td>\n",
       "      <td>...</td>\n",
       "      <td>...</td>\n",
       "      <td>...</td>\n",
       "      <td>...</td>\n",
       "      <td>...</td>\n",
       "      <td>...</td>\n",
       "    </tr>\n",
       "    <tr>\n",
       "      <th>7380</th>\n",
       "      <td>2.0</td>\n",
       "      <td>4</td>\n",
       "      <td>10.7</td>\n",
       "      <td>7.7</td>\n",
       "      <td>9.4</td>\n",
       "      <td>219</td>\n",
       "      <td>0</td>\n",
       "      <td>0</td>\n",
       "      <td>0</td>\n",
       "      <td>0</td>\n",
       "      <td>1</td>\n",
       "      <td>1</td>\n",
       "      <td>0</td>\n",
       "      <td>0</td>\n",
       "      <td>0</td>\n",
       "      <td>0</td>\n",
       "    </tr>\n",
       "    <tr>\n",
       "      <th>7381</th>\n",
       "      <td>2.0</td>\n",
       "      <td>4</td>\n",
       "      <td>11.2</td>\n",
       "      <td>8.3</td>\n",
       "      <td>9.9</td>\n",
       "      <td>232</td>\n",
       "      <td>0</td>\n",
       "      <td>0</td>\n",
       "      <td>0</td>\n",
       "      <td>0</td>\n",
       "      <td>1</td>\n",
       "      <td>1</td>\n",
       "      <td>0</td>\n",
       "      <td>0</td>\n",
       "      <td>0</td>\n",
       "      <td>0</td>\n",
       "    </tr>\n",
       "    <tr>\n",
       "      <th>7382</th>\n",
       "      <td>2.0</td>\n",
       "      <td>4</td>\n",
       "      <td>11.7</td>\n",
       "      <td>8.6</td>\n",
       "      <td>10.3</td>\n",
       "      <td>240</td>\n",
       "      <td>0</td>\n",
       "      <td>0</td>\n",
       "      <td>0</td>\n",
       "      <td>0</td>\n",
       "      <td>1</td>\n",
       "      <td>1</td>\n",
       "      <td>0</td>\n",
       "      <td>0</td>\n",
       "      <td>0</td>\n",
       "      <td>0</td>\n",
       "    </tr>\n",
       "    <tr>\n",
       "      <th>7383</th>\n",
       "      <td>2.0</td>\n",
       "      <td>4</td>\n",
       "      <td>11.2</td>\n",
       "      <td>8.3</td>\n",
       "      <td>9.9</td>\n",
       "      <td>232</td>\n",
       "      <td>0</td>\n",
       "      <td>0</td>\n",
       "      <td>0</td>\n",
       "      <td>0</td>\n",
       "      <td>1</td>\n",
       "      <td>1</td>\n",
       "      <td>0</td>\n",
       "      <td>0</td>\n",
       "      <td>0</td>\n",
       "      <td>0</td>\n",
       "    </tr>\n",
       "    <tr>\n",
       "      <th>7384</th>\n",
       "      <td>2.0</td>\n",
       "      <td>4</td>\n",
       "      <td>12.2</td>\n",
       "      <td>8.7</td>\n",
       "      <td>10.7</td>\n",
       "      <td>248</td>\n",
       "      <td>0</td>\n",
       "      <td>0</td>\n",
       "      <td>0</td>\n",
       "      <td>0</td>\n",
       "      <td>1</td>\n",
       "      <td>1</td>\n",
       "      <td>0</td>\n",
       "      <td>0</td>\n",
       "      <td>0</td>\n",
       "      <td>0</td>\n",
       "    </tr>\n",
       "  </tbody>\n",
       "</table>\n",
       "<p>7385 rows × 16 columns</p>\n",
       "</div>"
      ],
      "text/plain": [
       "      engine_size  cyl  fuel_consump_city  fuel_consump_hwy   \n",
       "0             2.0    4                9.9               6.7  \\\n",
       "1             2.4    4               11.2               7.7   \n",
       "2             1.5    4                6.0               5.8   \n",
       "3             3.5    6               12.7               9.1   \n",
       "4             3.5    6               12.1               8.7   \n",
       "...           ...  ...                ...               ...   \n",
       "7380          2.0    4               10.7               7.7   \n",
       "7381          2.0    4               11.2               8.3   \n",
       "7382          2.0    4               11.7               8.6   \n",
       "7383          2.0    4               11.2               8.3   \n",
       "7384          2.0    4               12.2               8.7   \n",
       "\n",
       "      fuel_consump_comb  co2_emissions  fuel_diesel  fuel_ethanol   \n",
       "0                   8.5            196            0             0  \\\n",
       "1                   9.6            221            0             0   \n",
       "2                   5.9            136            0             0   \n",
       "3                  11.1            255            0             0   \n",
       "4                  10.6            244            0             0   \n",
       "...                 ...            ...          ...           ...   \n",
       "7380                9.4            219            0             0   \n",
       "7381                9.9            232            0             0   \n",
       "7382               10.3            240            0             0   \n",
       "7383                9.9            232            0             0   \n",
       "7384               10.7            248            0             0   \n",
       "\n",
       "      fuel_natgas  fuel_regular  fuel_premium  class_SUV_minivan   \n",
       "0               0             0             1                  0  \\\n",
       "1               0             0             1                  0   \n",
       "2               0             0             1                  0   \n",
       "3               0             0             1                  1   \n",
       "4               0             0             1                  1   \n",
       "...           ...           ...           ...                ...   \n",
       "7380            0             0             1                  1   \n",
       "7381            0             0             1                  1   \n",
       "7382            0             0             1                  1   \n",
       "7383            0             0             1                  1   \n",
       "7384            0             0             1                  1   \n",
       "\n",
       "      class_compact  class_other  class_sedan_or_similar  class_truck  \n",
       "0                 1            0                       0            0  \n",
       "1                 1            0                       0            0  \n",
       "2                 1            0                       0            0  \n",
       "3                 0            0                       0            0  \n",
       "4                 0            0                       0            0  \n",
       "...             ...          ...                     ...          ...  \n",
       "7380              0            0                       0            0  \n",
       "7381              0            0                       0            0  \n",
       "7382              0            0                       0            0  \n",
       "7383              0            0                       0            0  \n",
       "7384              0            0                       0            0  \n",
       "\n",
       "[7385 rows x 16 columns]"
      ]
     },
     "execution_count": 51,
     "metadata": {},
     "output_type": "execute_result"
    }
   ],
   "source": [
    "emissions"
   ]
  },
  {
   "cell_type": "code",
   "execution_count": 53,
   "metadata": {},
   "outputs": [],
   "source": [
    "emissions.to_csv(\"emissions_cleaned.csv\", index=False)"
   ]
  }
 ],
 "metadata": {
  "kernelspec": {
   "display_name": "venv",
   "language": "python",
   "name": "python3"
  },
  "language_info": {
   "codemirror_mode": {
    "name": "ipython",
    "version": 3
   },
   "file_extension": ".py",
   "mimetype": "text/x-python",
   "name": "python",
   "nbconvert_exporter": "python",
   "pygments_lexer": "ipython3",
   "version": "3.9.6"
  },
  "orig_nbformat": 4
 },
 "nbformat": 4,
 "nbformat_minor": 2
}
